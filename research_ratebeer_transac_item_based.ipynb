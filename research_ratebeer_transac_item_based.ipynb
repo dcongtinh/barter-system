{
 "metadata": {
  "language_info": {
   "codemirror_mode": {
    "name": "ipython",
    "version": 3
   },
   "file_extension": ".py",
   "mimetype": "text/x-python",
   "name": "python",
   "nbconvert_exporter": "python",
   "pygments_lexer": "ipython3",
   "version": "3.6.8"
  },
  "orig_nbformat": 2,
  "kernelspec": {
   "name": "python368jvsc74a57bd0aee8b7b246df8f9039afb4144a1f6fd8d2ca17a180786b69acc140d282b71a49",
   "display_name": "Python 3.6.8 64-bit"
  }
 },
 "nbformat": 4,
 "nbformat_minor": 2,
 "cells": [
  {
   "source": [
    "# Data walking through"
   ],
   "cell_type": "markdown",
   "metadata": {}
  },
  {
   "cell_type": "code",
   "execution_count": 1,
   "metadata": {},
   "outputs": [],
   "source": [
    "import pandas as pd \n",
    "import numpy as np"
   ]
  },
  {
   "cell_type": "code",
   "execution_count": 2,
   "metadata": {},
   "outputs": [
    {
     "output_type": "execute_result",
     "data": {
      "text/plain": [
       "        GiverID  ReceiverID  itemID   timestamp\n",
       "0         92478       68245  350701  1314860400\n",
       "1         11299      163679  151172  1362124800\n",
       "2         11259        9554    7688  1178002800\n",
       "3         11259        9554  355163  1178002800\n",
       "4        128373       10288  135888  1354348800\n",
       "...         ...         ...     ...         ...\n",
       "125660    15110       28921   32792  1296547200\n",
       "125661    15110       28921  244384  1309503600\n",
       "125662    15110       28921  329904  1314860400\n",
       "125663    28921       15110  148479  1362124800\n",
       "125664    28921       15110  244384  1362124800\n",
       "\n",
       "[125665 rows x 4 columns]"
      ],
      "text/html": "<div>\n<style scoped>\n    .dataframe tbody tr th:only-of-type {\n        vertical-align: middle;\n    }\n\n    .dataframe tbody tr th {\n        vertical-align: top;\n    }\n\n    .dataframe thead th {\n        text-align: right;\n    }\n</style>\n<table border=\"1\" class=\"dataframe\">\n  <thead>\n    <tr style=\"text-align: right;\">\n      <th></th>\n      <th>GiverID</th>\n      <th>ReceiverID</th>\n      <th>itemID</th>\n      <th>timestamp</th>\n    </tr>\n  </thead>\n  <tbody>\n    <tr>\n      <th>0</th>\n      <td>92478</td>\n      <td>68245</td>\n      <td>350701</td>\n      <td>1314860400</td>\n    </tr>\n    <tr>\n      <th>1</th>\n      <td>11299</td>\n      <td>163679</td>\n      <td>151172</td>\n      <td>1362124800</td>\n    </tr>\n    <tr>\n      <th>2</th>\n      <td>11259</td>\n      <td>9554</td>\n      <td>7688</td>\n      <td>1178002800</td>\n    </tr>\n    <tr>\n      <th>3</th>\n      <td>11259</td>\n      <td>9554</td>\n      <td>355163</td>\n      <td>1178002800</td>\n    </tr>\n    <tr>\n      <th>4</th>\n      <td>128373</td>\n      <td>10288</td>\n      <td>135888</td>\n      <td>1354348800</td>\n    </tr>\n    <tr>\n      <th>...</th>\n      <td>...</td>\n      <td>...</td>\n      <td>...</td>\n      <td>...</td>\n    </tr>\n    <tr>\n      <th>125660</th>\n      <td>15110</td>\n      <td>28921</td>\n      <td>32792</td>\n      <td>1296547200</td>\n    </tr>\n    <tr>\n      <th>125661</th>\n      <td>15110</td>\n      <td>28921</td>\n      <td>244384</td>\n      <td>1309503600</td>\n    </tr>\n    <tr>\n      <th>125662</th>\n      <td>15110</td>\n      <td>28921</td>\n      <td>329904</td>\n      <td>1314860400</td>\n    </tr>\n    <tr>\n      <th>125663</th>\n      <td>28921</td>\n      <td>15110</td>\n      <td>148479</td>\n      <td>1362124800</td>\n    </tr>\n    <tr>\n      <th>125664</th>\n      <td>28921</td>\n      <td>15110</td>\n      <td>244384</td>\n      <td>1362124800</td>\n    </tr>\n  </tbody>\n</table>\n<p>125665 rows × 4 columns</p>\n</div>"
     },
     "metadata": {},
     "execution_count": 2
    }
   ],
   "source": [
    "transac = pd.read_csv(\"dataset/ratebeer/transac.csv\", header=None)\n",
    "columns = [\"GiverID\", \"ReceiverID\", \"itemID\", \"timestamp\"]\n",
    "transac.columns = columns\n",
    "print(transac)"
   ]
  },
  {
   "cell_type": "code",
   "execution_count": 3,
   "metadata": {},
   "outputs": [
    {
     "output_type": "execute_result",
     "data": {
      "text/plain": [
       "                                                       itemID\n",
       "GiverID ReceiverID timestamp                                 \n",
       "39      5387       1064991600                           [624]\n",
       "        6250       1072944000                        [312514]\n",
       "                   1088665200   [11221, 18543, 49666, 342736]\n",
       "        7034       1196496000  [12944, 13618, 191628, 385120]\n",
       "        7084       1125558000                         [37652]\n",
       "...                                                       ...\n",
       "377816  371705     1438412400                        [151172]\n",
       "389912  336572     1446361200                        [369168]\n",
       "391561  132930     1454313600                [244595, 398498]\n",
       "395626  364565     1451635200                         [42012]\n",
       "398908  243454     1454313600                 [82772, 344237]\n",
       "\n",
       "[39082 rows x 1 columns]"
      ],
      "text/html": "<div>\n<style scoped>\n    .dataframe tbody tr th:only-of-type {\n        vertical-align: middle;\n    }\n\n    .dataframe tbody tr th {\n        vertical-align: top;\n    }\n\n    .dataframe thead th {\n        text-align: right;\n    }\n</style>\n<table border=\"1\" class=\"dataframe\">\n  <thead>\n    <tr style=\"text-align: right;\">\n      <th></th>\n      <th></th>\n      <th></th>\n      <th>itemID</th>\n    </tr>\n    <tr>\n      <th>GiverID</th>\n      <th>ReceiverID</th>\n      <th>timestamp</th>\n      <th></th>\n    </tr>\n  </thead>\n  <tbody>\n    <tr>\n      <th rowspan=\"5\" valign=\"top\">39</th>\n      <th>5387</th>\n      <th>1064991600</th>\n      <td>[624]</td>\n    </tr>\n    <tr>\n      <th rowspan=\"2\" valign=\"top\">6250</th>\n      <th>1072944000</th>\n      <td>[312514]</td>\n    </tr>\n    <tr>\n      <th>1088665200</th>\n      <td>[11221, 18543, 49666, 342736]</td>\n    </tr>\n    <tr>\n      <th>7034</th>\n      <th>1196496000</th>\n      <td>[12944, 13618, 191628, 385120]</td>\n    </tr>\n    <tr>\n      <th>7084</th>\n      <th>1125558000</th>\n      <td>[37652]</td>\n    </tr>\n    <tr>\n      <th>...</th>\n      <th>...</th>\n      <th>...</th>\n      <td>...</td>\n    </tr>\n    <tr>\n      <th>377816</th>\n      <th>371705</th>\n      <th>1438412400</th>\n      <td>[151172]</td>\n    </tr>\n    <tr>\n      <th>389912</th>\n      <th>336572</th>\n      <th>1446361200</th>\n      <td>[369168]</td>\n    </tr>\n    <tr>\n      <th>391561</th>\n      <th>132930</th>\n      <th>1454313600</th>\n      <td>[244595, 398498]</td>\n    </tr>\n    <tr>\n      <th>395626</th>\n      <th>364565</th>\n      <th>1451635200</th>\n      <td>[42012]</td>\n    </tr>\n    <tr>\n      <th>398908</th>\n      <th>243454</th>\n      <th>1454313600</th>\n      <td>[82772, 344237]</td>\n    </tr>\n  </tbody>\n</table>\n<p>39082 rows × 1 columns</p>\n</div>"
     },
     "metadata": {},
     "execution_count": 3
    }
   ],
   "source": [
    "number_of_row = len(transac)\n",
    "# get number of products\n",
    "number_of_product = len(np.unique(transac[\"itemID\"]))\n",
    "\n",
    "transac_grouped = transac.groupby([\"GiverID\", \"ReceiverID\", \"timestamp\"]).aggregate(lambda x: str(list(np.unique(x))))\n",
    "print(transac_grouped)"
   ]
  },
  {
   "cell_type": "code",
   "execution_count": 6,
   "metadata": {},
   "outputs": [
    {
     "output_type": "execute_result",
     "data": {
      "text/plain": [
       "                                                       itemID\n",
       "GiverID ReceiverID timestamp                                 \n",
       "39      5387       1064991600                           [624]\n",
       "        6250       1072944000                        [312514]\n",
       "                   1088665200   [11221, 18543, 49666, 342736]\n",
       "        7034       1196496000  [12944, 13618, 191628, 385120]\n",
       "        7084       1125558000                         [37652]\n",
       "...                                                       ...\n",
       "367429  24249      1433142000                [165693, 192606]\n",
       "        45094      1433142000                [117631, 344237]\n",
       "367573  98012      1443682800                [199531, 263601]\n",
       "377816  110596     1438412400                [151172, 225178]\n",
       "398908  243454     1454313600                 [82772, 344237]\n",
       "\n",
       "[31624 rows x 1 columns]"
      ],
      "text/html": "<div>\n<style scoped>\n    .dataframe tbody tr th:only-of-type {\n        vertical-align: middle;\n    }\n\n    .dataframe tbody tr th {\n        vertical-align: top;\n    }\n\n    .dataframe thead th {\n        text-align: right;\n    }\n</style>\n<table border=\"1\" class=\"dataframe\">\n  <thead>\n    <tr style=\"text-align: right;\">\n      <th></th>\n      <th></th>\n      <th></th>\n      <th>itemID</th>\n    </tr>\n    <tr>\n      <th>GiverID</th>\n      <th>ReceiverID</th>\n      <th>timestamp</th>\n      <th></th>\n    </tr>\n  </thead>\n  <tbody>\n    <tr>\n      <th rowspan=\"5\" valign=\"top\">39</th>\n      <th>5387</th>\n      <th>1064991600</th>\n      <td>[624]</td>\n    </tr>\n    <tr>\n      <th rowspan=\"2\" valign=\"top\">6250</th>\n      <th>1072944000</th>\n      <td>[312514]</td>\n    </tr>\n    <tr>\n      <th>1088665200</th>\n      <td>[11221, 18543, 49666, 342736]</td>\n    </tr>\n    <tr>\n      <th>7034</th>\n      <th>1196496000</th>\n      <td>[12944, 13618, 191628, 385120]</td>\n    </tr>\n    <tr>\n      <th>7084</th>\n      <th>1125558000</th>\n      <td>[37652]</td>\n    </tr>\n    <tr>\n      <th>...</th>\n      <th>...</th>\n      <th>...</th>\n      <td>...</td>\n    </tr>\n    <tr>\n      <th rowspan=\"2\" valign=\"top\">367429</th>\n      <th>24249</th>\n      <th>1433142000</th>\n      <td>[165693, 192606]</td>\n    </tr>\n    <tr>\n      <th>45094</th>\n      <th>1433142000</th>\n      <td>[117631, 344237]</td>\n    </tr>\n    <tr>\n      <th>367573</th>\n      <th>98012</th>\n      <th>1443682800</th>\n      <td>[199531, 263601]</td>\n    </tr>\n    <tr>\n      <th>377816</th>\n      <th>110596</th>\n      <th>1438412400</th>\n      <td>[151172, 225178]</td>\n    </tr>\n    <tr>\n      <th>398908</th>\n      <th>243454</th>\n      <th>1454313600</th>\n      <td>[82772, 344237]</td>\n    </tr>\n  </tbody>\n</table>\n<p>31624 rows × 1 columns</p>\n</div>"
     },
     "metadata": {},
     "execution_count": 6
    }
   ],
   "source": [
    "transac_grouped = transac_grouped.drop_duplicates()\n",
    "number_of_transac = len(transac_grouped)\n",
    "print(transac_grouped)"
   ]
  },
  {
   "cell_type": "code",
   "execution_count": 7,
   "metadata": {},
   "outputs": [
    {
     "output_type": "execute_result",
     "data": {
      "text/plain": [
       "                               itemID\n",
       "0                               [624]\n",
       "1                            [312514]\n",
       "2       [11221, 18543, 49666, 342736]\n",
       "3      [12944, 13618, 191628, 385120]\n",
       "4                             [37652]\n",
       "...                               ...\n",
       "31619                [165693, 192606]\n",
       "31620                [117631, 344237]\n",
       "31621                [199531, 263601]\n",
       "31622                [151172, 225178]\n",
       "31623                 [82772, 344237]\n",
       "\n",
       "[31624 rows x 1 columns]"
      ],
      "text/html": "<div>\n<style scoped>\n    .dataframe tbody tr th:only-of-type {\n        vertical-align: middle;\n    }\n\n    .dataframe tbody tr th {\n        vertical-align: top;\n    }\n\n    .dataframe thead th {\n        text-align: right;\n    }\n</style>\n<table border=\"1\" class=\"dataframe\">\n  <thead>\n    <tr style=\"text-align: right;\">\n      <th></th>\n      <th>itemID</th>\n    </tr>\n  </thead>\n  <tbody>\n    <tr>\n      <th>0</th>\n      <td>[624]</td>\n    </tr>\n    <tr>\n      <th>1</th>\n      <td>[312514]</td>\n    </tr>\n    <tr>\n      <th>2</th>\n      <td>[11221, 18543, 49666, 342736]</td>\n    </tr>\n    <tr>\n      <th>3</th>\n      <td>[12944, 13618, 191628, 385120]</td>\n    </tr>\n    <tr>\n      <th>4</th>\n      <td>[37652]</td>\n    </tr>\n    <tr>\n      <th>...</th>\n      <td>...</td>\n    </tr>\n    <tr>\n      <th>31619</th>\n      <td>[165693, 192606]</td>\n    </tr>\n    <tr>\n      <th>31620</th>\n      <td>[117631, 344237]</td>\n    </tr>\n    <tr>\n      <th>31621</th>\n      <td>[199531, 263601]</td>\n    </tr>\n    <tr>\n      <th>31622</th>\n      <td>[151172, 225178]</td>\n    </tr>\n    <tr>\n      <th>31623</th>\n      <td>[82772, 344237]</td>\n    </tr>\n  </tbody>\n</table>\n<p>31624 rows × 1 columns</p>\n</div>"
     },
     "metadata": {},
     "execution_count": 7
    }
   ],
   "source": [
    "_index = [i for i in range(len(transac_grouped))]\n",
    "transac_grouped.index = _index\n",
    "print(transac_grouped)"
   ]
  },
  {
   "cell_type": "code",
   "execution_count": 8,
   "metadata": {},
   "outputs": [
    {
     "output_type": "execute_result",
     "data": {
      "text/plain": [
       "                               itemID\n",
       "0                               [624]\n",
       "1                            [312514]\n",
       "2       [11221, 18543, 49666, 342736]\n",
       "3      [12944, 13618, 191628, 385120]\n",
       "4                             [37652]\n",
       "...                               ...\n",
       "31619                [165693, 192606]\n",
       "31620                [117631, 344237]\n",
       "31621                [199531, 263601]\n",
       "31622                [151172, 225178]\n",
       "31623                 [82772, 344237]\n",
       "\n",
       "[31624 rows x 1 columns]"
      ],
      "text/html": "<div>\n<style scoped>\n    .dataframe tbody tr th:only-of-type {\n        vertical-align: middle;\n    }\n\n    .dataframe tbody tr th {\n        vertical-align: top;\n    }\n\n    .dataframe thead th {\n        text-align: right;\n    }\n</style>\n<table border=\"1\" class=\"dataframe\">\n  <thead>\n    <tr style=\"text-align: right;\">\n      <th></th>\n      <th>itemID</th>\n    </tr>\n  </thead>\n  <tbody>\n    <tr>\n      <th>0</th>\n      <td>[624]</td>\n    </tr>\n    <tr>\n      <th>1</th>\n      <td>[312514]</td>\n    </tr>\n    <tr>\n      <th>2</th>\n      <td>[11221, 18543, 49666, 342736]</td>\n    </tr>\n    <tr>\n      <th>3</th>\n      <td>[12944, 13618, 191628, 385120]</td>\n    </tr>\n    <tr>\n      <th>4</th>\n      <td>[37652]</td>\n    </tr>\n    <tr>\n      <th>...</th>\n      <td>...</td>\n    </tr>\n    <tr>\n      <th>31619</th>\n      <td>[165693, 192606]</td>\n    </tr>\n    <tr>\n      <th>31620</th>\n      <td>[117631, 344237]</td>\n    </tr>\n    <tr>\n      <th>31621</th>\n      <td>[199531, 263601]</td>\n    </tr>\n    <tr>\n      <th>31622</th>\n      <td>[151172, 225178]</td>\n    </tr>\n    <tr>\n      <th>31623</th>\n      <td>[82772, 344237]</td>\n    </tr>\n  </tbody>\n</table>\n<p>31624 rows × 1 columns</p>\n</div>"
     },
     "metadata": {},
     "execution_count": 8
    }
   ],
   "source": [
    "for i in range(len(transac_grouped)):\n",
    "    transac_grouped.iloc[i][0] = list(eval(transac_grouped.iloc[i][0]))\n",
    "print(transac_grouped)"
   ]
  },
  {
   "cell_type": "code",
   "execution_count": 18,
   "metadata": {},
   "outputs": [],
   "source": [
    "item_values = np.array([])\n",
    "for i in range(len(transac_grouped)):\n",
    "    item_values = np.hstack((item_values, transac_grouped.iloc[i][0]))\n",
    "item_values = np.unique(item_values).astype(int)"
   ]
  },
  {
   "cell_type": "code",
   "execution_count": 20,
   "metadata": {},
   "outputs": [],
   "source": [
    "map_col, rmap_col = {}, {}\n",
    "idx, _columns = 0, []\n",
    "for val in item_values:\n",
    "    map_col[val] = idx\n",
    "    rmap_col[idx] = val\n",
    "    idx += 1"
   ]
  },
  {
   "cell_type": "code",
   "execution_count": 21,
   "metadata": {},
   "outputs": [
    {
     "output_type": "execute_result",
     "data": {
      "text/plain": [
       "                           itemID\n",
       "0                           [199]\n",
       "1                         [16763]\n",
       "2       [1981, 2692, 4665, 17400]\n",
       "3      [2178, 2266, 13155, 18280]\n",
       "4                          [3923]\n",
       "...                           ...\n",
       "31619              [12105, 13195]\n",
       "31620               [9475, 17423]\n",
       "31621              [13486, 15519]\n",
       "31622              [11399, 14374]\n",
       "31623               [6943, 17423]\n",
       "\n",
       "[31624 rows x 1 columns]"
      ],
      "text/html": "<div>\n<style scoped>\n    .dataframe tbody tr th:only-of-type {\n        vertical-align: middle;\n    }\n\n    .dataframe tbody tr th {\n        vertical-align: top;\n    }\n\n    .dataframe thead th {\n        text-align: right;\n    }\n</style>\n<table border=\"1\" class=\"dataframe\">\n  <thead>\n    <tr style=\"text-align: right;\">\n      <th></th>\n      <th>itemID</th>\n    </tr>\n  </thead>\n  <tbody>\n    <tr>\n      <th>0</th>\n      <td>[199]</td>\n    </tr>\n    <tr>\n      <th>1</th>\n      <td>[16763]</td>\n    </tr>\n    <tr>\n      <th>2</th>\n      <td>[1981, 2692, 4665, 17400]</td>\n    </tr>\n    <tr>\n      <th>3</th>\n      <td>[2178, 2266, 13155, 18280]</td>\n    </tr>\n    <tr>\n      <th>4</th>\n      <td>[3923]</td>\n    </tr>\n    <tr>\n      <th>...</th>\n      <td>...</td>\n    </tr>\n    <tr>\n      <th>31619</th>\n      <td>[12105, 13195]</td>\n    </tr>\n    <tr>\n      <th>31620</th>\n      <td>[9475, 17423]</td>\n    </tr>\n    <tr>\n      <th>31621</th>\n      <td>[13486, 15519]</td>\n    </tr>\n    <tr>\n      <th>31622</th>\n      <td>[11399, 14374]</td>\n    </tr>\n    <tr>\n      <th>31623</th>\n      <td>[6943, 17423]</td>\n    </tr>\n  </tbody>\n</table>\n<p>31624 rows × 1 columns</p>\n</div>"
     },
     "metadata": {},
     "execution_count": 21
    }
   ],
   "source": [
    "for i in range(len(transac_grouped)):\n",
    "    transac_grouped.iloc[i][0] = [map_col[val] for val in transac_grouped.iloc[i][0]]\n",
    "print(transac_grouped)"
   ]
  },
  {
   "cell_type": "code",
   "execution_count": 22,
   "metadata": {},
   "outputs": [],
   "source": [
    "def transactionEncoder(df):\n",
    "    # 'transactions' is now temporary variable\n",
    "    transactions = [row[\"itemID\"] for index, row in df.iterrows()]\n",
    "    from mlxtend.preprocessing import TransactionEncoder\n",
    "\n",
    "    transaction_encoder = TransactionEncoder()\n",
    "    transac_matrix = transaction_encoder.fit_transform(transactions).astype(\"int\")\n",
    "    transac_df = pd.DataFrame(transac_matrix, columns=transaction_encoder.columns_)\n",
    "\n",
    "    return transac_df, transac_matrix"
   ]
  },
  {
   "cell_type": "code",
   "execution_count": 23,
   "metadata": {},
   "outputs": [
    {
     "output_type": "execute_result",
     "data": {
      "text/plain": [
       "   0      1      2      3      4      5      6      7      8      9      ...  \\\n",
       "0      0      0      0      0      0      0      0      0      0      0  ...   \n",
       "1      0      0      0      0      0      0      0      0      0      0  ...   \n",
       "2      0      0      0      0      0      0      0      0      0      0  ...   \n",
       "3      0      0      0      0      0      0      0      0      0      0  ...   \n",
       "4      0      0      0      0      0      0      0      0      0      0  ...   \n",
       "\n",
       "   18747  18748  18749  18750  18751  18752  18753  18754  18755  18756  \n",
       "0      0      0      0      0      0      0      0      0      0      0  \n",
       "1      0      0      0      0      0      0      0      0      0      0  \n",
       "2      0      0      0      0      0      0      0      0      0      0  \n",
       "3      0      0      0      0      0      0      0      0      0      0  \n",
       "4      0      0      0      0      0      0      0      0      0      0  \n",
       "\n",
       "[5 rows x 18757 columns]"
      ],
      "text/html": "<div>\n<style scoped>\n    .dataframe tbody tr th:only-of-type {\n        vertical-align: middle;\n    }\n\n    .dataframe tbody tr th {\n        vertical-align: top;\n    }\n\n    .dataframe thead th {\n        text-align: right;\n    }\n</style>\n<table border=\"1\" class=\"dataframe\">\n  <thead>\n    <tr style=\"text-align: right;\">\n      <th></th>\n      <th>0</th>\n      <th>1</th>\n      <th>2</th>\n      <th>3</th>\n      <th>4</th>\n      <th>5</th>\n      <th>6</th>\n      <th>7</th>\n      <th>8</th>\n      <th>9</th>\n      <th>...</th>\n      <th>18747</th>\n      <th>18748</th>\n      <th>18749</th>\n      <th>18750</th>\n      <th>18751</th>\n      <th>18752</th>\n      <th>18753</th>\n      <th>18754</th>\n      <th>18755</th>\n      <th>18756</th>\n    </tr>\n  </thead>\n  <tbody>\n    <tr>\n      <th>0</th>\n      <td>0</td>\n      <td>0</td>\n      <td>0</td>\n      <td>0</td>\n      <td>0</td>\n      <td>0</td>\n      <td>0</td>\n      <td>0</td>\n      <td>0</td>\n      <td>0</td>\n      <td>...</td>\n      <td>0</td>\n      <td>0</td>\n      <td>0</td>\n      <td>0</td>\n      <td>0</td>\n      <td>0</td>\n      <td>0</td>\n      <td>0</td>\n      <td>0</td>\n      <td>0</td>\n    </tr>\n    <tr>\n      <th>1</th>\n      <td>0</td>\n      <td>0</td>\n      <td>0</td>\n      <td>0</td>\n      <td>0</td>\n      <td>0</td>\n      <td>0</td>\n      <td>0</td>\n      <td>0</td>\n      <td>0</td>\n      <td>...</td>\n      <td>0</td>\n      <td>0</td>\n      <td>0</td>\n      <td>0</td>\n      <td>0</td>\n      <td>0</td>\n      <td>0</td>\n      <td>0</td>\n      <td>0</td>\n      <td>0</td>\n    </tr>\n    <tr>\n      <th>2</th>\n      <td>0</td>\n      <td>0</td>\n      <td>0</td>\n      <td>0</td>\n      <td>0</td>\n      <td>0</td>\n      <td>0</td>\n      <td>0</td>\n      <td>0</td>\n      <td>0</td>\n      <td>...</td>\n      <td>0</td>\n      <td>0</td>\n      <td>0</td>\n      <td>0</td>\n      <td>0</td>\n      <td>0</td>\n      <td>0</td>\n      <td>0</td>\n      <td>0</td>\n      <td>0</td>\n    </tr>\n    <tr>\n      <th>3</th>\n      <td>0</td>\n      <td>0</td>\n      <td>0</td>\n      <td>0</td>\n      <td>0</td>\n      <td>0</td>\n      <td>0</td>\n      <td>0</td>\n      <td>0</td>\n      <td>0</td>\n      <td>...</td>\n      <td>0</td>\n      <td>0</td>\n      <td>0</td>\n      <td>0</td>\n      <td>0</td>\n      <td>0</td>\n      <td>0</td>\n      <td>0</td>\n      <td>0</td>\n      <td>0</td>\n    </tr>\n    <tr>\n      <th>4</th>\n      <td>0</td>\n      <td>0</td>\n      <td>0</td>\n      <td>0</td>\n      <td>0</td>\n      <td>0</td>\n      <td>0</td>\n      <td>0</td>\n      <td>0</td>\n      <td>0</td>\n      <td>...</td>\n      <td>0</td>\n      <td>0</td>\n      <td>0</td>\n      <td>0</td>\n      <td>0</td>\n      <td>0</td>\n      <td>0</td>\n      <td>0</td>\n      <td>0</td>\n      <td>0</td>\n    </tr>\n  </tbody>\n</table>\n<p>5 rows × 18757 columns</p>\n</div>"
     },
     "metadata": {},
     "execution_count": 23
    }
   ],
   "source": [
    "from mlxtend.frequent_patterns import apriori\n",
    "from mlxtend.frequent_patterns import association_rules\n",
    "\n",
    "transac_df, transac_matrix = transactionEncoder(transac_grouped)\n",
    "\n",
    "print(transac_df.head())"
   ]
  },
  {
   "cell_type": "code",
   "execution_count": 24,
   "metadata": {},
   "outputs": [
    {
     "output_type": "stream",
     "name": "stdout",
     "text": [
      "Number of row: 125665\nNumber of product: 18757\nNumber of transac: 31624\n"
     ]
    }
   ],
   "source": [
    "print(\"Number of row:\", number_of_row)\n",
    "print(\"Number of product:\", number_of_product)\n",
    "print(\"Number of transac:\", number_of_transac)"
   ]
  },
  {
   "cell_type": "code",
   "execution_count": 25,
   "metadata": {},
   "outputs": [
    {
     "output_type": "execute_result",
     "data": {
      "text/plain": [
       "(array([  1,   2,   3,   4,   5,   6,   7,   8,   9,  10,  11,  12,  13,\n",
       "         14,  15,  16,  17,  18,  19,  20,  21,  22,  23,  24,  25,  26,\n",
       "         27,  28,  29,  30,  31,  32,  33,  34,  35,  36,  37,  38,  39,\n",
       "         40,  41,  42,  43,  44,  45,  46,  47,  48,  49,  50,  51,  52,\n",
       "         53,  54,  55,  56,  57,  58,  59,  60,  61,  62,  63,  64,  65,\n",
       "         66,  67,  68,  69,  70,  71,  72,  73,  74,  75,  76,  77,  78,\n",
       "         79,  80,  81,  82,  83,  84,  85,  86,  87,  88,  89,  90,  91,\n",
       "         92,  94,  95,  96,  97,  98,  99, 100, 101, 102, 103, 106, 107,\n",
       "        108, 109, 112, 113, 114, 115, 116, 118, 119, 122, 123, 126, 130,\n",
       "        132, 133, 134, 135, 136, 140, 142, 143, 145, 147, 152, 154, 155,\n",
       "        156, 161, 162, 165, 169, 171, 174, 175, 176, 179, 180, 181, 183,\n",
       "        184, 190, 193, 196, 201, 203, 208, 211, 212, 215, 220, 226, 227,\n",
       "        229, 232, 235, 240, 251, 252, 282, 302, 303, 304, 305, 328, 349,\n",
       "        371, 430, 449, 469, 505, 555]),\n",
       " array([8446, 3019, 1581,  995,  687,  534,  387,  307,  265,  228,  230,\n",
       "         149,  144,  147,  100,  114,   95,   67,   66,   72,   54,   47,\n",
       "          29,   53,   47,   32,   36,   38,   37,   30,   32,   27,   29,\n",
       "          16,   22,   26,   16,   24,   20,   20,   14,   13,   20,   14,\n",
       "          13,    8,   10,   16,    9,   10,   13,   10,   11,   10,   11,\n",
       "           5,   13,    8,    6,    7,    6,    7,   12,    3,    7,    5,\n",
       "           4,    5,   11,    6,    6,   11,    7,    3,    3,    3,    4,\n",
       "           2,    3,    4,    3,    2,    1,    5,    3,    3,    3,    3,\n",
       "           8,    1,    2,    2,    3,    3,    1,    1,    1,    4,    5,\n",
       "           2,    3,    1,    1,    2,    2,    1,    4,    2,    1,    1,\n",
       "           2,    3,    1,    1,    1,    2,    3,    1,    1,    3,    2,\n",
       "           2,    1,    1,    1,    2,    1,    2,    1,    1,    3,    2,\n",
       "           1,    1,    1,    1,    1,    1,    1,    1,    1,    1,    2,\n",
       "           1,    1,    1,    1,    1,    1,    1,    1,    1,    1,    1,\n",
       "           1,    1,    1,    1,    2,    1,    1,    1,    1,    1,    1,\n",
       "           1,    1,    1,    1,    1,    1,    1,    1,    1,    1]))"
      ]
     },
     "metadata": {},
     "execution_count": 25
    }
   ],
   "source": [
    "print(np.unique(transac_df.sum(), return_counts=True))"
   ]
  },
  {
   "cell_type": "code",
   "execution_count": 86,
   "metadata": {},
   "outputs": [],
   "source": [
    "from scipy.stats.stats import pearsonr\n",
    "from sklearn.metrics.pairwise import cosine_similarity\n",
    "\n",
    "def to_row_df(items, _columns):\n",
    "    row_df = pd.DataFrame(data=[np.zeros(len(_columns)).astype(int)], columns=_columns)\n",
    "    for i in items:\n",
    "        row_df[i] = 1\n",
    "    return row_df\n",
    "\n",
    "def predict (utility_df, utility_matrix, test_items, return_num=5):\n",
    "    sim_items = []\n",
    "    for i in range(utility_matrix.shape[0]):\n",
    "        corr = pearsonr(utility_df.values[0], utility_matrix[i])[0]\n",
    "        sim_items.append(corr)\n",
    "\n",
    "    \n",
    "    for j in test_items:\n",
    "        tu = mau = 0\n",
    "        for i in range(utility_matrix.shape[0]):\n",
    "            tu += sim_items[i] * (utility_matrix[i][j] - np.mean(utility_matrix[i]))\n",
    "            mau += sim_items[i]\n",
    "        pred = np.mean(utility_df.values[0]) + tu/mau\n",
    "        if pred > 0.5:\n",
    "            return 1\n",
    "    return 0"
   ]
  },
  {
   "cell_type": "code",
   "execution_count": 28,
   "metadata": {},
   "outputs": [
    {
     "output_type": "stream",
     "name": "stdout",
     "text": [
      "22136\n9488\n"
     ]
    }
   ],
   "source": [
    "pivot = int(0.7*len(transac_grouped))\n",
    "# print(pivot)\n",
    "train_set = transac_grouped[:pivot]\n",
    "test_set  = transac_grouped[pivot:]\n",
    "print(len(train_set))\n",
    "print(len(test_set))\n"
   ]
  },
  {
   "cell_type": "code",
   "execution_count": 88,
   "metadata": {
    "tags": []
   },
   "outputs": [
    {
     "output_type": "stream",
     "name": "stdout",
     "text": [
      "1/1 - score = 0 - time = 7.0470662117004395\n",
      "2/4 - score = 0 - time = 6.0130250453948975\n",
      "3/7 - score = 0 - time = 5.47003698348999\n",
      "4/8 - score = 0 - time = 5.877780914306641\n",
      "5/12 - score = 0 - time = 5.945812940597534\n",
      "6/14 - score = 0 - time = 5.79262900352478\n",
      "7/16 - score = 0 - time = 5.5284178256988525\n",
      "8/18 - score = 0 - time = 5.683437824249268\n",
      "9/19 - score = 0 - time = 6.164126873016357\n",
      "10/21 - score = 0 - time = 5.478986978530884\n",
      "77.11662888526917\n",
      "cnt = 10\n",
      "score = 0\n"
     ]
    }
   ],
   "source": [
    "def in_train_lst(lst, _columns):\n",
    "    for i in lst:\n",
    "        if i not in _columns or i > len(_columns):\n",
    "            return False\n",
    "    return True\n",
    "\n",
    "def givenN_evaluate(train, test, given_num):\n",
    "    import time\n",
    "    start_time = time.time()\n",
    "    train_df, train_matrix = transactionEncoder(train)\n",
    "    score = cnt = 0\n",
    "    for i in range(len(test)):\n",
    "        lst = test.iloc[i][0]\n",
    "        if len(lst) <= given_num or not in_train_lst(lst, train_df.columns):\n",
    "            continue\n",
    "        given_items = lst[:-given_num]\n",
    "        test_items = lst[-given_num:]\n",
    "        row_df = to_row_df(test_items, train_df.columns)\n",
    "        _start_time = time.time()\n",
    "        score += predict(row_df, train_matrix, test_items, 10)\n",
    "        cnt += 1\n",
    "        print(\"{}/{} - score = {} - time = {}\".format(cnt, i+1, score, time.time() - _start_time))\n",
    "        if cnt == 10:\n",
    "            break\n",
    "    print(time.time() - start_time)\n",
    "    print('cnt =', cnt)\n",
    "    return score\n",
    "\n",
    "score = givenN_evaluate(train_set, test_set, 1) #given 1\n",
    "print('score =', score)"
   ]
  }
 ]
}