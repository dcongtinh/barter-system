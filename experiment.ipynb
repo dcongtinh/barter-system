{
 "metadata": {
  "language_info": {
   "codemirror_mode": {
    "name": "ipython",
    "version": 3
   },
   "file_extension": ".py",
   "mimetype": "text/x-python",
   "name": "python",
   "nbconvert_exporter": "python",
   "pygments_lexer": "ipython3",
   "version": "3.6.8"
  },
  "orig_nbformat": 2,
  "kernelspec": {
   "name": "python368jvsc74a57bd0aee8b7b246df8f9039afb4144a1f6fd8d2ca17a180786b69acc140d282b71a49",
   "display_name": "Python 3.6.8 64-bit"
  }
 },
 "nbformat": 4,
 "nbformat_minor": 2,
 "cells": [
  {
   "source": [
    "# Data walking through"
   ],
   "cell_type": "markdown",
   "metadata": {}
  },
  {
   "cell_type": "code",
   "execution_count": 1,
   "metadata": {},
   "outputs": [],
   "source": [
    "import pandas as pd \n",
    "import numpy as np\n",
    "\n",
    "# read csv and assign columns\n",
    "columns = [\"personId\", \"productId\"]\n",
    "df = pd.read_csv(\"dataset/ratebeer/wish.csv\", header=None)\n",
    "df.columns = columns\n",
    "\n",
    "number_of_row = len(df)\n",
    "# get number of products\n",
    "number_of_product = len(np.unique(df[\"productId\"]))\n",
    "# get number of person\n",
    "number_of_person = len(np.unique(df[\"personId\"]))\n",
    "df = df.groupby(\"personId\").aggregate(lambda x: list(np.unique(x)))"
   ]
  },
  {
   "cell_type": "code",
   "execution_count": 2,
   "metadata": {},
   "outputs": [
    {
     "output_type": "stream",
     "name": "stdout",
     "text": [
      "Number of row: 118453\nNumber of person: 1953\nNumber of product: 21654\n"
     ]
    },
    {
     "output_type": "execute_result",
     "data": {
      "text/plain": [
       "                                                  productId\n",
       "personId                                                   \n",
       "39        [464, 562, 736, 739, 740, 1147, 1360, 1618, 21...\n",
       "63                                    [36407, 36624, 53647]\n",
       "69        [2442, 2491, 3401, 6924, 9193, 13730, 15017, 1...\n",
       "154       [565, 1432, 3213, 7686, 10691, 14286, 15017, 1...\n",
       "181       [4108, 7183, 7979, 10524, 11008, 14082, 19445,..."
      ],
      "text/html": "<div>\n<style scoped>\n    .dataframe tbody tr th:only-of-type {\n        vertical-align: middle;\n    }\n\n    .dataframe tbody tr th {\n        vertical-align: top;\n    }\n\n    .dataframe thead th {\n        text-align: right;\n    }\n</style>\n<table border=\"1\" class=\"dataframe\">\n  <thead>\n    <tr style=\"text-align: right;\">\n      <th></th>\n      <th>productId</th>\n    </tr>\n    <tr>\n      <th>personId</th>\n      <th></th>\n    </tr>\n  </thead>\n  <tbody>\n    <tr>\n      <th>39</th>\n      <td>[464, 562, 736, 739, 740, 1147, 1360, 1618, 21...</td>\n    </tr>\n    <tr>\n      <th>63</th>\n      <td>[36407, 36624, 53647]</td>\n    </tr>\n    <tr>\n      <th>69</th>\n      <td>[2442, 2491, 3401, 6924, 9193, 13730, 15017, 1...</td>\n    </tr>\n    <tr>\n      <th>154</th>\n      <td>[565, 1432, 3213, 7686, 10691, 14286, 15017, 1...</td>\n    </tr>\n    <tr>\n      <th>181</th>\n      <td>[4108, 7183, 7979, 10524, 11008, 14082, 19445,...</td>\n    </tr>\n  </tbody>\n</table>\n</div>"
     },
     "metadata": {},
     "execution_count": 2
    }
   ],
   "source": [
    "print(\"Number of row:\", number_of_row)\n",
    "print(\"Number of person:\", number_of_person)\n",
    "print(\"Number of product:\", number_of_product)\n",
    "# first samples\n",
    "df.head()"
   ]
  },
  {
   "cell_type": "code",
   "execution_count": 3,
   "metadata": {},
   "outputs": [],
   "source": [
    "# 'transactions' is now temporary variable\n",
    "transactions = [row[\"productId\"] for index, row in df.iterrows()]"
   ]
  },
  {
   "cell_type": "code",
   "execution_count": 4,
   "metadata": {},
   "outputs": [],
   "source": [
    "from mlxtend.preprocessing import TransactionEncoder\n",
    "\n",
    "transaction_encoder = TransactionEncoder()\n",
    "wish_matrix = transaction_encoder.fit_transform(transactions).astype(\"int\")\n",
    "wish_df = pd.DataFrame(wish_matrix, columns=transaction_encoder.columns_)\n",
    "\n",
    "# index is actually personId\n",
    "wish_df.index = df.index "
   ]
  },
  {
   "cell_type": "code",
   "execution_count": 5,
   "metadata": {},
   "outputs": [
    {
     "output_type": "execute_result",
     "data": {
      "text/plain": [
       "          1       2       3       9       10      13      14      15      \\\n",
       "personId                                                                   \n",
       "39             0       0       0       0       0       0       0       0   \n",
       "63             0       0       0       0       0       0       0       0   \n",
       "69             0       0       0       0       0       0       0       0   \n",
       "154            0       0       0       0       0       0       0       0   \n",
       "181            0       0       0       0       0       0       0       0   \n",
       "\n",
       "          16      17      ...  390987  391005  391163  391340  391802  392092  \\\n",
       "personId                  ...                                                   \n",
       "39             0       0  ...       0       0       0       0       0       0   \n",
       "63             0       0  ...       0       0       0       0       0       0   \n",
       "69             0       0  ...       0       0       0       0       0       0   \n",
       "154            0       0  ...       0       0       0       0       0       0   \n",
       "181            0       0  ...       0       0       0       0       0       0   \n",
       "\n",
       "          392165  392402  392478  393042  \n",
       "personId                                  \n",
       "39             0       0       0       0  \n",
       "63             0       0       0       0  \n",
       "69             0       0       0       0  \n",
       "154            0       0       0       0  \n",
       "181            0       0       0       0  \n",
       "\n",
       "[5 rows x 21654 columns]"
      ],
      "text/html": "<div>\n<style scoped>\n    .dataframe tbody tr th:only-of-type {\n        vertical-align: middle;\n    }\n\n    .dataframe tbody tr th {\n        vertical-align: top;\n    }\n\n    .dataframe thead th {\n        text-align: right;\n    }\n</style>\n<table border=\"1\" class=\"dataframe\">\n  <thead>\n    <tr style=\"text-align: right;\">\n      <th></th>\n      <th>1</th>\n      <th>2</th>\n      <th>3</th>\n      <th>9</th>\n      <th>10</th>\n      <th>13</th>\n      <th>14</th>\n      <th>15</th>\n      <th>16</th>\n      <th>17</th>\n      <th>...</th>\n      <th>390987</th>\n      <th>391005</th>\n      <th>391163</th>\n      <th>391340</th>\n      <th>391802</th>\n      <th>392092</th>\n      <th>392165</th>\n      <th>392402</th>\n      <th>392478</th>\n      <th>393042</th>\n    </tr>\n    <tr>\n      <th>personId</th>\n      <th></th>\n      <th></th>\n      <th></th>\n      <th></th>\n      <th></th>\n      <th></th>\n      <th></th>\n      <th></th>\n      <th></th>\n      <th></th>\n      <th></th>\n      <th></th>\n      <th></th>\n      <th></th>\n      <th></th>\n      <th></th>\n      <th></th>\n      <th></th>\n      <th></th>\n      <th></th>\n      <th></th>\n    </tr>\n  </thead>\n  <tbody>\n    <tr>\n      <th>39</th>\n      <td>0</td>\n      <td>0</td>\n      <td>0</td>\n      <td>0</td>\n      <td>0</td>\n      <td>0</td>\n      <td>0</td>\n      <td>0</td>\n      <td>0</td>\n      <td>0</td>\n      <td>...</td>\n      <td>0</td>\n      <td>0</td>\n      <td>0</td>\n      <td>0</td>\n      <td>0</td>\n      <td>0</td>\n      <td>0</td>\n      <td>0</td>\n      <td>0</td>\n      <td>0</td>\n    </tr>\n    <tr>\n      <th>63</th>\n      <td>0</td>\n      <td>0</td>\n      <td>0</td>\n      <td>0</td>\n      <td>0</td>\n      <td>0</td>\n      <td>0</td>\n      <td>0</td>\n      <td>0</td>\n      <td>0</td>\n      <td>...</td>\n      <td>0</td>\n      <td>0</td>\n      <td>0</td>\n      <td>0</td>\n      <td>0</td>\n      <td>0</td>\n      <td>0</td>\n      <td>0</td>\n      <td>0</td>\n      <td>0</td>\n    </tr>\n    <tr>\n      <th>69</th>\n      <td>0</td>\n      <td>0</td>\n      <td>0</td>\n      <td>0</td>\n      <td>0</td>\n      <td>0</td>\n      <td>0</td>\n      <td>0</td>\n      <td>0</td>\n      <td>0</td>\n      <td>...</td>\n      <td>0</td>\n      <td>0</td>\n      <td>0</td>\n      <td>0</td>\n      <td>0</td>\n      <td>0</td>\n      <td>0</td>\n      <td>0</td>\n      <td>0</td>\n      <td>0</td>\n    </tr>\n    <tr>\n      <th>154</th>\n      <td>0</td>\n      <td>0</td>\n      <td>0</td>\n      <td>0</td>\n      <td>0</td>\n      <td>0</td>\n      <td>0</td>\n      <td>0</td>\n      <td>0</td>\n      <td>0</td>\n      <td>...</td>\n      <td>0</td>\n      <td>0</td>\n      <td>0</td>\n      <td>0</td>\n      <td>0</td>\n      <td>0</td>\n      <td>0</td>\n      <td>0</td>\n      <td>0</td>\n      <td>0</td>\n    </tr>\n    <tr>\n      <th>181</th>\n      <td>0</td>\n      <td>0</td>\n      <td>0</td>\n      <td>0</td>\n      <td>0</td>\n      <td>0</td>\n      <td>0</td>\n      <td>0</td>\n      <td>0</td>\n      <td>0</td>\n      <td>...</td>\n      <td>0</td>\n      <td>0</td>\n      <td>0</td>\n      <td>0</td>\n      <td>0</td>\n      <td>0</td>\n      <td>0</td>\n      <td>0</td>\n      <td>0</td>\n      <td>0</td>\n    </tr>\n  </tbody>\n</table>\n<p>5 rows × 21654 columns</p>\n</div>"
     },
     "metadata": {},
     "execution_count": 5
    }
   ],
   "source": [
    "wish_df.head()"
   ]
  },
  {
   "source": [
    "# Erase useless samples, which are so sparse "
   ],
   "cell_type": "markdown",
   "metadata": {}
  },
  {
   "cell_type": "code",
   "execution_count": 6,
   "metadata": {},
   "outputs": [
    {
     "output_type": "stream",
     "name": "stdout",
     "text": [
      "Number of person having wish > 1: 1840\n"
     ]
    }
   ],
   "source": [
    "new_df = wish_df.loc[wish_df.sum(axis=1) > 1]\n",
    "new_df = new_df.loc[:, wish_df.sum() > 0]\n",
    "print(\"Number of person having wish > 1:\", len(new_df))"
   ]
  },
  {
   "cell_type": "code",
   "execution_count": 7,
   "metadata": {},
   "outputs": [
    {
     "output_type": "stream",
     "name": "stdout",
     "text": [
      "Training dataset shape: (1840, 21654)\n"
     ]
    },
    {
     "output_type": "execute_result",
     "data": {
      "text/plain": [
       "          1       2       3       9       10      13      14      15      \\\n",
       "personId                                                                   \n",
       "39             0       0       0       0       0       0       0       0   \n",
       "63             0       0       0       0       0       0       0       0   \n",
       "69             0       0       0       0       0       0       0       0   \n",
       "154            0       0       0       0       0       0       0       0   \n",
       "181            0       0       0       0       0       0       0       0   \n",
       "\n",
       "          16      17      ...  390987  391005  391163  391340  391802  392092  \\\n",
       "personId                  ...                                                   \n",
       "39             0       0  ...       0       0       0       0       0       0   \n",
       "63             0       0  ...       0       0       0       0       0       0   \n",
       "69             0       0  ...       0       0       0       0       0       0   \n",
       "154            0       0  ...       0       0       0       0       0       0   \n",
       "181            0       0  ...       0       0       0       0       0       0   \n",
       "\n",
       "          392165  392402  392478  393042  \n",
       "personId                                  \n",
       "39             0       0       0       0  \n",
       "63             0       0       0       0  \n",
       "69             0       0       0       0  \n",
       "154            0       0       0       0  \n",
       "181            0       0       0       0  \n",
       "\n",
       "[5 rows x 21654 columns]"
      ],
      "text/html": "<div>\n<style scoped>\n    .dataframe tbody tr th:only-of-type {\n        vertical-align: middle;\n    }\n\n    .dataframe tbody tr th {\n        vertical-align: top;\n    }\n\n    .dataframe thead th {\n        text-align: right;\n    }\n</style>\n<table border=\"1\" class=\"dataframe\">\n  <thead>\n    <tr style=\"text-align: right;\">\n      <th></th>\n      <th>1</th>\n      <th>2</th>\n      <th>3</th>\n      <th>9</th>\n      <th>10</th>\n      <th>13</th>\n      <th>14</th>\n      <th>15</th>\n      <th>16</th>\n      <th>17</th>\n      <th>...</th>\n      <th>390987</th>\n      <th>391005</th>\n      <th>391163</th>\n      <th>391340</th>\n      <th>391802</th>\n      <th>392092</th>\n      <th>392165</th>\n      <th>392402</th>\n      <th>392478</th>\n      <th>393042</th>\n    </tr>\n    <tr>\n      <th>personId</th>\n      <th></th>\n      <th></th>\n      <th></th>\n      <th></th>\n      <th></th>\n      <th></th>\n      <th></th>\n      <th></th>\n      <th></th>\n      <th></th>\n      <th></th>\n      <th></th>\n      <th></th>\n      <th></th>\n      <th></th>\n      <th></th>\n      <th></th>\n      <th></th>\n      <th></th>\n      <th></th>\n      <th></th>\n    </tr>\n  </thead>\n  <tbody>\n    <tr>\n      <th>39</th>\n      <td>0</td>\n      <td>0</td>\n      <td>0</td>\n      <td>0</td>\n      <td>0</td>\n      <td>0</td>\n      <td>0</td>\n      <td>0</td>\n      <td>0</td>\n      <td>0</td>\n      <td>...</td>\n      <td>0</td>\n      <td>0</td>\n      <td>0</td>\n      <td>0</td>\n      <td>0</td>\n      <td>0</td>\n      <td>0</td>\n      <td>0</td>\n      <td>0</td>\n      <td>0</td>\n    </tr>\n    <tr>\n      <th>63</th>\n      <td>0</td>\n      <td>0</td>\n      <td>0</td>\n      <td>0</td>\n      <td>0</td>\n      <td>0</td>\n      <td>0</td>\n      <td>0</td>\n      <td>0</td>\n      <td>0</td>\n      <td>...</td>\n      <td>0</td>\n      <td>0</td>\n      <td>0</td>\n      <td>0</td>\n      <td>0</td>\n      <td>0</td>\n      <td>0</td>\n      <td>0</td>\n      <td>0</td>\n      <td>0</td>\n    </tr>\n    <tr>\n      <th>69</th>\n      <td>0</td>\n      <td>0</td>\n      <td>0</td>\n      <td>0</td>\n      <td>0</td>\n      <td>0</td>\n      <td>0</td>\n      <td>0</td>\n      <td>0</td>\n      <td>0</td>\n      <td>...</td>\n      <td>0</td>\n      <td>0</td>\n      <td>0</td>\n      <td>0</td>\n      <td>0</td>\n      <td>0</td>\n      <td>0</td>\n      <td>0</td>\n      <td>0</td>\n      <td>0</td>\n    </tr>\n    <tr>\n      <th>154</th>\n      <td>0</td>\n      <td>0</td>\n      <td>0</td>\n      <td>0</td>\n      <td>0</td>\n      <td>0</td>\n      <td>0</td>\n      <td>0</td>\n      <td>0</td>\n      <td>0</td>\n      <td>...</td>\n      <td>0</td>\n      <td>0</td>\n      <td>0</td>\n      <td>0</td>\n      <td>0</td>\n      <td>0</td>\n      <td>0</td>\n      <td>0</td>\n      <td>0</td>\n      <td>0</td>\n    </tr>\n    <tr>\n      <th>181</th>\n      <td>0</td>\n      <td>0</td>\n      <td>0</td>\n      <td>0</td>\n      <td>0</td>\n      <td>0</td>\n      <td>0</td>\n      <td>0</td>\n      <td>0</td>\n      <td>0</td>\n      <td>...</td>\n      <td>0</td>\n      <td>0</td>\n      <td>0</td>\n      <td>0</td>\n      <td>0</td>\n      <td>0</td>\n      <td>0</td>\n      <td>0</td>\n      <td>0</td>\n      <td>0</td>\n    </tr>\n  </tbody>\n</table>\n<p>5 rows × 21654 columns</p>\n</div>"
     },
     "metadata": {},
     "execution_count": 7
    }
   ],
   "source": [
    "print(\"Training dataset shape:\", new_df.shape)\n",
    "new_df.head()"
   ]
  },
  {
   "cell_type": "code",
   "execution_count": 8,
   "metadata": {},
   "outputs": [],
   "source": [
    "person_to_products = df.loc[new_df.index]"
   ]
  },
  {
   "source": [
    "# Re-stat"
   ],
   "cell_type": "markdown",
   "metadata": {}
  },
  {
   "cell_type": "code",
   "execution_count": 9,
   "metadata": {},
   "outputs": [],
   "source": [
    "wish_count, freq = np.unique(new_df.sum(axis=1), return_counts=True)"
   ]
  },
  {
   "cell_type": "code",
   "execution_count": 10,
   "metadata": {},
   "outputs": [
    {
     "output_type": "execute_result",
     "data": {
      "text/plain": [
       "<matplotlib.collections.PathCollection at 0x7feb16fe6e48>"
      ]
     },
     "metadata": {},
     "execution_count": 10
    },
    {
     "output_type": "display_data",
     "data": {
      "text/plain": "<Figure size 432x288 with 1 Axes>",
      "image/svg+xml": "<?xml version=\"1.0\" encoding=\"utf-8\" standalone=\"no\"?>\n<!DOCTYPE svg PUBLIC \"-//W3C//DTD SVG 1.1//EN\"\n  \"http://www.w3.org/Graphics/SVG/1.1/DTD/svg11.dtd\">\n<!-- Created with matplotlib (https://matplotlib.org/) -->\n<svg height=\"251.418831pt\" version=\"1.1\" viewBox=\"0 0 368.925 251.418831\" width=\"368.925pt\" xmlns=\"http://www.w3.org/2000/svg\" xmlns:xlink=\"http://www.w3.org/1999/xlink\">\n <metadata>\n  <rdf:RDF xmlns:cc=\"http://creativecommons.org/ns#\" xmlns:dc=\"http://purl.org/dc/elements/1.1/\" xmlns:rdf=\"http://www.w3.org/1999/02/22-rdf-syntax-ns#\">\n   <cc:Work>\n    <dc:type rdf:resource=\"http://purl.org/dc/dcmitype/StillImage\"/>\n    <dc:date>2021-05-03T11:57:42.757032</dc:date>\n    <dc:format>image/svg+xml</dc:format>\n    <dc:creator>\n     <cc:Agent>\n      <dc:title>Matplotlib v3.3.2, https://matplotlib.org/</dc:title>\n     </cc:Agent>\n    </dc:creator>\n   </cc:Work>\n  </rdf:RDF>\n </metadata>\n <defs>\n  <style type=\"text/css\">*{stroke-linecap:butt;stroke-linejoin:round;}</style>\n </defs>\n <g id=\"figure_1\">\n  <g id=\"patch_1\">\n   <path d=\"M -0 251.418831 \nL 368.925 251.418831 \nL 368.925 0 \nL -0 0 \nz\n\" style=\"fill:none;\"/>\n  </g>\n  <g id=\"axes_1\">\n   <g id=\"patch_2\">\n    <path d=\"M 26.925 227.540706 \nL 361.725 227.540706 \nL 361.725 10.100706 \nL 26.925 10.100706 \nz\n\" style=\"fill:#ffffff;\"/>\n   </g>\n   <g id=\"PathCollection_1\">\n    <defs>\n     <path d=\"M 0 3 \nC 0.795609 3 1.55874 2.683901 2.12132 2.12132 \nC 2.683901 1.55874 3 0.795609 3 0 \nC 3 -0.795609 2.683901 -1.55874 2.12132 -2.12132 \nC 1.55874 -2.683901 0.795609 -3 0 -3 \nC -0.795609 -3 -1.55874 -2.683901 -2.12132 -2.12132 \nC -2.683901 -1.55874 -3 -0.795609 -3 0 \nC -3 0.795609 -2.683901 1.55874 -2.12132 2.12132 \nC -1.55874 2.683901 -0.795609 3 0 3 \nz\n\" id=\"mb7dcf05520\" style=\"stroke:#1f77b4;\"/>\n    </defs>\n    <g clip-path=\"url(#p15892665d2)\">\n     <use style=\"fill:#1f77b4;stroke:#1f77b4;\" x=\"42.143182\" xlink:href=\"#mb7dcf05520\" y=\"40.949632\"/>\n     <use style=\"fill:#1f77b4;stroke:#1f77b4;\" x=\"42.2602\" xlink:href=\"#mb7dcf05520\" y=\"19.984343\"/>\n     <use style=\"fill:#1f77b4;stroke:#1f77b4;\" x=\"42.377218\" xlink:href=\"#mb7dcf05520\" y=\"85.875252\"/>\n     <use style=\"fill:#1f77b4;stroke:#1f77b4;\" x=\"42.494236\" xlink:href=\"#mb7dcf05520\" y=\"52.929797\"/>\n     <use style=\"fill:#1f77b4;stroke:#1f77b4;\" x=\"42.611254\" xlink:href=\"#mb7dcf05520\" y=\"49.934756\"/>\n     <use style=\"fill:#1f77b4;stroke:#1f77b4;\" x=\"42.728271\" xlink:href=\"#mb7dcf05520\" y=\"97.855417\"/>\n     <use style=\"fill:#1f77b4;stroke:#1f77b4;\" x=\"42.845289\" xlink:href=\"#mb7dcf05520\" y=\"97.855417\"/>\n     <use style=\"fill:#1f77b4;stroke:#1f77b4;\" x=\"42.962307\" xlink:href=\"#mb7dcf05520\" y=\"121.815748\"/>\n     <use style=\"fill:#1f77b4;stroke:#1f77b4;\" x=\"43.079325\" xlink:href=\"#mb7dcf05520\" y=\"124.810789\"/>\n     <use style=\"fill:#1f77b4;stroke:#1f77b4;\" x=\"43.196343\" xlink:href=\"#mb7dcf05520\" y=\"118.820706\"/>\n     <use style=\"fill:#1f77b4;stroke:#1f77b4;\" x=\"43.313361\" xlink:href=\"#mb7dcf05520\" y=\"121.815748\"/>\n     <use style=\"fill:#1f77b4;stroke:#1f77b4;\" x=\"43.430379\" xlink:href=\"#mb7dcf05520\" y=\"106.840541\"/>\n     <use style=\"fill:#1f77b4;stroke:#1f77b4;\" x=\"43.547397\" xlink:href=\"#mb7dcf05520\" y=\"145.776078\"/>\n     <use style=\"fill:#1f77b4;stroke:#1f77b4;\" x=\"43.664415\" xlink:href=\"#mb7dcf05520\" y=\"130.800872\"/>\n     <use style=\"fill:#1f77b4;stroke:#1f77b4;\" x=\"43.781433\" xlink:href=\"#mb7dcf05520\" y=\"130.800872\"/>\n     <use style=\"fill:#1f77b4;stroke:#1f77b4;\" x=\"43.898451\" xlink:href=\"#mb7dcf05520\" y=\"145.776078\"/>\n     <use style=\"fill:#1f77b4;stroke:#1f77b4;\" x=\"44.015469\" xlink:href=\"#mb7dcf05520\" y=\"157.756244\"/>\n     <use style=\"fill:#1f77b4;stroke:#1f77b4;\" x=\"44.132487\" xlink:href=\"#mb7dcf05520\" y=\"157.756244\"/>\n     <use style=\"fill:#1f77b4;stroke:#1f77b4;\" x=\"44.249505\" xlink:href=\"#mb7dcf05520\" y=\"163.746326\"/>\n     <use style=\"fill:#1f77b4;stroke:#1f77b4;\" x=\"44.366522\" xlink:href=\"#mb7dcf05520\" y=\"169.736409\"/>\n     <use style=\"fill:#1f77b4;stroke:#1f77b4;\" x=\"44.48354\" xlink:href=\"#mb7dcf05520\" y=\"151.766161\"/>\n     <use style=\"fill:#1f77b4;stroke:#1f77b4;\" x=\"44.600558\" xlink:href=\"#mb7dcf05520\" y=\"142.781037\"/>\n     <use style=\"fill:#1f77b4;stroke:#1f77b4;\" x=\"44.717576\" xlink:href=\"#mb7dcf05520\" y=\"157.756244\"/>\n     <use style=\"fill:#1f77b4;stroke:#1f77b4;\" x=\"44.834594\" xlink:href=\"#mb7dcf05520\" y=\"181.716574\"/>\n     <use style=\"fill:#1f77b4;stroke:#1f77b4;\" x=\"44.951612\" xlink:href=\"#mb7dcf05520\" y=\"163.746326\"/>\n     <use style=\"fill:#1f77b4;stroke:#1f77b4;\" x=\"45.06863\" xlink:href=\"#mb7dcf05520\" y=\"157.756244\"/>\n     <use style=\"fill:#1f77b4;stroke:#1f77b4;\" x=\"45.185648\" xlink:href=\"#mb7dcf05520\" y=\"172.73145\"/>\n     <use style=\"fill:#1f77b4;stroke:#1f77b4;\" x=\"45.302666\" xlink:href=\"#mb7dcf05520\" y=\"172.73145\"/>\n     <use style=\"fill:#1f77b4;stroke:#1f77b4;\" x=\"45.419684\" xlink:href=\"#mb7dcf05520\" y=\"157.756244\"/>\n     <use style=\"fill:#1f77b4;stroke:#1f77b4;\" x=\"45.536702\" xlink:href=\"#mb7dcf05520\" y=\"184.711615\"/>\n     <use style=\"fill:#1f77b4;stroke:#1f77b4;\" x=\"45.65372\" xlink:href=\"#mb7dcf05520\" y=\"175.726491\"/>\n     <use style=\"fill:#1f77b4;stroke:#1f77b4;\" x=\"45.770738\" xlink:href=\"#mb7dcf05520\" y=\"193.696739\"/>\n     <use style=\"fill:#1f77b4;stroke:#1f77b4;\" x=\"45.887756\" xlink:href=\"#mb7dcf05520\" y=\"184.711615\"/>\n     <use style=\"fill:#1f77b4;stroke:#1f77b4;\" x=\"46.004774\" xlink:href=\"#mb7dcf05520\" y=\"169.736409\"/>\n     <use style=\"fill:#1f77b4;stroke:#1f77b4;\" x=\"46.121791\" xlink:href=\"#mb7dcf05520\" y=\"154.761202\"/>\n     <use style=\"fill:#1f77b4;stroke:#1f77b4;\" x=\"46.238809\" xlink:href=\"#mb7dcf05520\" y=\"190.701698\"/>\n     <use style=\"fill:#1f77b4;stroke:#1f77b4;\" x=\"46.355827\" xlink:href=\"#mb7dcf05520\" y=\"172.73145\"/>\n     <use style=\"fill:#1f77b4;stroke:#1f77b4;\" x=\"46.472845\" xlink:href=\"#mb7dcf05520\" y=\"178.721533\"/>\n     <use style=\"fill:#1f77b4;stroke:#1f77b4;\" x=\"46.589863\" xlink:href=\"#mb7dcf05520\" y=\"184.711615\"/>\n     <use style=\"fill:#1f77b4;stroke:#1f77b4;\" x=\"46.706881\" xlink:href=\"#mb7dcf05520\" y=\"190.701698\"/>\n     <use style=\"fill:#1f77b4;stroke:#1f77b4;\" x=\"46.823899\" xlink:href=\"#mb7dcf05520\" y=\"184.711615\"/>\n     <use style=\"fill:#1f77b4;stroke:#1f77b4;\" x=\"46.940917\" xlink:href=\"#mb7dcf05520\" y=\"160.751285\"/>\n     <use style=\"fill:#1f77b4;stroke:#1f77b4;\" x=\"47.057935\" xlink:href=\"#mb7dcf05520\" y=\"199.686822\"/>\n     <use style=\"fill:#1f77b4;stroke:#1f77b4;\" x=\"47.174953\" xlink:href=\"#mb7dcf05520\" y=\"187.706657\"/>\n     <use style=\"fill:#1f77b4;stroke:#1f77b4;\" x=\"47.291971\" xlink:href=\"#mb7dcf05520\" y=\"166.741368\"/>\n     <use style=\"fill:#1f77b4;stroke:#1f77b4;\" x=\"47.408989\" xlink:href=\"#mb7dcf05520\" y=\"187.706657\"/>\n     <use style=\"fill:#1f77b4;stroke:#1f77b4;\" x=\"47.526007\" xlink:href=\"#mb7dcf05520\" y=\"193.696739\"/>\n     <use style=\"fill:#1f77b4;stroke:#1f77b4;\" x=\"47.643025\" xlink:href=\"#mb7dcf05520\" y=\"193.696739\"/>\n     <use style=\"fill:#1f77b4;stroke:#1f77b4;\" x=\"47.760042\" xlink:href=\"#mb7dcf05520\" y=\"199.686822\"/>\n     <use style=\"fill:#1f77b4;stroke:#1f77b4;\" x=\"47.87706\" xlink:href=\"#mb7dcf05520\" y=\"172.73145\"/>\n     <use style=\"fill:#1f77b4;stroke:#1f77b4;\" x=\"47.994078\" xlink:href=\"#mb7dcf05520\" y=\"184.711615\"/>\n     <use style=\"fill:#1f77b4;stroke:#1f77b4;\" x=\"48.111096\" xlink:href=\"#mb7dcf05520\" y=\"190.701698\"/>\n     <use style=\"fill:#1f77b4;stroke:#1f77b4;\" x=\"48.228114\" xlink:href=\"#mb7dcf05520\" y=\"199.686822\"/>\n     <use style=\"fill:#1f77b4;stroke:#1f77b4;\" x=\"48.345132\" xlink:href=\"#mb7dcf05520\" y=\"196.691781\"/>\n     <use style=\"fill:#1f77b4;stroke:#1f77b4;\" x=\"48.46215\" xlink:href=\"#mb7dcf05520\" y=\"196.691781\"/>\n     <use style=\"fill:#1f77b4;stroke:#1f77b4;\" x=\"48.579168\" xlink:href=\"#mb7dcf05520\" y=\"187.706657\"/>\n     <use style=\"fill:#1f77b4;stroke:#1f77b4;\" x=\"48.696186\" xlink:href=\"#mb7dcf05520\" y=\"196.691781\"/>\n     <use style=\"fill:#1f77b4;stroke:#1f77b4;\" x=\"48.813204\" xlink:href=\"#mb7dcf05520\" y=\"172.73145\"/>\n     <use style=\"fill:#1f77b4;stroke:#1f77b4;\" x=\"48.930222\" xlink:href=\"#mb7dcf05520\" y=\"187.706657\"/>\n     <use style=\"fill:#1f77b4;stroke:#1f77b4;\" x=\"49.04724\" xlink:href=\"#mb7dcf05520\" y=\"202.681863\"/>\n     <use style=\"fill:#1f77b4;stroke:#1f77b4;\" x=\"49.164258\" xlink:href=\"#mb7dcf05520\" y=\"190.701698\"/>\n     <use style=\"fill:#1f77b4;stroke:#1f77b4;\" x=\"49.281276\" xlink:href=\"#mb7dcf05520\" y=\"190.701698\"/>\n     <use style=\"fill:#1f77b4;stroke:#1f77b4;\" x=\"49.515311\" xlink:href=\"#mb7dcf05520\" y=\"190.701698\"/>\n     <use style=\"fill:#1f77b4;stroke:#1f77b4;\" x=\"49.632329\" xlink:href=\"#mb7dcf05520\" y=\"184.711615\"/>\n     <use style=\"fill:#1f77b4;stroke:#1f77b4;\" x=\"49.749347\" xlink:href=\"#mb7dcf05520\" y=\"193.696739\"/>\n     <use style=\"fill:#1f77b4;stroke:#1f77b4;\" x=\"49.866365\" xlink:href=\"#mb7dcf05520\" y=\"193.696739\"/>\n     <use style=\"fill:#1f77b4;stroke:#1f77b4;\" x=\"49.983383\" xlink:href=\"#mb7dcf05520\" y=\"193.696739\"/>\n     <use style=\"fill:#1f77b4;stroke:#1f77b4;\" x=\"50.100401\" xlink:href=\"#mb7dcf05520\" y=\"199.686822\"/>\n     <use style=\"fill:#1f77b4;stroke:#1f77b4;\" x=\"50.217419\" xlink:href=\"#mb7dcf05520\" y=\"190.701698\"/>\n     <use style=\"fill:#1f77b4;stroke:#1f77b4;\" x=\"50.334437\" xlink:href=\"#mb7dcf05520\" y=\"211.666987\"/>\n     <use style=\"fill:#1f77b4;stroke:#1f77b4;\" x=\"50.451455\" xlink:href=\"#mb7dcf05520\" y=\"184.711615\"/>\n     <use style=\"fill:#1f77b4;stroke:#1f77b4;\" x=\"50.568473\" xlink:href=\"#mb7dcf05520\" y=\"199.686822\"/>\n     <use style=\"fill:#1f77b4;stroke:#1f77b4;\" x=\"50.685491\" xlink:href=\"#mb7dcf05520\" y=\"211.666987\"/>\n     <use style=\"fill:#1f77b4;stroke:#1f77b4;\" x=\"50.802509\" xlink:href=\"#mb7dcf05520\" y=\"208.671946\"/>\n     <use style=\"fill:#1f77b4;stroke:#1f77b4;\" x=\"50.919527\" xlink:href=\"#mb7dcf05520\" y=\"184.711615\"/>\n     <use style=\"fill:#1f77b4;stroke:#1f77b4;\" x=\"51.036545\" xlink:href=\"#mb7dcf05520\" y=\"202.681863\"/>\n     <use style=\"fill:#1f77b4;stroke:#1f77b4;\" x=\"51.153562\" xlink:href=\"#mb7dcf05520\" y=\"208.671946\"/>\n     <use style=\"fill:#1f77b4;stroke:#1f77b4;\" x=\"51.27058\" xlink:href=\"#mb7dcf05520\" y=\"199.686822\"/>\n     <use style=\"fill:#1f77b4;stroke:#1f77b4;\" x=\"51.387598\" xlink:href=\"#mb7dcf05520\" y=\"199.686822\"/>\n     <use style=\"fill:#1f77b4;stroke:#1f77b4;\" x=\"51.504616\" xlink:href=\"#mb7dcf05520\" y=\"205.676905\"/>\n     <use style=\"fill:#1f77b4;stroke:#1f77b4;\" x=\"51.621634\" xlink:href=\"#mb7dcf05520\" y=\"202.681863\"/>\n     <use style=\"fill:#1f77b4;stroke:#1f77b4;\" x=\"51.738652\" xlink:href=\"#mb7dcf05520\" y=\"202.681863\"/>\n     <use style=\"fill:#1f77b4;stroke:#1f77b4;\" x=\"51.85567\" xlink:href=\"#mb7dcf05520\" y=\"202.681863\"/>\n     <use style=\"fill:#1f77b4;stroke:#1f77b4;\" x=\"51.972688\" xlink:href=\"#mb7dcf05520\" y=\"202.681863\"/>\n     <use style=\"fill:#1f77b4;stroke:#1f77b4;\" x=\"52.089706\" xlink:href=\"#mb7dcf05520\" y=\"205.676905\"/>\n     <use style=\"fill:#1f77b4;stroke:#1f77b4;\" x=\"52.206724\" xlink:href=\"#mb7dcf05520\" y=\"205.676905\"/>\n     <use style=\"fill:#1f77b4;stroke:#1f77b4;\" x=\"52.323742\" xlink:href=\"#mb7dcf05520\" y=\"199.686822\"/>\n     <use style=\"fill:#1f77b4;stroke:#1f77b4;\" x=\"52.44076\" xlink:href=\"#mb7dcf05520\" y=\"202.681863\"/>\n     <use style=\"fill:#1f77b4;stroke:#1f77b4;\" x=\"52.557778\" xlink:href=\"#mb7dcf05520\" y=\"202.681863\"/>\n     <use style=\"fill:#1f77b4;stroke:#1f77b4;\" x=\"52.674796\" xlink:href=\"#mb7dcf05520\" y=\"205.676905\"/>\n     <use style=\"fill:#1f77b4;stroke:#1f77b4;\" x=\"52.791813\" xlink:href=\"#mb7dcf05520\" y=\"193.696739\"/>\n     <use style=\"fill:#1f77b4;stroke:#1f77b4;\" x=\"52.908831\" xlink:href=\"#mb7dcf05520\" y=\"217.65707\"/>\n     <use style=\"fill:#1f77b4;stroke:#1f77b4;\" x=\"53.025849\" xlink:href=\"#mb7dcf05520\" y=\"208.671946\"/>\n     <use style=\"fill:#1f77b4;stroke:#1f77b4;\" x=\"53.259885\" xlink:href=\"#mb7dcf05520\" y=\"202.681863\"/>\n     <use style=\"fill:#1f77b4;stroke:#1f77b4;\" x=\"53.376903\" xlink:href=\"#mb7dcf05520\" y=\"196.691781\"/>\n     <use style=\"fill:#1f77b4;stroke:#1f77b4;\" x=\"53.493921\" xlink:href=\"#mb7dcf05520\" y=\"208.671946\"/>\n     <use style=\"fill:#1f77b4;stroke:#1f77b4;\" x=\"53.610939\" xlink:href=\"#mb7dcf05520\" y=\"214.662029\"/>\n     <use style=\"fill:#1f77b4;stroke:#1f77b4;\" x=\"53.727957\" xlink:href=\"#mb7dcf05520\" y=\"214.662029\"/>\n     <use style=\"fill:#1f77b4;stroke:#1f77b4;\" x=\"53.844975\" xlink:href=\"#mb7dcf05520\" y=\"211.666987\"/>\n     <use style=\"fill:#1f77b4;stroke:#1f77b4;\" x=\"53.961993\" xlink:href=\"#mb7dcf05520\" y=\"214.662029\"/>\n     <use style=\"fill:#1f77b4;stroke:#1f77b4;\" x=\"54.079011\" xlink:href=\"#mb7dcf05520\" y=\"217.65707\"/>\n     <use style=\"fill:#1f77b4;stroke:#1f77b4;\" x=\"54.196029\" xlink:href=\"#mb7dcf05520\" y=\"190.701698\"/>\n     <use style=\"fill:#1f77b4;stroke:#1f77b4;\" x=\"54.313047\" xlink:href=\"#mb7dcf05520\" y=\"214.662029\"/>\n     <use style=\"fill:#1f77b4;stroke:#1f77b4;\" x=\"54.430064\" xlink:href=\"#mb7dcf05520\" y=\"208.671946\"/>\n     <use style=\"fill:#1f77b4;stroke:#1f77b4;\" x=\"54.547082\" xlink:href=\"#mb7dcf05520\" y=\"205.676905\"/>\n     <use style=\"fill:#1f77b4;stroke:#1f77b4;\" x=\"54.6641\" xlink:href=\"#mb7dcf05520\" y=\"214.662029\"/>\n     <use style=\"fill:#1f77b4;stroke:#1f77b4;\" x=\"54.781118\" xlink:href=\"#mb7dcf05520\" y=\"208.671946\"/>\n     <use style=\"fill:#1f77b4;stroke:#1f77b4;\" x=\"54.898136\" xlink:href=\"#mb7dcf05520\" y=\"211.666987\"/>\n     <use style=\"fill:#1f77b4;stroke:#1f77b4;\" x=\"55.015154\" xlink:href=\"#mb7dcf05520\" y=\"214.662029\"/>\n     <use style=\"fill:#1f77b4;stroke:#1f77b4;\" x=\"55.132172\" xlink:href=\"#mb7dcf05520\" y=\"214.662029\"/>\n     <use style=\"fill:#1f77b4;stroke:#1f77b4;\" x=\"55.24919\" xlink:href=\"#mb7dcf05520\" y=\"214.662029\"/>\n     <use style=\"fill:#1f77b4;stroke:#1f77b4;\" x=\"55.366208\" xlink:href=\"#mb7dcf05520\" y=\"211.666987\"/>\n     <use style=\"fill:#1f77b4;stroke:#1f77b4;\" x=\"55.483226\" xlink:href=\"#mb7dcf05520\" y=\"211.666987\"/>\n     <use style=\"fill:#1f77b4;stroke:#1f77b4;\" x=\"55.600244\" xlink:href=\"#mb7dcf05520\" y=\"214.662029\"/>\n     <use style=\"fill:#1f77b4;stroke:#1f77b4;\" x=\"55.717262\" xlink:href=\"#mb7dcf05520\" y=\"208.671946\"/>\n     <use style=\"fill:#1f77b4;stroke:#1f77b4;\" x=\"55.83428\" xlink:href=\"#mb7dcf05520\" y=\"217.65707\"/>\n     <use style=\"fill:#1f77b4;stroke:#1f77b4;\" x=\"55.951298\" xlink:href=\"#mb7dcf05520\" y=\"202.681863\"/>\n     <use style=\"fill:#1f77b4;stroke:#1f77b4;\" x=\"56.068316\" xlink:href=\"#mb7dcf05520\" y=\"205.676905\"/>\n     <use style=\"fill:#1f77b4;stroke:#1f77b4;\" x=\"56.185333\" xlink:href=\"#mb7dcf05520\" y=\"211.666987\"/>\n     <use style=\"fill:#1f77b4;stroke:#1f77b4;\" x=\"56.302351\" xlink:href=\"#mb7dcf05520\" y=\"211.666987\"/>\n     <use style=\"fill:#1f77b4;stroke:#1f77b4;\" x=\"56.419369\" xlink:href=\"#mb7dcf05520\" y=\"211.666987\"/>\n     <use style=\"fill:#1f77b4;stroke:#1f77b4;\" x=\"56.536387\" xlink:href=\"#mb7dcf05520\" y=\"208.671946\"/>\n     <use style=\"fill:#1f77b4;stroke:#1f77b4;\" x=\"56.653405\" xlink:href=\"#mb7dcf05520\" y=\"214.662029\"/>\n     <use style=\"fill:#1f77b4;stroke:#1f77b4;\" x=\"56.770423\" xlink:href=\"#mb7dcf05520\" y=\"217.65707\"/>\n     <use style=\"fill:#1f77b4;stroke:#1f77b4;\" x=\"57.004459\" xlink:href=\"#mb7dcf05520\" y=\"205.676905\"/>\n     <use style=\"fill:#1f77b4;stroke:#1f77b4;\" x=\"57.121477\" xlink:href=\"#mb7dcf05520\" y=\"208.671946\"/>\n     <use style=\"fill:#1f77b4;stroke:#1f77b4;\" x=\"57.238495\" xlink:href=\"#mb7dcf05520\" y=\"208.671946\"/>\n     <use style=\"fill:#1f77b4;stroke:#1f77b4;\" x=\"57.355513\" xlink:href=\"#mb7dcf05520\" y=\"214.662029\"/>\n     <use style=\"fill:#1f77b4;stroke:#1f77b4;\" x=\"57.472531\" xlink:href=\"#mb7dcf05520\" y=\"205.676905\"/>\n     <use style=\"fill:#1f77b4;stroke:#1f77b4;\" x=\"57.589549\" xlink:href=\"#mb7dcf05520\" y=\"211.666987\"/>\n     <use style=\"fill:#1f77b4;stroke:#1f77b4;\" x=\"57.706567\" xlink:href=\"#mb7dcf05520\" y=\"217.65707\"/>\n     <use style=\"fill:#1f77b4;stroke:#1f77b4;\" x=\"57.823584\" xlink:href=\"#mb7dcf05520\" y=\"214.662029\"/>\n     <use style=\"fill:#1f77b4;stroke:#1f77b4;\" x=\"57.940602\" xlink:href=\"#mb7dcf05520\" y=\"211.666987\"/>\n     <use style=\"fill:#1f77b4;stroke:#1f77b4;\" x=\"58.05762\" xlink:href=\"#mb7dcf05520\" y=\"208.671946\"/>\n     <use style=\"fill:#1f77b4;stroke:#1f77b4;\" x=\"58.291656\" xlink:href=\"#mb7dcf05520\" y=\"208.671946\"/>\n     <use style=\"fill:#1f77b4;stroke:#1f77b4;\" x=\"58.408674\" xlink:href=\"#mb7dcf05520\" y=\"217.65707\"/>\n     <use style=\"fill:#1f77b4;stroke:#1f77b4;\" x=\"58.525692\" xlink:href=\"#mb7dcf05520\" y=\"217.65707\"/>\n     <use style=\"fill:#1f77b4;stroke:#1f77b4;\" x=\"58.64271\" xlink:href=\"#mb7dcf05520\" y=\"217.65707\"/>\n     <use style=\"fill:#1f77b4;stroke:#1f77b4;\" x=\"58.759728\" xlink:href=\"#mb7dcf05520\" y=\"217.65707\"/>\n     <use style=\"fill:#1f77b4;stroke:#1f77b4;\" x=\"58.993764\" xlink:href=\"#mb7dcf05520\" y=\"214.662029\"/>\n     <use style=\"fill:#1f77b4;stroke:#1f77b4;\" x=\"59.110782\" xlink:href=\"#mb7dcf05520\" y=\"214.662029\"/>\n     <use style=\"fill:#1f77b4;stroke:#1f77b4;\" x=\"59.344818\" xlink:href=\"#mb7dcf05520\" y=\"214.662029\"/>\n     <use style=\"fill:#1f77b4;stroke:#1f77b4;\" x=\"59.461835\" xlink:href=\"#mb7dcf05520\" y=\"217.65707\"/>\n     <use style=\"fill:#1f77b4;stroke:#1f77b4;\" x=\"59.578853\" xlink:href=\"#mb7dcf05520\" y=\"214.662029\"/>\n     <use style=\"fill:#1f77b4;stroke:#1f77b4;\" x=\"59.812889\" xlink:href=\"#mb7dcf05520\" y=\"214.662029\"/>\n     <use style=\"fill:#1f77b4;stroke:#1f77b4;\" x=\"59.929907\" xlink:href=\"#mb7dcf05520\" y=\"208.671946\"/>\n     <use style=\"fill:#1f77b4;stroke:#1f77b4;\" x=\"60.046925\" xlink:href=\"#mb7dcf05520\" y=\"217.65707\"/>\n     <use style=\"fill:#1f77b4;stroke:#1f77b4;\" x=\"60.163943\" xlink:href=\"#mb7dcf05520\" y=\"214.662029\"/>\n     <use style=\"fill:#1f77b4;stroke:#1f77b4;\" x=\"60.397979\" xlink:href=\"#mb7dcf05520\" y=\"211.666987\"/>\n     <use style=\"fill:#1f77b4;stroke:#1f77b4;\" x=\"60.514997\" xlink:href=\"#mb7dcf05520\" y=\"214.662029\"/>\n     <use style=\"fill:#1f77b4;stroke:#1f77b4;\" x=\"60.632015\" xlink:href=\"#mb7dcf05520\" y=\"217.65707\"/>\n     <use style=\"fill:#1f77b4;stroke:#1f77b4;\" x=\"60.749033\" xlink:href=\"#mb7dcf05520\" y=\"211.666987\"/>\n     <use style=\"fill:#1f77b4;stroke:#1f77b4;\" x=\"60.866051\" xlink:href=\"#mb7dcf05520\" y=\"214.662029\"/>\n     <use style=\"fill:#1f77b4;stroke:#1f77b4;\" x=\"60.983069\" xlink:href=\"#mb7dcf05520\" y=\"217.65707\"/>\n     <use style=\"fill:#1f77b4;stroke:#1f77b4;\" x=\"61.100087\" xlink:href=\"#mb7dcf05520\" y=\"214.662029\"/>\n     <use style=\"fill:#1f77b4;stroke:#1f77b4;\" x=\"61.217104\" xlink:href=\"#mb7dcf05520\" y=\"217.65707\"/>\n     <use style=\"fill:#1f77b4;stroke:#1f77b4;\" x=\"61.334122\" xlink:href=\"#mb7dcf05520\" y=\"217.65707\"/>\n     <use style=\"fill:#1f77b4;stroke:#1f77b4;\" x=\"61.45114\" xlink:href=\"#mb7dcf05520\" y=\"217.65707\"/>\n     <use style=\"fill:#1f77b4;stroke:#1f77b4;\" x=\"61.568158\" xlink:href=\"#mb7dcf05520\" y=\"214.662029\"/>\n     <use style=\"fill:#1f77b4;stroke:#1f77b4;\" x=\"61.802194\" xlink:href=\"#mb7dcf05520\" y=\"211.666987\"/>\n     <use style=\"fill:#1f77b4;stroke:#1f77b4;\" x=\"61.919212\" xlink:href=\"#mb7dcf05520\" y=\"214.662029\"/>\n     <use style=\"fill:#1f77b4;stroke:#1f77b4;\" x=\"62.153248\" xlink:href=\"#mb7dcf05520\" y=\"214.662029\"/>\n     <use style=\"fill:#1f77b4;stroke:#1f77b4;\" x=\"62.504302\" xlink:href=\"#mb7dcf05520\" y=\"217.65707\"/>\n     <use style=\"fill:#1f77b4;stroke:#1f77b4;\" x=\"62.738338\" xlink:href=\"#mb7dcf05520\" y=\"214.662029\"/>\n     <use style=\"fill:#1f77b4;stroke:#1f77b4;\" x=\"62.855355\" xlink:href=\"#mb7dcf05520\" y=\"217.65707\"/>\n     <use style=\"fill:#1f77b4;stroke:#1f77b4;\" x=\"62.972373\" xlink:href=\"#mb7dcf05520\" y=\"217.65707\"/>\n     <use style=\"fill:#1f77b4;stroke:#1f77b4;\" x=\"63.089391\" xlink:href=\"#mb7dcf05520\" y=\"214.662029\"/>\n     <use style=\"fill:#1f77b4;stroke:#1f77b4;\" x=\"63.206409\" xlink:href=\"#mb7dcf05520\" y=\"214.662029\"/>\n     <use style=\"fill:#1f77b4;stroke:#1f77b4;\" x=\"63.323427\" xlink:href=\"#mb7dcf05520\" y=\"217.65707\"/>\n     <use style=\"fill:#1f77b4;stroke:#1f77b4;\" x=\"63.440445\" xlink:href=\"#mb7dcf05520\" y=\"211.666987\"/>\n     <use style=\"fill:#1f77b4;stroke:#1f77b4;\" x=\"63.674481\" xlink:href=\"#mb7dcf05520\" y=\"208.671946\"/>\n     <use style=\"fill:#1f77b4;stroke:#1f77b4;\" x=\"63.791499\" xlink:href=\"#mb7dcf05520\" y=\"217.65707\"/>\n     <use style=\"fill:#1f77b4;stroke:#1f77b4;\" x=\"63.908517\" xlink:href=\"#mb7dcf05520\" y=\"208.671946\"/>\n     <use style=\"fill:#1f77b4;stroke:#1f77b4;\" x=\"64.025535\" xlink:href=\"#mb7dcf05520\" y=\"214.662029\"/>\n     <use style=\"fill:#1f77b4;stroke:#1f77b4;\" x=\"64.259571\" xlink:href=\"#mb7dcf05520\" y=\"217.65707\"/>\n     <use style=\"fill:#1f77b4;stroke:#1f77b4;\" x=\"64.376589\" xlink:href=\"#mb7dcf05520\" y=\"217.65707\"/>\n     <use style=\"fill:#1f77b4;stroke:#1f77b4;\" x=\"64.493606\" xlink:href=\"#mb7dcf05520\" y=\"211.666987\"/>\n     <use style=\"fill:#1f77b4;stroke:#1f77b4;\" x=\"64.610624\" xlink:href=\"#mb7dcf05520\" y=\"208.671946\"/>\n     <use style=\"fill:#1f77b4;stroke:#1f77b4;\" x=\"64.727642\" xlink:href=\"#mb7dcf05520\" y=\"217.65707\"/>\n     <use style=\"fill:#1f77b4;stroke:#1f77b4;\" x=\"64.84466\" xlink:href=\"#mb7dcf05520\" y=\"214.662029\"/>\n     <use style=\"fill:#1f77b4;stroke:#1f77b4;\" x=\"64.961678\" xlink:href=\"#mb7dcf05520\" y=\"217.65707\"/>\n     <use style=\"fill:#1f77b4;stroke:#1f77b4;\" x=\"65.078696\" xlink:href=\"#mb7dcf05520\" y=\"211.666987\"/>\n     <use style=\"fill:#1f77b4;stroke:#1f77b4;\" x=\"65.312732\" xlink:href=\"#mb7dcf05520\" y=\"217.65707\"/>\n     <use style=\"fill:#1f77b4;stroke:#1f77b4;\" x=\"65.42975\" xlink:href=\"#mb7dcf05520\" y=\"217.65707\"/>\n     <use style=\"fill:#1f77b4;stroke:#1f77b4;\" x=\"65.546768\" xlink:href=\"#mb7dcf05520\" y=\"214.662029\"/>\n     <use style=\"fill:#1f77b4;stroke:#1f77b4;\" x=\"65.780804\" xlink:href=\"#mb7dcf05520\" y=\"214.662029\"/>\n     <use style=\"fill:#1f77b4;stroke:#1f77b4;\" x=\"65.897822\" xlink:href=\"#mb7dcf05520\" y=\"217.65707\"/>\n     <use style=\"fill:#1f77b4;stroke:#1f77b4;\" x=\"66.01484\" xlink:href=\"#mb7dcf05520\" y=\"217.65707\"/>\n     <use style=\"fill:#1f77b4;stroke:#1f77b4;\" x=\"66.131858\" xlink:href=\"#mb7dcf05520\" y=\"217.65707\"/>\n     <use style=\"fill:#1f77b4;stroke:#1f77b4;\" x=\"66.365893\" xlink:href=\"#mb7dcf05520\" y=\"214.662029\"/>\n     <use style=\"fill:#1f77b4;stroke:#1f77b4;\" x=\"66.482911\" xlink:href=\"#mb7dcf05520\" y=\"217.65707\"/>\n     <use style=\"fill:#1f77b4;stroke:#1f77b4;\" x=\"66.599929\" xlink:href=\"#mb7dcf05520\" y=\"217.65707\"/>\n     <use style=\"fill:#1f77b4;stroke:#1f77b4;\" x=\"66.716947\" xlink:href=\"#mb7dcf05520\" y=\"217.65707\"/>\n     <use style=\"fill:#1f77b4;stroke:#1f77b4;\" x=\"67.068001\" xlink:href=\"#mb7dcf05520\" y=\"217.65707\"/>\n     <use style=\"fill:#1f77b4;stroke:#1f77b4;\" x=\"67.653091\" xlink:href=\"#mb7dcf05520\" y=\"217.65707\"/>\n     <use style=\"fill:#1f77b4;stroke:#1f77b4;\" x=\"67.770109\" xlink:href=\"#mb7dcf05520\" y=\"217.65707\"/>\n     <use style=\"fill:#1f77b4;stroke:#1f77b4;\" x=\"67.887126\" xlink:href=\"#mb7dcf05520\" y=\"217.65707\"/>\n     <use style=\"fill:#1f77b4;stroke:#1f77b4;\" x=\"68.004144\" xlink:href=\"#mb7dcf05520\" y=\"214.662029\"/>\n     <use style=\"fill:#1f77b4;stroke:#1f77b4;\" x=\"68.121162\" xlink:href=\"#mb7dcf05520\" y=\"211.666987\"/>\n     <use style=\"fill:#1f77b4;stroke:#1f77b4;\" x=\"68.355198\" xlink:href=\"#mb7dcf05520\" y=\"217.65707\"/>\n     <use style=\"fill:#1f77b4;stroke:#1f77b4;\" x=\"68.472216\" xlink:href=\"#mb7dcf05520\" y=\"214.662029\"/>\n     <use style=\"fill:#1f77b4;stroke:#1f77b4;\" x=\"68.706252\" xlink:href=\"#mb7dcf05520\" y=\"217.65707\"/>\n     <use style=\"fill:#1f77b4;stroke:#1f77b4;\" x=\"68.82327\" xlink:href=\"#mb7dcf05520\" y=\"211.666987\"/>\n     <use style=\"fill:#1f77b4;stroke:#1f77b4;\" x=\"69.057306\" xlink:href=\"#mb7dcf05520\" y=\"217.65707\"/>\n     <use style=\"fill:#1f77b4;stroke:#1f77b4;\" x=\"69.291342\" xlink:href=\"#mb7dcf05520\" y=\"217.65707\"/>\n     <use style=\"fill:#1f77b4;stroke:#1f77b4;\" x=\"69.40836\" xlink:href=\"#mb7dcf05520\" y=\"211.666987\"/>\n     <use style=\"fill:#1f77b4;stroke:#1f77b4;\" x=\"69.525377\" xlink:href=\"#mb7dcf05520\" y=\"217.65707\"/>\n     <use style=\"fill:#1f77b4;stroke:#1f77b4;\" x=\"69.759413\" xlink:href=\"#mb7dcf05520\" y=\"217.65707\"/>\n     <use style=\"fill:#1f77b4;stroke:#1f77b4;\" x=\"69.876431\" xlink:href=\"#mb7dcf05520\" y=\"214.662029\"/>\n     <use style=\"fill:#1f77b4;stroke:#1f77b4;\" x=\"70.110467\" xlink:href=\"#mb7dcf05520\" y=\"217.65707\"/>\n     <use style=\"fill:#1f77b4;stroke:#1f77b4;\" x=\"70.344503\" xlink:href=\"#mb7dcf05520\" y=\"217.65707\"/>\n     <use style=\"fill:#1f77b4;stroke:#1f77b4;\" x=\"70.461521\" xlink:href=\"#mb7dcf05520\" y=\"217.65707\"/>\n     <use style=\"fill:#1f77b4;stroke:#1f77b4;\" x=\"70.812575\" xlink:href=\"#mb7dcf05520\" y=\"214.662029\"/>\n     <use style=\"fill:#1f77b4;stroke:#1f77b4;\" x=\"71.163628\" xlink:href=\"#mb7dcf05520\" y=\"217.65707\"/>\n     <use style=\"fill:#1f77b4;stroke:#1f77b4;\" x=\"71.280646\" xlink:href=\"#mb7dcf05520\" y=\"214.662029\"/>\n     <use style=\"fill:#1f77b4;stroke:#1f77b4;\" x=\"71.397664\" xlink:href=\"#mb7dcf05520\" y=\"214.662029\"/>\n     <use style=\"fill:#1f77b4;stroke:#1f77b4;\" x=\"71.514682\" xlink:href=\"#mb7dcf05520\" y=\"214.662029\"/>\n     <use style=\"fill:#1f77b4;stroke:#1f77b4;\" x=\"71.748718\" xlink:href=\"#mb7dcf05520\" y=\"214.662029\"/>\n     <use style=\"fill:#1f77b4;stroke:#1f77b4;\" x=\"71.865736\" xlink:href=\"#mb7dcf05520\" y=\"217.65707\"/>\n     <use style=\"fill:#1f77b4;stroke:#1f77b4;\" x=\"71.982754\" xlink:href=\"#mb7dcf05520\" y=\"217.65707\"/>\n     <use style=\"fill:#1f77b4;stroke:#1f77b4;\" x=\"72.21679\" xlink:href=\"#mb7dcf05520\" y=\"214.662029\"/>\n     <use style=\"fill:#1f77b4;stroke:#1f77b4;\" x=\"72.333808\" xlink:href=\"#mb7dcf05520\" y=\"217.65707\"/>\n     <use style=\"fill:#1f77b4;stroke:#1f77b4;\" x=\"72.450826\" xlink:href=\"#mb7dcf05520\" y=\"217.65707\"/>\n     <use style=\"fill:#1f77b4;stroke:#1f77b4;\" x=\"72.80188\" xlink:href=\"#mb7dcf05520\" y=\"217.65707\"/>\n     <use style=\"fill:#1f77b4;stroke:#1f77b4;\" x=\"73.621005\" xlink:href=\"#mb7dcf05520\" y=\"211.666987\"/>\n     <use style=\"fill:#1f77b4;stroke:#1f77b4;\" x=\"73.855041\" xlink:href=\"#mb7dcf05520\" y=\"217.65707\"/>\n     <use style=\"fill:#1f77b4;stroke:#1f77b4;\" x=\"73.972059\" xlink:href=\"#mb7dcf05520\" y=\"217.65707\"/>\n     <use style=\"fill:#1f77b4;stroke:#1f77b4;\" x=\"74.206095\" xlink:href=\"#mb7dcf05520\" y=\"214.662029\"/>\n     <use style=\"fill:#1f77b4;stroke:#1f77b4;\" x=\"74.323113\" xlink:href=\"#mb7dcf05520\" y=\"217.65707\"/>\n     <use style=\"fill:#1f77b4;stroke:#1f77b4;\" x=\"75.259256\" xlink:href=\"#mb7dcf05520\" y=\"217.65707\"/>\n     <use style=\"fill:#1f77b4;stroke:#1f77b4;\" x=\"75.61031\" xlink:href=\"#mb7dcf05520\" y=\"217.65707\"/>\n     <use style=\"fill:#1f77b4;stroke:#1f77b4;\" x=\"75.727328\" xlink:href=\"#mb7dcf05520\" y=\"214.662029\"/>\n     <use style=\"fill:#1f77b4;stroke:#1f77b4;\" x=\"76.663471\" xlink:href=\"#mb7dcf05520\" y=\"217.65707\"/>\n     <use style=\"fill:#1f77b4;stroke:#1f77b4;\" x=\"76.780489\" xlink:href=\"#mb7dcf05520\" y=\"217.65707\"/>\n     <use style=\"fill:#1f77b4;stroke:#1f77b4;\" x=\"77.365579\" xlink:href=\"#mb7dcf05520\" y=\"217.65707\"/>\n     <use style=\"fill:#1f77b4;stroke:#1f77b4;\" x=\"77.482597\" xlink:href=\"#mb7dcf05520\" y=\"214.662029\"/>\n     <use style=\"fill:#1f77b4;stroke:#1f77b4;\" x=\"77.599615\" xlink:href=\"#mb7dcf05520\" y=\"217.65707\"/>\n     <use style=\"fill:#1f77b4;stroke:#1f77b4;\" x=\"78.301722\" xlink:href=\"#mb7dcf05520\" y=\"217.65707\"/>\n     <use style=\"fill:#1f77b4;stroke:#1f77b4;\" x=\"78.535758\" xlink:href=\"#mb7dcf05520\" y=\"217.65707\"/>\n     <use style=\"fill:#1f77b4;stroke:#1f77b4;\" x=\"78.652776\" xlink:href=\"#mb7dcf05520\" y=\"214.662029\"/>\n     <use style=\"fill:#1f77b4;stroke:#1f77b4;\" x=\"78.886812\" xlink:href=\"#mb7dcf05520\" y=\"217.65707\"/>\n     <use style=\"fill:#1f77b4;stroke:#1f77b4;\" x=\"79.120848\" xlink:href=\"#mb7dcf05520\" y=\"217.65707\"/>\n     <use style=\"fill:#1f77b4;stroke:#1f77b4;\" x=\"80.174009\" xlink:href=\"#mb7dcf05520\" y=\"217.65707\"/>\n     <use style=\"fill:#1f77b4;stroke:#1f77b4;\" x=\"80.291027\" xlink:href=\"#mb7dcf05520\" y=\"217.65707\"/>\n     <use style=\"fill:#1f77b4;stroke:#1f77b4;\" x=\"80.993135\" xlink:href=\"#mb7dcf05520\" y=\"214.662029\"/>\n     <use style=\"fill:#1f77b4;stroke:#1f77b4;\" x=\"81.695242\" xlink:href=\"#mb7dcf05520\" y=\"217.65707\"/>\n     <use style=\"fill:#1f77b4;stroke:#1f77b4;\" x=\"83.333493\" xlink:href=\"#mb7dcf05520\" y=\"217.65707\"/>\n     <use style=\"fill:#1f77b4;stroke:#1f77b4;\" x=\"84.503673\" xlink:href=\"#mb7dcf05520\" y=\"217.65707\"/>\n     <use style=\"fill:#1f77b4;stroke:#1f77b4;\" x=\"88.5993\" xlink:href=\"#mb7dcf05520\" y=\"217.65707\"/>\n     <use style=\"fill:#1f77b4;stroke:#1f77b4;\" x=\"88.716318\" xlink:href=\"#mb7dcf05520\" y=\"217.65707\"/>\n     <use style=\"fill:#1f77b4;stroke:#1f77b4;\" x=\"89.418426\" xlink:href=\"#mb7dcf05520\" y=\"217.65707\"/>\n     <use style=\"fill:#1f77b4;stroke:#1f77b4;\" x=\"90.237551\" xlink:href=\"#mb7dcf05520\" y=\"217.65707\"/>\n     <use style=\"fill:#1f77b4;stroke:#1f77b4;\" x=\"91.173695\" xlink:href=\"#mb7dcf05520\" y=\"217.65707\"/>\n     <use style=\"fill:#1f77b4;stroke:#1f77b4;\" x=\"91.641766\" xlink:href=\"#mb7dcf05520\" y=\"217.65707\"/>\n     <use style=\"fill:#1f77b4;stroke:#1f77b4;\" x=\"92.460892\" xlink:href=\"#mb7dcf05520\" y=\"217.65707\"/>\n     <use style=\"fill:#1f77b4;stroke:#1f77b4;\" x=\"94.684232\" xlink:href=\"#mb7dcf05520\" y=\"217.65707\"/>\n     <use style=\"fill:#1f77b4;stroke:#1f77b4;\" x=\"97.492663\" xlink:href=\"#mb7dcf05520\" y=\"217.65707\"/>\n     <use style=\"fill:#1f77b4;stroke:#1f77b4;\" x=\"97.609681\" xlink:href=\"#mb7dcf05520\" y=\"217.65707\"/>\n     <use style=\"fill:#1f77b4;stroke:#1f77b4;\" x=\"98.077752\" xlink:href=\"#mb7dcf05520\" y=\"217.65707\"/>\n     <use style=\"fill:#1f77b4;stroke:#1f77b4;\" x=\"98.428806\" xlink:href=\"#mb7dcf05520\" y=\"217.65707\"/>\n     <use style=\"fill:#1f77b4;stroke:#1f77b4;\" x=\"100.184075\" xlink:href=\"#mb7dcf05520\" y=\"217.65707\"/>\n     <use style=\"fill:#1f77b4;stroke:#1f77b4;\" x=\"101.705308\" xlink:href=\"#mb7dcf05520\" y=\"217.65707\"/>\n     <use style=\"fill:#1f77b4;stroke:#1f77b4;\" x=\"106.737079\" xlink:href=\"#mb7dcf05520\" y=\"217.65707\"/>\n     <use style=\"fill:#1f77b4;stroke:#1f77b4;\" x=\"109.54551\" xlink:href=\"#mb7dcf05520\" y=\"217.65707\"/>\n     <use style=\"fill:#1f77b4;stroke:#1f77b4;\" x=\"110.247617\" xlink:href=\"#mb7dcf05520\" y=\"217.65707\"/>\n     <use style=\"fill:#1f77b4;stroke:#1f77b4;\" x=\"110.715689\" xlink:href=\"#mb7dcf05520\" y=\"217.65707\"/>\n     <use style=\"fill:#1f77b4;stroke:#1f77b4;\" x=\"116.098514\" xlink:href=\"#mb7dcf05520\" y=\"217.65707\"/>\n     <use style=\"fill:#1f77b4;stroke:#1f77b4;\" x=\"130.842773\" xlink:href=\"#mb7dcf05520\" y=\"217.65707\"/>\n     <use style=\"fill:#1f77b4;stroke:#1f77b4;\" x=\"165.831134\" xlink:href=\"#mb7dcf05520\" y=\"217.65707\"/>\n     <use style=\"fill:#1f77b4;stroke:#1f77b4;\" x=\"169.692726\" xlink:href=\"#mb7dcf05520\" y=\"217.65707\"/>\n     <use style=\"fill:#1f77b4;stroke:#1f77b4;\" x=\"179.63925\" xlink:href=\"#mb7dcf05520\" y=\"217.65707\"/>\n     <use style=\"fill:#1f77b4;stroke:#1f77b4;\" x=\"309.880206\" xlink:href=\"#mb7dcf05520\" y=\"217.65707\"/>\n     <use style=\"fill:#1f77b4;stroke:#1f77b4;\" x=\"346.506818\" xlink:href=\"#mb7dcf05520\" y=\"217.65707\"/>\n    </g>\n   </g>\n   <g id=\"matplotlib.axis_1\">\n    <g id=\"xtick_1\">\n     <g id=\"line2d_1\">\n      <defs>\n       <path d=\"M 0 0 \nL 0 3.5 \n\" id=\"mfbd8cf7eba\" style=\"stroke:#000000;stroke-width:0.8;\"/>\n      </defs>\n      <g>\n       <use style=\"stroke:#000000;stroke-width:0.8;\" x=\"41.909146\" xlink:href=\"#mfbd8cf7eba\" y=\"227.540706\"/>\n      </g>\n     </g>\n     <g id=\"text_1\">\n      <!-- 0 -->\n      <g transform=\"translate(38.727896 242.139144)scale(0.1 -0.1)\">\n       <defs>\n        <path d=\"M 31.78125 66.40625 \nQ 24.171875 66.40625 20.328125 58.90625 \nQ 16.5 51.421875 16.5 36.375 \nQ 16.5 21.390625 20.328125 13.890625 \nQ 24.171875 6.390625 31.78125 6.390625 \nQ 39.453125 6.390625 43.28125 13.890625 \nQ 47.125 21.390625 47.125 36.375 \nQ 47.125 51.421875 43.28125 58.90625 \nQ 39.453125 66.40625 31.78125 66.40625 \nz\nM 31.78125 74.21875 \nQ 44.046875 74.21875 50.515625 64.515625 \nQ 56.984375 54.828125 56.984375 36.375 \nQ 56.984375 17.96875 50.515625 8.265625 \nQ 44.046875 -1.421875 31.78125 -1.421875 \nQ 19.53125 -1.421875 13.0625 8.265625 \nQ 6.59375 17.96875 6.59375 36.375 \nQ 6.59375 54.828125 13.0625 64.515625 \nQ 19.53125 74.21875 31.78125 74.21875 \nz\n\" id=\"DejaVuSans-48\"/>\n       </defs>\n       <use xlink:href=\"#DejaVuSans-48\"/>\n      </g>\n     </g>\n    </g>\n    <g id=\"xtick_2\">\n     <g id=\"line2d_2\">\n      <g>\n       <use style=\"stroke:#000000;stroke-width:0.8;\" x=\"100.418111\" xlink:href=\"#mfbd8cf7eba\" y=\"227.540706\"/>\n      </g>\n     </g>\n     <g id=\"text_2\">\n      <!-- 500 -->\n      <g transform=\"translate(90.874361 242.139144)scale(0.1 -0.1)\">\n       <defs>\n        <path d=\"M 10.796875 72.90625 \nL 49.515625 72.90625 \nL 49.515625 64.59375 \nL 19.828125 64.59375 \nL 19.828125 46.734375 \nQ 21.96875 47.46875 24.109375 47.828125 \nQ 26.265625 48.1875 28.421875 48.1875 \nQ 40.625 48.1875 47.75 41.5 \nQ 54.890625 34.8125 54.890625 23.390625 \nQ 54.890625 11.625 47.5625 5.09375 \nQ 40.234375 -1.421875 26.90625 -1.421875 \nQ 22.3125 -1.421875 17.546875 -0.640625 \nQ 12.796875 0.140625 7.71875 1.703125 \nL 7.71875 11.625 \nQ 12.109375 9.234375 16.796875 8.0625 \nQ 21.484375 6.890625 26.703125 6.890625 \nQ 35.15625 6.890625 40.078125 11.328125 \nQ 45.015625 15.765625 45.015625 23.390625 \nQ 45.015625 31 40.078125 35.4375 \nQ 35.15625 39.890625 26.703125 39.890625 \nQ 22.75 39.890625 18.8125 39.015625 \nQ 14.890625 38.140625 10.796875 36.28125 \nz\n\" id=\"DejaVuSans-53\"/>\n       </defs>\n       <use xlink:href=\"#DejaVuSans-53\"/>\n       <use x=\"63.623047\" xlink:href=\"#DejaVuSans-48\"/>\n       <use x=\"127.246094\" xlink:href=\"#DejaVuSans-48\"/>\n      </g>\n     </g>\n    </g>\n    <g id=\"xtick_3\">\n     <g id=\"line2d_3\">\n      <g>\n       <use style=\"stroke:#000000;stroke-width:0.8;\" x=\"158.927076\" xlink:href=\"#mfbd8cf7eba\" y=\"227.540706\"/>\n      </g>\n     </g>\n     <g id=\"text_3\">\n      <!-- 1000 -->\n      <g transform=\"translate(146.202076 242.139144)scale(0.1 -0.1)\">\n       <defs>\n        <path d=\"M 12.40625 8.296875 \nL 28.515625 8.296875 \nL 28.515625 63.921875 \nL 10.984375 60.40625 \nL 10.984375 69.390625 \nL 28.421875 72.90625 \nL 38.28125 72.90625 \nL 38.28125 8.296875 \nL 54.390625 8.296875 \nL 54.390625 0 \nL 12.40625 0 \nz\n\" id=\"DejaVuSans-49\"/>\n       </defs>\n       <use xlink:href=\"#DejaVuSans-49\"/>\n       <use x=\"63.623047\" xlink:href=\"#DejaVuSans-48\"/>\n       <use x=\"127.246094\" xlink:href=\"#DejaVuSans-48\"/>\n       <use x=\"190.869141\" xlink:href=\"#DejaVuSans-48\"/>\n      </g>\n     </g>\n    </g>\n    <g id=\"xtick_4\">\n     <g id=\"line2d_4\">\n      <g>\n       <use style=\"stroke:#000000;stroke-width:0.8;\" x=\"217.436041\" xlink:href=\"#mfbd8cf7eba\" y=\"227.540706\"/>\n      </g>\n     </g>\n     <g id=\"text_4\">\n      <!-- 1500 -->\n      <g transform=\"translate(204.711041 242.139144)scale(0.1 -0.1)\">\n       <use xlink:href=\"#DejaVuSans-49\"/>\n       <use x=\"63.623047\" xlink:href=\"#DejaVuSans-53\"/>\n       <use x=\"127.246094\" xlink:href=\"#DejaVuSans-48\"/>\n       <use x=\"190.869141\" xlink:href=\"#DejaVuSans-48\"/>\n      </g>\n     </g>\n    </g>\n    <g id=\"xtick_5\">\n     <g id=\"line2d_5\">\n      <g>\n       <use style=\"stroke:#000000;stroke-width:0.8;\" x=\"275.945006\" xlink:href=\"#mfbd8cf7eba\" y=\"227.540706\"/>\n      </g>\n     </g>\n     <g id=\"text_5\">\n      <!-- 2000 -->\n      <g transform=\"translate(263.220006 242.139144)scale(0.1 -0.1)\">\n       <defs>\n        <path d=\"M 19.1875 8.296875 \nL 53.609375 8.296875 \nL 53.609375 0 \nL 7.328125 0 \nL 7.328125 8.296875 \nQ 12.9375 14.109375 22.625 23.890625 \nQ 32.328125 33.6875 34.8125 36.53125 \nQ 39.546875 41.84375 41.421875 45.53125 \nQ 43.3125 49.21875 43.3125 52.78125 \nQ 43.3125 58.59375 39.234375 62.25 \nQ 35.15625 65.921875 28.609375 65.921875 \nQ 23.96875 65.921875 18.8125 64.3125 \nQ 13.671875 62.703125 7.8125 59.421875 \nL 7.8125 69.390625 \nQ 13.765625 71.78125 18.9375 73 \nQ 24.125 74.21875 28.421875 74.21875 \nQ 39.75 74.21875 46.484375 68.546875 \nQ 53.21875 62.890625 53.21875 53.421875 \nQ 53.21875 48.921875 51.53125 44.890625 \nQ 49.859375 40.875 45.40625 35.40625 \nQ 44.1875 33.984375 37.640625 27.21875 \nQ 31.109375 20.453125 19.1875 8.296875 \nz\n\" id=\"DejaVuSans-50\"/>\n       </defs>\n       <use xlink:href=\"#DejaVuSans-50\"/>\n       <use x=\"63.623047\" xlink:href=\"#DejaVuSans-48\"/>\n       <use x=\"127.246094\" xlink:href=\"#DejaVuSans-48\"/>\n       <use x=\"190.869141\" xlink:href=\"#DejaVuSans-48\"/>\n      </g>\n     </g>\n    </g>\n    <g id=\"xtick_6\">\n     <g id=\"line2d_6\">\n      <g>\n       <use style=\"stroke:#000000;stroke-width:0.8;\" x=\"334.453971\" xlink:href=\"#mfbd8cf7eba\" y=\"227.540706\"/>\n      </g>\n     </g>\n     <g id=\"text_6\">\n      <!-- 2500 -->\n      <g transform=\"translate(321.728971 242.139144)scale(0.1 -0.1)\">\n       <use xlink:href=\"#DejaVuSans-50\"/>\n       <use x=\"63.623047\" xlink:href=\"#DejaVuSans-53\"/>\n       <use x=\"127.246094\" xlink:href=\"#DejaVuSans-48\"/>\n       <use x=\"190.869141\" xlink:href=\"#DejaVuSans-48\"/>\n      </g>\n     </g>\n    </g>\n   </g>\n   <g id=\"matplotlib.axis_2\">\n    <g id=\"ytick_1\">\n     <g id=\"line2d_7\">\n      <defs>\n       <path d=\"M 0 0 \nL -3.5 0 \n\" id=\"mc45be29b66\" style=\"stroke:#000000;stroke-width:0.8;\"/>\n      </defs>\n      <g>\n       <use style=\"stroke:#000000;stroke-width:0.8;\" x=\"26.925\" xlink:href=\"#mc45be29b66\" y=\"220.652111\"/>\n      </g>\n     </g>\n     <g id=\"text_7\">\n      <!-- 0 -->\n      <g transform=\"translate(13.5625 224.45133)scale(0.1 -0.1)\">\n       <use xlink:href=\"#DejaVuSans-48\"/>\n      </g>\n     </g>\n    </g>\n    <g id=\"ytick_2\">\n     <g id=\"line2d_8\">\n      <g>\n       <use style=\"stroke:#000000;stroke-width:0.8;\" x=\"26.925\" xlink:href=\"#mc45be29b66\" y=\"190.701698\"/>\n      </g>\n     </g>\n     <g id=\"text_8\">\n      <!-- 10 -->\n      <g transform=\"translate(7.2 194.500917)scale(0.1 -0.1)\">\n       <use xlink:href=\"#DejaVuSans-49\"/>\n       <use x=\"63.623047\" xlink:href=\"#DejaVuSans-48\"/>\n      </g>\n     </g>\n    </g>\n    <g id=\"ytick_3\">\n     <g id=\"line2d_9\">\n      <g>\n       <use style=\"stroke:#000000;stroke-width:0.8;\" x=\"26.925\" xlink:href=\"#mc45be29b66\" y=\"160.751285\"/>\n      </g>\n     </g>\n     <g id=\"text_9\">\n      <!-- 20 -->\n      <g transform=\"translate(7.2 164.550504)scale(0.1 -0.1)\">\n       <use xlink:href=\"#DejaVuSans-50\"/>\n       <use x=\"63.623047\" xlink:href=\"#DejaVuSans-48\"/>\n      </g>\n     </g>\n    </g>\n    <g id=\"ytick_4\">\n     <g id=\"line2d_10\">\n      <g>\n       <use style=\"stroke:#000000;stroke-width:0.8;\" x=\"26.925\" xlink:href=\"#mc45be29b66\" y=\"130.800872\"/>\n      </g>\n     </g>\n     <g id=\"text_10\">\n      <!-- 30 -->\n      <g transform=\"translate(7.2 134.60009)scale(0.1 -0.1)\">\n       <defs>\n        <path d=\"M 40.578125 39.3125 \nQ 47.65625 37.796875 51.625 33 \nQ 55.609375 28.21875 55.609375 21.1875 \nQ 55.609375 10.40625 48.1875 4.484375 \nQ 40.765625 -1.421875 27.09375 -1.421875 \nQ 22.515625 -1.421875 17.65625 -0.515625 \nQ 12.796875 0.390625 7.625 2.203125 \nL 7.625 11.71875 \nQ 11.71875 9.328125 16.59375 8.109375 \nQ 21.484375 6.890625 26.8125 6.890625 \nQ 36.078125 6.890625 40.9375 10.546875 \nQ 45.796875 14.203125 45.796875 21.1875 \nQ 45.796875 27.640625 41.28125 31.265625 \nQ 36.765625 34.90625 28.71875 34.90625 \nL 20.21875 34.90625 \nL 20.21875 43.015625 \nL 29.109375 43.015625 \nQ 36.375 43.015625 40.234375 45.921875 \nQ 44.09375 48.828125 44.09375 54.296875 \nQ 44.09375 59.90625 40.109375 62.90625 \nQ 36.140625 65.921875 28.71875 65.921875 \nQ 24.65625 65.921875 20.015625 65.03125 \nQ 15.375 64.15625 9.8125 62.3125 \nL 9.8125 71.09375 \nQ 15.4375 72.65625 20.34375 73.4375 \nQ 25.25 74.21875 29.59375 74.21875 \nQ 40.828125 74.21875 47.359375 69.109375 \nQ 53.90625 64.015625 53.90625 55.328125 \nQ 53.90625 49.265625 50.4375 45.09375 \nQ 46.96875 40.921875 40.578125 39.3125 \nz\n\" id=\"DejaVuSans-51\"/>\n       </defs>\n       <use xlink:href=\"#DejaVuSans-51\"/>\n       <use x=\"63.623047\" xlink:href=\"#DejaVuSans-48\"/>\n      </g>\n     </g>\n    </g>\n    <g id=\"ytick_5\">\n     <g id=\"line2d_11\">\n      <g>\n       <use style=\"stroke:#000000;stroke-width:0.8;\" x=\"26.925\" xlink:href=\"#mc45be29b66\" y=\"100.850458\"/>\n      </g>\n     </g>\n     <g id=\"text_11\">\n      <!-- 40 -->\n      <g transform=\"translate(7.2 104.649677)scale(0.1 -0.1)\">\n       <defs>\n        <path d=\"M 37.796875 64.3125 \nL 12.890625 25.390625 \nL 37.796875 25.390625 \nz\nM 35.203125 72.90625 \nL 47.609375 72.90625 \nL 47.609375 25.390625 \nL 58.015625 25.390625 \nL 58.015625 17.1875 \nL 47.609375 17.1875 \nL 47.609375 0 \nL 37.796875 0 \nL 37.796875 17.1875 \nL 4.890625 17.1875 \nL 4.890625 26.703125 \nz\n\" id=\"DejaVuSans-52\"/>\n       </defs>\n       <use xlink:href=\"#DejaVuSans-52\"/>\n       <use x=\"63.623047\" xlink:href=\"#DejaVuSans-48\"/>\n      </g>\n     </g>\n    </g>\n    <g id=\"ytick_6\">\n     <g id=\"line2d_12\">\n      <g>\n       <use style=\"stroke:#000000;stroke-width:0.8;\" x=\"26.925\" xlink:href=\"#mc45be29b66\" y=\"70.900045\"/>\n      </g>\n     </g>\n     <g id=\"text_12\">\n      <!-- 50 -->\n      <g transform=\"translate(7.2 74.699264)scale(0.1 -0.1)\">\n       <use xlink:href=\"#DejaVuSans-53\"/>\n       <use x=\"63.623047\" xlink:href=\"#DejaVuSans-48\"/>\n      </g>\n     </g>\n    </g>\n    <g id=\"ytick_7\">\n     <g id=\"line2d_13\">\n      <g>\n       <use style=\"stroke:#000000;stroke-width:0.8;\" x=\"26.925\" xlink:href=\"#mc45be29b66\" y=\"40.949632\"/>\n      </g>\n     </g>\n     <g id=\"text_13\">\n      <!-- 60 -->\n      <g transform=\"translate(7.2 44.748851)scale(0.1 -0.1)\">\n       <defs>\n        <path d=\"M 33.015625 40.375 \nQ 26.375 40.375 22.484375 35.828125 \nQ 18.609375 31.296875 18.609375 23.390625 \nQ 18.609375 15.53125 22.484375 10.953125 \nQ 26.375 6.390625 33.015625 6.390625 \nQ 39.65625 6.390625 43.53125 10.953125 \nQ 47.40625 15.53125 47.40625 23.390625 \nQ 47.40625 31.296875 43.53125 35.828125 \nQ 39.65625 40.375 33.015625 40.375 \nz\nM 52.59375 71.296875 \nL 52.59375 62.3125 \nQ 48.875 64.0625 45.09375 64.984375 \nQ 41.3125 65.921875 37.59375 65.921875 \nQ 27.828125 65.921875 22.671875 59.328125 \nQ 17.53125 52.734375 16.796875 39.40625 \nQ 19.671875 43.65625 24.015625 45.921875 \nQ 28.375 48.1875 33.59375 48.1875 \nQ 44.578125 48.1875 50.953125 41.515625 \nQ 57.328125 34.859375 57.328125 23.390625 \nQ 57.328125 12.15625 50.6875 5.359375 \nQ 44.046875 -1.421875 33.015625 -1.421875 \nQ 20.359375 -1.421875 13.671875 8.265625 \nQ 6.984375 17.96875 6.984375 36.375 \nQ 6.984375 53.65625 15.1875 63.9375 \nQ 23.390625 74.21875 37.203125 74.21875 \nQ 40.921875 74.21875 44.703125 73.484375 \nQ 48.484375 72.75 52.59375 71.296875 \nz\n\" id=\"DejaVuSans-54\"/>\n       </defs>\n       <use xlink:href=\"#DejaVuSans-54\"/>\n       <use x=\"63.623047\" xlink:href=\"#DejaVuSans-48\"/>\n      </g>\n     </g>\n    </g>\n    <g id=\"ytick_8\">\n     <g id=\"line2d_14\">\n      <g>\n       <use style=\"stroke:#000000;stroke-width:0.8;\" x=\"26.925\" xlink:href=\"#mc45be29b66\" y=\"10.999219\"/>\n      </g>\n     </g>\n     <g id=\"text_14\">\n      <!-- 70 -->\n      <g transform=\"translate(7.2 14.798438)scale(0.1 -0.1)\">\n       <defs>\n        <path d=\"M 8.203125 72.90625 \nL 55.078125 72.90625 \nL 55.078125 68.703125 \nL 28.609375 0 \nL 18.3125 0 \nL 43.21875 64.59375 \nL 8.203125 64.59375 \nz\n\" id=\"DejaVuSans-55\"/>\n       </defs>\n       <use xlink:href=\"#DejaVuSans-55\"/>\n       <use x=\"63.623047\" xlink:href=\"#DejaVuSans-48\"/>\n      </g>\n     </g>\n    </g>\n   </g>\n   <g id=\"patch_3\">\n    <path d=\"M 26.925 227.540706 \nL 26.925 10.100706 \n\" style=\"fill:none;stroke:#000000;stroke-linecap:square;stroke-linejoin:miter;stroke-width:0.8;\"/>\n   </g>\n   <g id=\"patch_4\">\n    <path d=\"M 361.725 227.540706 \nL 361.725 10.100706 \n\" style=\"fill:none;stroke:#000000;stroke-linecap:square;stroke-linejoin:miter;stroke-width:0.8;\"/>\n   </g>\n   <g id=\"patch_5\">\n    <path d=\"M 26.925 227.540706 \nL 361.725 227.540706 \n\" style=\"fill:none;stroke:#000000;stroke-linecap:square;stroke-linejoin:miter;stroke-width:0.8;\"/>\n   </g>\n   <g id=\"patch_6\">\n    <path d=\"M 26.925 10.100706 \nL 361.725 10.100706 \n\" style=\"fill:none;stroke:#000000;stroke-linecap:square;stroke-linejoin:miter;stroke-width:0.8;\"/>\n   </g>\n  </g>\n </g>\n <defs>\n  <clipPath id=\"p15892665d2\">\n   <rect height=\"217.44\" width=\"334.8\" x=\"26.925\" y=\"10.100706\"/>\n  </clipPath>\n </defs>\n</svg>\n",
      "image/png": "[encoded data removed]"
     },
     "metadata": {
      "needs_background": "light"
     }
    }
   ],
   "source": [
    "import matplotlib.pyplot as plt\n",
    "import numpy as np\n",
    "plt.scatter(wish_count, freq)"
   ]
  },
  {
   "source": [
    "# Transaction-based wish prediction using apriori"
   ],
   "cell_type": "markdown",
   "metadata": {}
  },
  {
   "cell_type": "code",
   "execution_count": 11,
   "metadata": {},
   "outputs": [
    {
     "output_type": "execute_result",
     "data": {
      "text/plain": [
       "    antecedents consequents  antecedent support  consequent support   support  \\\n",
       "0         (776)      (6441)            0.111413            0.230978  0.051630   \n",
       "1        (6441)       (776)            0.230978            0.111413  0.051630   \n",
       "2        (5202)      (1886)            0.195109            0.129891  0.067935   \n",
       "3        (1886)      (5202)            0.129891            0.195109  0.067935   \n",
       "4        (6441)      (2446)            0.230978            0.129891  0.064130   \n",
       "..          ...         ...                 ...                 ...       ...   \n",
       "173      (8766)      (8324)            0.113587            0.125000  0.053261   \n",
       "174     (15290)     (14492)            0.063587            0.107065  0.051630   \n",
       "175     (14492)     (15290)            0.107065            0.063587  0.051630   \n",
       "176     (15498)     (14492)            0.109783            0.107065  0.082065   \n",
       "177     (14492)     (15498)            0.107065            0.109783  0.082065   \n",
       "\n",
       "     confidence      lift  leverage  conviction  \n",
       "0      0.463415  2.006313  0.025896    1.433177  \n",
       "1      0.223529  2.006313  0.025896    1.144392  \n",
       "2      0.348189  2.680621  0.042592    1.334910  \n",
       "3      0.523013  2.680621  0.042592    1.687448  \n",
       "4      0.277647  2.137534  0.034128    1.204548  \n",
       "..          ...       ...       ...         ...  \n",
       "173    0.468900  3.751196  0.039062    1.647523  \n",
       "174    0.811966  7.583843  0.044822    4.748790  \n",
       "175    0.482234  7.583843  0.044822    1.808562  \n",
       "176    0.747525  6.981957  0.070311    3.536722  \n",
       "177    0.766497  6.981957  0.070311    3.812453  \n",
       "\n",
       "[178 rows x 9 columns]"
      ],
      "text/html": "<div>\n<style scoped>\n    .dataframe tbody tr th:only-of-type {\n        vertical-align: middle;\n    }\n\n    .dataframe tbody tr th {\n        vertical-align: top;\n    }\n\n    .dataframe thead th {\n        text-align: right;\n    }\n</style>\n<table border=\"1\" class=\"dataframe\">\n  <thead>\n    <tr style=\"text-align: right;\">\n      <th></th>\n      <th>antecedents</th>\n      <th>consequents</th>\n      <th>antecedent support</th>\n      <th>consequent support</th>\n      <th>support</th>\n      <th>confidence</th>\n      <th>lift</th>\n      <th>leverage</th>\n      <th>conviction</th>\n    </tr>\n  </thead>\n  <tbody>\n    <tr>\n      <th>0</th>\n      <td>(776)</td>\n      <td>(6441)</td>\n      <td>0.111413</td>\n      <td>0.230978</td>\n      <td>0.051630</td>\n      <td>0.463415</td>\n      <td>2.006313</td>\n      <td>0.025896</td>\n      <td>1.433177</td>\n    </tr>\n    <tr>\n      <th>1</th>\n      <td>(6441)</td>\n      <td>(776)</td>\n      <td>0.230978</td>\n      <td>0.111413</td>\n      <td>0.051630</td>\n      <td>0.223529</td>\n      <td>2.006313</td>\n      <td>0.025896</td>\n      <td>1.144392</td>\n    </tr>\n    <tr>\n      <th>2</th>\n      <td>(5202)</td>\n      <td>(1886)</td>\n      <td>0.195109</td>\n      <td>0.129891</td>\n      <td>0.067935</td>\n      <td>0.348189</td>\n      <td>2.680621</td>\n      <td>0.042592</td>\n      <td>1.334910</td>\n    </tr>\n    <tr>\n      <th>3</th>\n      <td>(1886)</td>\n      <td>(5202)</td>\n      <td>0.129891</td>\n      <td>0.195109</td>\n      <td>0.067935</td>\n      <td>0.523013</td>\n      <td>2.680621</td>\n      <td>0.042592</td>\n      <td>1.687448</td>\n    </tr>\n    <tr>\n      <th>4</th>\n      <td>(6441)</td>\n      <td>(2446)</td>\n      <td>0.230978</td>\n      <td>0.129891</td>\n      <td>0.064130</td>\n      <td>0.277647</td>\n      <td>2.137534</td>\n      <td>0.034128</td>\n      <td>1.204548</td>\n    </tr>\n    <tr>\n      <th>...</th>\n      <td>...</td>\n      <td>...</td>\n      <td>...</td>\n      <td>...</td>\n      <td>...</td>\n      <td>...</td>\n      <td>...</td>\n      <td>...</td>\n      <td>...</td>\n    </tr>\n    <tr>\n      <th>173</th>\n      <td>(8766)</td>\n      <td>(8324)</td>\n      <td>0.113587</td>\n      <td>0.125000</td>\n      <td>0.053261</td>\n      <td>0.468900</td>\n      <td>3.751196</td>\n      <td>0.039062</td>\n      <td>1.647523</td>\n    </tr>\n    <tr>\n      <th>174</th>\n      <td>(15290)</td>\n      <td>(14492)</td>\n      <td>0.063587</td>\n      <td>0.107065</td>\n      <td>0.051630</td>\n      <td>0.811966</td>\n      <td>7.583843</td>\n      <td>0.044822</td>\n      <td>4.748790</td>\n    </tr>\n    <tr>\n      <th>175</th>\n      <td>(14492)</td>\n      <td>(15290)</td>\n      <td>0.107065</td>\n      <td>0.063587</td>\n      <td>0.051630</td>\n      <td>0.482234</td>\n      <td>7.583843</td>\n      <td>0.044822</td>\n      <td>1.808562</td>\n    </tr>\n    <tr>\n      <th>176</th>\n      <td>(15498)</td>\n      <td>(14492)</td>\n      <td>0.109783</td>\n      <td>0.107065</td>\n      <td>0.082065</td>\n      <td>0.747525</td>\n      <td>6.981957</td>\n      <td>0.070311</td>\n      <td>3.536722</td>\n    </tr>\n    <tr>\n      <th>177</th>\n      <td>(14492)</td>\n      <td>(15498)</td>\n      <td>0.107065</td>\n      <td>0.109783</td>\n      <td>0.082065</td>\n      <td>0.766497</td>\n      <td>6.981957</td>\n      <td>0.070311</td>\n      <td>3.812453</td>\n    </tr>\n  </tbody>\n</table>\n<p>178 rows × 9 columns</p>\n</div>"
     },
     "metadata": {},
     "execution_count": 11
    }
   ],
   "source": [
    "from mlxtend.frequent_patterns import apriori\n",
    "from mlxtend.frequent_patterns import association_rules\n",
    "\n",
    "frequent_itemsets = apriori(new_df, min_support=0.05)\n",
    "rules = association_rules(frequent_itemsets, metric=\"lift\")\n",
    "# Something FAILED\n",
    "rules"
   ]
  },
  {
   "cell_type": "code",
   "execution_count": 12,
   "metadata": {},
   "outputs": [
    {
     "output_type": "execute_result",
     "data": {
      "text/plain": [
       "178"
      ]
     },
     "metadata": {},
     "execution_count": 12
    }
   ],
   "source": [
    "len(rules)"
   ]
  },
  {
   "cell_type": "code",
   "execution_count": 13,
   "metadata": {},
   "outputs": [
    {
     "output_type": "stream",
     "name": "stdout",
     "text": [
      "Number of antecedents inferred: 164\nRatio of antecedents / well-known products: 0.0075736584464764015\n"
     ]
    }
   ],
   "source": [
    "print(\"Number of antecedents inferred:\", len(np.unique(rules[\"antecedents\"])))\n",
    "print(\"Ratio of antecedents / well-known products:\", len(np.unique(rules[\"antecedents\"])) / number_of_product)"
   ]
  },
  {
   "source": [
    "# User-based prediction using cosine similarity"
   ],
   "cell_type": "markdown",
   "metadata": {}
  },
  {
   "source": [
    "# Evaluation metrics: All but one\n",
    "## With K-Folds Cross-Validation"
   ],
   "cell_type": "markdown",
   "metadata": {}
  },
  {
   "cell_type": "code",
   "execution_count": 14,
   "metadata": {
    "tags": []
   },
   "outputs": [
    {
     "output_type": "stream",
     "name": "stdout",
     "text": [
      "   1-Accuracy: 85.87%\n",
      "   2-Accuracy: 84.24%\n",
      "   3-Accuracy: 85.33%\n",
      "   4-Accuracy: 85.33%\n",
      "   5-Accuracy: 85.87%\n",
      "   6-Accuracy: 86.96%\n",
      "   7-Accuracy: 86.41%\n",
      "   8-Accuracy: 84.24%\n",
      "   9-Accuracy: 82.61%\n",
      "  10-Accuracy: 82.07%\n",
      "Mean Accuracy: 84.89%\n",
      "Training time: 137.25543403625488 seconds\n"
     ]
    }
   ],
   "source": [
    "from sklearn.metrics.pairwise import cosine_similarity\n",
    "from sklearn.model_selection import KFold\n",
    "import time\n",
    "n_splits, mean_acc = 10, 0\n",
    "kf = KFold(n_splits=n_splits, random_state=2021, shuffle=True)\n",
    "idx, thresh = 0, 1e-3\n",
    "start_time = time.time()\n",
    "for train_index, test_index in kf.split(new_df):\n",
    "    idx += 1\n",
    "    X_train, X_test = new_df.iloc[train_index], new_df.iloc[test_index]\n",
    "    sims = cosine_similarity(X_train.T, X_train.T)\n",
    "    # Make a new df cotaining similarity and headers\n",
    "    sims_df = pd.DataFrame(sims)\n",
    "    sims_df.columns = new_df.columns\n",
    "    sims_df.index  = new_df.columns\n",
    "\n",
    "    # precompute a set for quick query\n",
    "    valid_product_set = set(sims_df.index)\n",
    "\n",
    "    # print(\"Train size:\", len(X_train))\n",
    "    # print(\"Test size:\", len(X_test))\n",
    "    # evaluate all - but - one metrics:\n",
    "    # steps:\n",
    "    # 1: Assume that first valid one is unknown\n",
    "    # 2: Calculate prediction value for it\n",
    "    # 3: Verdict: +1 to score if pred > THRESHOLD\n",
    "    score = 0\n",
    "\n",
    "    for _, sample in X_test.iterrows():\n",
    "        ids = person_to_products.loc[sample.name][\"productId\"]\n",
    "        test_product_id = -1\n",
    "        for id in ids:\n",
    "            if id in valid_product_set:\n",
    "                test_product_id = id\n",
    "                break\n",
    "        # we never get the case where all are invalid !!!\n",
    "        # assume that we didn't know that product is chosen\n",
    "        dot_prod = np.dot(sample, sims_df.loc[test_product_id]) - 1\n",
    "        sum_sims = sims_df.loc[test_product_id].sum() - 1 \n",
    "        if sum_sims < 1e-6: \n",
    "            continue \n",
    "        pred = dot_prod / sum_sims\n",
    "        score += (pred > thresh)\n",
    "\n",
    "    acc = score / len(X_test) * 100\n",
    "    print(\"%4d-Accuracy: %.2f%%\" % (idx, acc))\n",
    "    mean_acc += acc\n",
    "\n",
    "print(\"Mean Accuracy: %.2f%%\" % (mean_acc/n_splits))\n",
    "print(\"Training time:\", time.time() - start_time, \"seconds\")"
   ]
  },
  {
   "cell_type": "code",
   "execution_count": 15,
   "metadata": {},
   "outputs": [
    {
     "output_type": "stream",
     "name": "stdout",
     "text": [
      "Start looking for recommendations ...\n",
      "Looking done in 65.54409289360046  seconds\n",
      "Recommended products (id, prediction value) =  []\n"
     ]
    }
   ],
   "source": [
    "\n",
    "def give_recommendations(user_sample, return_num):\n",
    "    result = []\n",
    "    sample = [0] * len(wish_df.columns)\n",
    "    user_product_set = set(user_sample)\n",
    "    for product_id in user_sample:\n",
    "        sample[product_id] = 1    \n",
    "    for test_product_id in wish_df.columns:\n",
    "        # skip known product\n",
    "        if test_product_id in user_product_set:\n",
    "            continue\n",
    "        # sum(user_sample[i] * sim(test_product_id, i))\n",
    "        dot_prod = np.dot(sample, sims_df.loc[test_product_id]) - 1\n",
    "        # sum(sim(test_product_id, i))\n",
    "        sum_sims = sims_df.loc[test_product_id].sum() - 1\n",
    "        if sum_sims < 1e-6: \n",
    "            continue\n",
    "        pred = dot_prod / sum_sims\n",
    "        if pred > thresh:\n",
    "            result.append((pred, test_product_id))\n",
    "    # return sorted(result)[::-1][:return_num]\n",
    "    return result\n",
    "\n",
    "import time\n",
    "print(\"Start looking for recommendations ...\")\n",
    "\n",
    "marker = time.time()\n",
    "recommendations = give_recommendations([22], 10)\n",
    "print(\"Looking done in\", time.time()-marker, \" seconds\")\n",
    "\n",
    "print(\"Recommended products (id, prediction value) = \", recommendations)"
   ]
  },
  {
   "cell_type": "code",
   "execution_count": null,
   "metadata": {},
   "outputs": [],
   "source": []
  }
 ]
}