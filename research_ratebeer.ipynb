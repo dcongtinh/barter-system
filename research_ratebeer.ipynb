{
 "metadata": {
  "language_info": {
   "codemirror_mode": {
    "name": "ipython",
    "version": 3
   },
   "file_extension": ".py",
   "mimetype": "text/x-python",
   "name": "python",
   "nbconvert_exporter": "python",
   "pygments_lexer": "ipython3",
   "version": "3.6.8"
  },
  "orig_nbformat": 2,
  "kernelspec": {
   "name": "python368jvsc74a57bd0aee8b7b246df8f9039afb4144a1f6fd8d2ca17a180786b69acc140d282b71a49",
   "display_name": "Python 3.6.8 64-bit"
  }
 },
 "nbformat": 4,
 "nbformat_minor": 2,
 "cells": [
  {
   "cell_type": "code",
   "execution_count": 2,
   "metadata": {},
   "outputs": [],
   "source": [
    "import pandas as pd \n",
    "import numpy as np\n",
    "\n",
    "# read csv and assign columns\n",
    "columns = [\"personId\", \"productId\"]\n",
    "pairs = pd.read_csv(\"dataset/ratebeer/pairs_dense.csv\", header=None)\n",
    "wish = pd.read_csv(\"dataset/ratebeer/wish_dense.csv\", header=None)\n",
    "transac = pd.read_csv(\"dataset/ratebeer/transac_dense.csv\", header=None)\n",
    "have = pd.read_csv(\"dataset/ratebeer/have_dense.csv\", header=None)\n",
    "\n",
    "# pairs.columns = columns\n",
    "# wish.columns = columns\n",
    "# transac.columns = columns\n",
    "# have.columns = columns"
   ]
  },
  {
   "cell_type": "code",
   "execution_count": 9,
   "metadata": {},
   "outputs": [
    {
     "output_type": "execute_result",
     "data": {
      "text/plain": [
       "          0    1\n",
       "0         1    2\n",
       "1         3    4\n",
       "2         5    6\n",
       "3         5    6\n",
       "4         7    8\n",
       "...     ...  ...\n",
       "125660  234   71\n",
       "125661  234   71\n",
       "125662  234   71\n",
       "125663   71  234\n",
       "125664   71  234\n",
       "\n",
       "[125665 rows x 2 columns]"
      ],
      "text/html": "<div>\n<style scoped>\n    .dataframe tbody tr th:only-of-type {\n        vertical-align: middle;\n    }\n\n    .dataframe tbody tr th {\n        vertical-align: top;\n    }\n\n    .dataframe thead th {\n        text-align: right;\n    }\n</style>\n<table border=\"1\" class=\"dataframe\">\n  <thead>\n    <tr style=\"text-align: right;\">\n      <th></th>\n      <th>0</th>\n      <th>1</th>\n    </tr>\n  </thead>\n  <tbody>\n    <tr>\n      <th>0</th>\n      <td>1</td>\n      <td>2</td>\n    </tr>\n    <tr>\n      <th>1</th>\n      <td>3</td>\n      <td>4</td>\n    </tr>\n    <tr>\n      <th>2</th>\n      <td>5</td>\n      <td>6</td>\n    </tr>\n    <tr>\n      <th>3</th>\n      <td>5</td>\n      <td>6</td>\n    </tr>\n    <tr>\n      <th>4</th>\n      <td>7</td>\n      <td>8</td>\n    </tr>\n    <tr>\n      <th>...</th>\n      <td>...</td>\n      <td>...</td>\n    </tr>\n    <tr>\n      <th>125660</th>\n      <td>234</td>\n      <td>71</td>\n    </tr>\n    <tr>\n      <th>125661</th>\n      <td>234</td>\n      <td>71</td>\n    </tr>\n    <tr>\n      <th>125662</th>\n      <td>234</td>\n      <td>71</td>\n    </tr>\n    <tr>\n      <th>125663</th>\n      <td>71</td>\n      <td>234</td>\n    </tr>\n    <tr>\n      <th>125664</th>\n      <td>71</td>\n      <td>234</td>\n    </tr>\n  </tbody>\n</table>\n<p>125665 rows × 2 columns</p>\n</div>"
     },
     "metadata": {},
     "execution_count": 9
    }
   ],
   "source": [
    "transac.iloc[:, :2]"
   ]
  },
  {
   "cell_type": "code",
   "execution_count": 14,
   "metadata": {},
   "outputs": [
    {
     "output_type": "execute_result",
     "data": {
      "text/plain": [
       "array([[  1,   2],\n",
       "       [  3,   4],\n",
       "       [  5,   6],\n",
       "       ...,\n",
       "       [234,  71],\n",
       "       [ 71, 234],\n",
       "       [ 71, 234]])"
      ]
     },
     "metadata": {},
     "execution_count": 14
    }
   ],
   "source": [
    "transac_u.iloc[:].values"
   ]
  },
  {
   "cell_type": "code",
   "execution_count": 19,
   "metadata": {},
   "outputs": [
    {
     "output_type": "stream",
     "name": "stdout",
     "text": [
      "2885\n2971\n"
     ]
    }
   ],
   "source": [
    "transac_u = transac.iloc[:, :2] # get col 0, 1 (GiverUserID,ReceiverUserID)\n",
    "t_max_u = np.max(transac_u.iloc[:].values)\n",
    "w_max_u = np.max(wish.iloc[:, 0].values)\n",
    "print(t_max_u)\n",
    "print(w_max_u)"
   ]
  },
  {
   "cell_type": "code",
   "execution_count": 20,
   "metadata": {},
   "outputs": [
    {
     "output_type": "execute_result",
     "data": {
      "text/plain": [
       "2885"
      ]
     },
     "metadata": {},
     "execution_count": 20
    }
   ],
   "source": [
    "pairs_u = pairs.iloc[:, [0, 2]]\n",
    "p_max_u = np.max(pairs_u.iloc[:].values)\n",
    "p_max_u"
   ]
  },
  {
   "cell_type": "code",
   "execution_count": 28,
   "metadata": {},
   "outputs": [
    {
     "output_type": "execute_result",
     "data": {
      "text/plain": [
       "2971"
      ]
     },
     "metadata": {},
     "execution_count": 28
    }
   ],
   "source": [
    "max_u = np.max([t_max_u, w_max_u, p_max_u])\n",
    "max_u"
   ]
  },
  {
   "cell_type": "code",
   "execution_count": 30,
   "metadata": {},
   "outputs": [
    {
     "output_type": "stream",
     "name": "stdout",
     "text": [
      "t_max_i 18757\nw_max_i 32238\np_max_i 18756\n32238\n"
     ]
    }
   ],
   "source": [
    "t_max_i = np.max(transac.iloc[:, 2].values)\n",
    "print('t_max_i', t_max_i)\n",
    "w_max_i = np.max(wish.iloc[:,1].values)\n",
    "print('w_max_i', w_max_i)\n",
    "pairs_i = pairs.iloc[:, [1, 3]]\n",
    "p_max_i = np.max(pairs_i.iloc[:].values)\n",
    "print('p_max_i', p_max_i)\n",
    "max_i = np.max([t_max_i, p_max_i, w_max_i])\n",
    "print(max_i)\n"
   ]
  },
  {
   "cell_type": "code",
   "execution_count": 32,
   "metadata": {},
   "outputs": [],
   "source": [
    "RR = np.zeros((max_u, max_i)) # interaction matrix - receiver\n",
    "RG = np.zeros((max_u, max_i)) # interaction matrix - giver"
   ]
  },
  {
   "cell_type": "code",
   "execution_count": null,
   "metadata": {},
   "outputs": [],
   "source": [
    "# Create interaction matrix\n",
    "# c_ij represent the number of transactions\n",
    "# that i received from j\n",
    "C = np.zeros((max_u, max_u))"
   ]
  },
  {
   "cell_type": "code",
   "execution_count": 34,
   "metadata": {},
   "outputs": [
    {
     "output_type": "execute_result",
     "data": {
      "text/plain": [
       "4304"
      ]
     },
     "metadata": {},
     "execution_count": 34
    }
   ],
   "source": [
    "num_test = int(len(pairs)/10)\n",
    "num_test"
   ]
  },
  {
   "cell_type": "code",
   "execution_count": 86,
   "metadata": {},
   "outputs": [],
   "source": [
    "perms = np.random.permutation(len(pairs))\n",
    "test_rows = perms[:num_test]\n",
    "train_rows = perms[num_test:]\n",
    "test_pairs  = pairs.iloc[test_rows]\n",
    "train_pairs = pairs.iloc[train_rows]"
   ]
  },
  {
   "cell_type": "code",
   "execution_count": 87,
   "metadata": {},
   "outputs": [
    {
     "output_type": "execute_result",
     "data": {
      "text/plain": [
       "          0    1      2           3\n",
       "0         1    2      1  1314860400\n",
       "1         3    4      2  1362124800\n",
       "2         5    6      3  1178002800\n",
       "3         5    6      4  1178002800\n",
       "4         7    8      5  1354348800\n",
       "...     ...  ...    ...         ...\n",
       "125660  234   71    313  1296547200\n",
       "125661  234   71   1326  1309503600\n",
       "125662  234   71  11815  1314860400\n",
       "125663   71  234  18757  1362124800\n",
       "125664   71  234   1326  1362124800\n",
       "\n",
       "[125665 rows x 4 columns]"
      ],
      "text/html": "<div>\n<style scoped>\n    .dataframe tbody tr th:only-of-type {\n        vertical-align: middle;\n    }\n\n    .dataframe tbody tr th {\n        vertical-align: top;\n    }\n\n    .dataframe thead th {\n        text-align: right;\n    }\n</style>\n<table border=\"1\" class=\"dataframe\">\n  <thead>\n    <tr style=\"text-align: right;\">\n      <th></th>\n      <th>0</th>\n      <th>1</th>\n      <th>2</th>\n      <th>3</th>\n    </tr>\n  </thead>\n  <tbody>\n    <tr>\n      <th>0</th>\n      <td>1</td>\n      <td>2</td>\n      <td>1</td>\n      <td>1314860400</td>\n    </tr>\n    <tr>\n      <th>1</th>\n      <td>3</td>\n      <td>4</td>\n      <td>2</td>\n      <td>1362124800</td>\n    </tr>\n    <tr>\n      <th>2</th>\n      <td>5</td>\n      <td>6</td>\n      <td>3</td>\n      <td>1178002800</td>\n    </tr>\n    <tr>\n      <th>3</th>\n      <td>5</td>\n      <td>6</td>\n      <td>4</td>\n      <td>1178002800</td>\n    </tr>\n    <tr>\n      <th>4</th>\n      <td>7</td>\n      <td>8</td>\n      <td>5</td>\n      <td>1354348800</td>\n    </tr>\n    <tr>\n      <th>...</th>\n      <td>...</td>\n      <td>...</td>\n      <td>...</td>\n      <td>...</td>\n    </tr>\n    <tr>\n      <th>125660</th>\n      <td>234</td>\n      <td>71</td>\n      <td>313</td>\n      <td>1296547200</td>\n    </tr>\n    <tr>\n      <th>125661</th>\n      <td>234</td>\n      <td>71</td>\n      <td>1326</td>\n      <td>1309503600</td>\n    </tr>\n    <tr>\n      <th>125662</th>\n      <td>234</td>\n      <td>71</td>\n      <td>11815</td>\n      <td>1314860400</td>\n    </tr>\n    <tr>\n      <th>125663</th>\n      <td>71</td>\n      <td>234</td>\n      <td>18757</td>\n      <td>1362124800</td>\n    </tr>\n    <tr>\n      <th>125664</th>\n      <td>71</td>\n      <td>234</td>\n      <td>1326</td>\n      <td>1362124800</td>\n    </tr>\n  </tbody>\n</table>\n<p>125665 rows × 4 columns</p>\n</div>"
     },
     "metadata": {},
     "execution_count": 87
    }
   ],
   "source": [
    "transac"
   ]
  },
  {
   "cell_type": "code",
   "execution_count": null,
   "metadata": {},
   "outputs": [],
   "source": [
    "train = transac\n",
    "train = [train;[zeros(length(wish),1) wish zeros(length(wish),1)]]"
   ]
  }
 ]
}