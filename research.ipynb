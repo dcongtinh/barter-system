{
 "metadata": {
  "language_info": {
   "codemirror_mode": {
    "name": "ipython",
    "version": 3
   },
   "file_extension": ".py",
   "mimetype": "text/x-python",
   "name": "python",
   "nbconvert_exporter": "python",
   "pygments_lexer": "ipython3",
   "version": "3.6.8"
  },
  "orig_nbformat": 2,
  "kernelspec": {
   "name": "python368jvsc74a57bd042cbe2a30f426535b8006a30886e1ea354918eaf4e61ab59d5292e0557712b4b",
   "display_name": "Python 3.6.8 64-bit"
  }
 },
 "nbformat": 4,
 "nbformat_minor": 2,
 "cells": [
  {
   "source": [
    "# Import data from json"
   ],
   "cell_type": "markdown",
   "metadata": {}
  },
  {
   "cell_type": "code",
   "execution_count": 1,
   "metadata": {},
   "outputs": [],
   "source": [
    "import json\n",
    "with open(\"dataset/tradesy.json\", \"r\") as f:\n",
    "    user_transactions = json.loads(f.read())"
   ]
  },
  {
   "source": [
    "# Stat:\n",
    "- See how many products\n",
    "- Which fields, and which should be concerned"
   ],
   "cell_type": "markdown",
   "metadata": {}
  },
  {
   "cell_type": "code",
   "execution_count": 2,
   "metadata": {},
   "outputs": [
    {
     "output_type": "execute_result",
     "data": {
      "text/plain": [
       "[{'uid': '1',\n",
       "  'lists': {'sold': ['3', '2'], 'selling': [], 'want': [], 'bought': []}},\n",
       " {'uid': '2',\n",
       "  'lists': {'sold': ['104', '103', '102'],\n",
       "   'selling': [],\n",
       "   'want': [],\n",
       "   'bought': ['466', '459', '457', '449']}},\n",
       " {'uid': '3',\n",
       "  'lists': {'sold': ['845', '833', '829'],\n",
       "   'selling': [],\n",
       "   'want': [],\n",
       "   'bought': ['874',\n",
       "    '861',\n",
       "    '860',\n",
       "    '857',\n",
       "    '852',\n",
       "    '850',\n",
       "    '847',\n",
       "    '842',\n",
       "    '160',\n",
       "    '143',\n",
       "    '142',\n",
       "    '141',\n",
       "    '140',\n",
       "    '139',\n",
       "    '93',\n",
       "    '88',\n",
       "    '87',\n",
       "    '84',\n",
       "    '81',\n",
       "    '70',\n",
       "    '66',\n",
       "    '63',\n",
       "    '61',\n",
       "    '60']}}]"
      ]
     },
     "metadata": {},
     "execution_count": 2
    }
   ],
   "source": [
    "user_transactions[:3]"
   ]
  },
  {
   "cell_type": "code",
   "execution_count": 4,
   "metadata": {},
   "outputs": [
    {
     "output_type": "stream",
     "name": "stdout",
     "text": [
      "Number of users: 128152\n"
     ]
    }
   ],
   "source": [
    "print(\"Number of users:\", len(user_transactions))"
   ]
  },
  {
   "cell_type": "code",
   "execution_count": 5,
   "metadata": {},
   "outputs": [
    {
     "output_type": "stream",
     "name": "stdout",
     "text": [
      "Fields of each user records: uid, lists\nFields of each tx lists: sold, selling, want, bought\n"
     ]
    }
   ],
   "source": [
    "print(\"Fields of each user records:\", \", \".join(user_transactions[0].keys()))\n",
    "print(\"Fields of each tx lists:\", \", \".join(user_transactions[0][\"lists\"].keys()))"
   ]
  },
  {
   "cell_type": "code",
   "execution_count": 59,
   "metadata": {},
   "outputs": [
    {
     "output_type": "stream",
     "name": "stdout",
     "text": [
      "Unique items: 227856\n=> Size to store: ~ 27847.482788085938 , MB > 8 GB RAM\n"
     ]
    }
   ],
   "source": [
    "import numpy as np\n",
    "\n",
    "def get_unique_items(user_transactions):\n",
    "    item_ids = []\n",
    "    for tx in user_transactions:\n",
    "        if not len(tx[\"lists\"][\"want\"]):\n",
    "            continue\n",
    "        item_ids.extend(tx[\"lists\"][\"want\"])\n",
    "        item_ids.extend(tx[\"lists\"][\"selling\"])\n",
    "    unique_ids = np.unique(item_ids, return_counts=True)\n",
    "    return unique_ids\n",
    "\n",
    "unique_ids, counts = get_unique_items(user_transactions)\n",
    "print(\"Unique items:\", len(unique_ids))\n",
    "print(\"=> Size to store: ~\", len(unique_ids) * len(user_transactions) / 1024 / 1024, \", MB > 8 GB RAM\")"
   ]
  },
  {
   "source": [
    "# Recommender system focus on \"sold\"\n"
   ],
   "cell_type": "markdown",
   "metadata": {}
  },
  {
   "cell_type": "code",
   "execution_count": 77,
   "metadata": {},
   "outputs": [],
   "source": [
    "# Transform data: transaction jsons => table\n",
    "import pandas as pd\n",
    "from mlxtend.preprocessing import TransactionEncoder \n",
    "\n",
    "userToSold = {}\n",
    "focus_transactions = user_transactions[:300]\n",
    "sold_list = []\n",
    "for tx in focus_transactions:\n",
    "    if len(tx[\"lists\"][\"sold\"]) == 0:\n",
    "        continue \n",
    "    userToSold[tx[\"uid\"]] = list(map(int, tx[\"lists\"][\"sold\"]))\n",
    "    userToSold[tx[\"uid\"]] = list(map(int, tx[\"lists\"][\"bought\"]))\n",
    "    sold_list.append(userToSold[tx[\"uid\"]])\n",
    "\n",
    "encoder = TransactionEncoder()\n",
    "sold_list_matrix = encoder.fit_transform(sold_list).astype(\"int\")\n",
    "\n",
    "df = pd.DataFrame(sold_list_matrix, columns=encoder.columns_)"
   ]
  },
  {
   "cell_type": "code",
   "execution_count": 79,
   "metadata": {},
   "outputs": [
    {
     "output_type": "stream",
     "name": "stdout",
     "text": [
      "Empty DataFrame\nColumns: [support, itemsets]\nIndex: []\nNumber of rules: 0\n"
     ]
    }
   ],
   "source": [
    "from mlxtend.frequent_patterns import apriori\n",
    "fq_itemset = apriori(df, min_support=0.7)\n",
    "\n",
    "print(fq_itemset)\n",
    "print(\"Number of rules:\", len(fq_itemset))"
   ]
  }
 ]
}