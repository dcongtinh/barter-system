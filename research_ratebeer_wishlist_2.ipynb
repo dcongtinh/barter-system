{
 "metadata": {
  "language_info": {
   "codemirror_mode": {
    "name": "ipython",
    "version": 3
   },
   "file_extension": ".py",
   "mimetype": "text/x-python",
   "name": "python",
   "nbconvert_exporter": "python",
   "pygments_lexer": "ipython3",
   "version": "3.6.8"
  },
  "orig_nbformat": 2,
  "kernelspec": {
   "name": "python368jvsc74a57bd0aee8b7b246df8f9039afb4144a1f6fd8d2ca17a180786b69acc140d282b71a49",
   "display_name": "Python 3.6.8 64-bit"
  }
 },
 "nbformat": 4,
 "nbformat_minor": 2,
 "cells": [
  {
   "source": [
    "# Data walking through"
   ],
   "cell_type": "markdown",
   "metadata": {}
  },
  {
   "cell_type": "code",
   "execution_count": 1,
   "metadata": {},
   "outputs": [],
   "source": [
    "import pandas as pd \n",
    "import numpy as np"
   ]
  },
  {
   "cell_type": "code",
   "execution_count": 2,
   "metadata": {},
   "outputs": [
    {
     "output_type": "execute_result",
     "data": {
      "text/plain": [
       "        GiverID  ReceiverID  itemID   timestamp\n",
       "0         92478       68245  350701  1314860400\n",
       "1         11299      163679  151172  1362124800\n",
       "2         11259        9554    7688  1178002800\n",
       "3         11259        9554  355163  1178002800\n",
       "4        128373       10288  135888  1354348800\n",
       "...         ...         ...     ...         ...\n",
       "125660    15110       28921   32792  1296547200\n",
       "125661    15110       28921  244384  1309503600\n",
       "125662    15110       28921  329904  1314860400\n",
       "125663    28921       15110  148479  1362124800\n",
       "125664    28921       15110  244384  1362124800\n",
       "\n",
       "[125665 rows x 4 columns]"
      ],
      "text/html": "<div>\n<style scoped>\n    .dataframe tbody tr th:only-of-type {\n        vertical-align: middle;\n    }\n\n    .dataframe tbody tr th {\n        vertical-align: top;\n    }\n\n    .dataframe thead th {\n        text-align: right;\n    }\n</style>\n<table border=\"1\" class=\"dataframe\">\n  <thead>\n    <tr style=\"text-align: right;\">\n      <th></th>\n      <th>GiverID</th>\n      <th>ReceiverID</th>\n      <th>itemID</th>\n      <th>timestamp</th>\n    </tr>\n  </thead>\n  <tbody>\n    <tr>\n      <th>0</th>\n      <td>92478</td>\n      <td>68245</td>\n      <td>350701</td>\n      <td>1314860400</td>\n    </tr>\n    <tr>\n      <th>1</th>\n      <td>11299</td>\n      <td>163679</td>\n      <td>151172</td>\n      <td>1362124800</td>\n    </tr>\n    <tr>\n      <th>2</th>\n      <td>11259</td>\n      <td>9554</td>\n      <td>7688</td>\n      <td>1178002800</td>\n    </tr>\n    <tr>\n      <th>3</th>\n      <td>11259</td>\n      <td>9554</td>\n      <td>355163</td>\n      <td>1178002800</td>\n    </tr>\n    <tr>\n      <th>4</th>\n      <td>128373</td>\n      <td>10288</td>\n      <td>135888</td>\n      <td>1354348800</td>\n    </tr>\n    <tr>\n      <th>...</th>\n      <td>...</td>\n      <td>...</td>\n      <td>...</td>\n      <td>...</td>\n    </tr>\n    <tr>\n      <th>125660</th>\n      <td>15110</td>\n      <td>28921</td>\n      <td>32792</td>\n      <td>1296547200</td>\n    </tr>\n    <tr>\n      <th>125661</th>\n      <td>15110</td>\n      <td>28921</td>\n      <td>244384</td>\n      <td>1309503600</td>\n    </tr>\n    <tr>\n      <th>125662</th>\n      <td>15110</td>\n      <td>28921</td>\n      <td>329904</td>\n      <td>1314860400</td>\n    </tr>\n    <tr>\n      <th>125663</th>\n      <td>28921</td>\n      <td>15110</td>\n      <td>148479</td>\n      <td>1362124800</td>\n    </tr>\n    <tr>\n      <th>125664</th>\n      <td>28921</td>\n      <td>15110</td>\n      <td>244384</td>\n      <td>1362124800</td>\n    </tr>\n  </tbody>\n</table>\n<p>125665 rows × 4 columns</p>\n</div>"
     },
     "metadata": {},
     "execution_count": 2
    }
   ],
   "source": [
    "transac = pd.read_csv(\"dataset/ratebeer/transac.csv\", header=None)\n",
    "columns = [\"GiverID\", \"ReceiverID\", \"itemID\", \"timestamp\"]\n",
    "transac.columns = columns\n",
    "transac"
   ]
  },
  {
   "cell_type": "code",
   "execution_count": 66,
   "metadata": {},
   "outputs": [
    {
     "output_type": "execute_result",
     "data": {
      "text/plain": [
       "                                                       itemID\n",
       "GiverID ReceiverID timestamp                                 \n",
       "39      5387       1064991600                           [624]\n",
       "        6250       1072944000                        [312514]\n",
       "                   1088665200   [11221, 18543, 49666, 342736]\n",
       "        7034       1196496000  [12944, 13618, 191628, 385120]\n",
       "        7084       1125558000                         [37652]"
      ],
      "text/html": "<div>\n<style scoped>\n    .dataframe tbody tr th:only-of-type {\n        vertical-align: middle;\n    }\n\n    .dataframe tbody tr th {\n        vertical-align: top;\n    }\n\n    .dataframe thead th {\n        text-align: right;\n    }\n</style>\n<table border=\"1\" class=\"dataframe\">\n  <thead>\n    <tr style=\"text-align: right;\">\n      <th></th>\n      <th></th>\n      <th></th>\n      <th>itemID</th>\n    </tr>\n    <tr>\n      <th>GiverID</th>\n      <th>ReceiverID</th>\n      <th>timestamp</th>\n      <th></th>\n    </tr>\n  </thead>\n  <tbody>\n    <tr>\n      <th rowspan=\"5\" valign=\"top\">39</th>\n      <th>5387</th>\n      <th>1064991600</th>\n      <td>[624]</td>\n    </tr>\n    <tr>\n      <th rowspan=\"2\" valign=\"top\">6250</th>\n      <th>1072944000</th>\n      <td>[312514]</td>\n    </tr>\n    <tr>\n      <th>1088665200</th>\n      <td>[11221, 18543, 49666, 342736]</td>\n    </tr>\n    <tr>\n      <th>7034</th>\n      <th>1196496000</th>\n      <td>[12944, 13618, 191628, 385120]</td>\n    </tr>\n    <tr>\n      <th>7084</th>\n      <th>1125558000</th>\n      <td>[37652]</td>\n    </tr>\n  </tbody>\n</table>\n</div>"
     },
     "metadata": {},
     "execution_count": 66
    }
   ],
   "source": [
    "number_of_row = len(transac)\n",
    "# get number of products\n",
    "number_of_product = len(np.unique(transac[\"itemID\"]))\n",
    "\n",
    "transac_grouped = transac.groupby([\"GiverID\", \"ReceiverID\", \"timestamp\"]).aggregate(lambda x: list(np.unique(x)))\n",
    "number_of_transac = len(transac_grouped)\n",
    "\n",
    "transac_grouped.head()"
   ]
  },
  {
   "cell_type": "code",
   "execution_count": 68,
   "metadata": {},
   "outputs": [
    {
     "output_type": "stream",
     "name": "stdout",
     "text": [
      "Number of row: 125665\nNumber of product: 18757\nNumber of transac: 39082\n"
     ]
    }
   ],
   "source": [
    "print(\"Number of row:\", number_of_row)\n",
    "print(\"Number of product:\", number_of_product)\n",
    "print(\"Number of transac:\", number_of_transac)"
   ]
  },
  {
   "cell_type": "code",
   "execution_count": 69,
   "metadata": {},
   "outputs": [],
   "source": [
    "def transactionEncoder(df):\n",
    "    # 'transactions' is now temporary variable\n",
    "    transactions = [row[\"itemID\"] for index, row in df.iterrows()]\n",
    "    from mlxtend.preprocessing import TransactionEncoder\n",
    "\n",
    "    transaction_encoder = TransactionEncoder()\n",
    "    transac_matrix = transaction_encoder.fit_transform(transactions).astype(\"int\")\n",
    "    transac_df = pd.DataFrame(transac_matrix, columns=transaction_encoder.columns_)\n",
    "\n",
    "    return transac_df, transac_matrix"
   ]
  },
  {
   "source": [
    "# Transaction-based wish prediction using apriori"
   ],
   "cell_type": "markdown",
   "metadata": {}
  },
  {
   "cell_type": "code",
   "execution_count": null,
   "metadata": {},
   "outputs": [],
   "source": [
    "np.unique(transac_df.sum(), return_counts=True)"
   ]
  },
  {
   "cell_type": "code",
   "execution_count": 74,
   "metadata": {},
   "outputs": [
    {
     "output_type": "stream",
     "name": "stdout",
     "text": [
      "Empty DataFrame\nColumns: [support, itemsets]\nIndex: []\n"
     ]
    }
   ],
   "source": [
    "from mlxtend.frequent_patterns import apriori\n",
    "from mlxtend.frequent_patterns import association_rules\n",
    "\n",
    "transac_df, transac_matrix = transactionEncoder(transac_grouped)\n",
    "\n",
    "frequent_itemsets = apriori(transac_df, min_support=0.2)\n",
    "print(frequent_itemsets)\n",
    "# rules = association_rules(frequent_itemsets, metric=\"confidence\")\n",
    "# # Something FAILED\n",
    "# rules"
   ]
  },
  {
   "source": [
    "# User-based prediction using cosine similarity"
   ],
   "cell_type": "markdown",
   "metadata": {}
  },
  {
   "cell_type": "code",
   "execution_count": 75,
   "metadata": {},
   "outputs": [
    {
     "output_type": "stream",
     "name": "stdout",
     "text": [
      "0.4082482904638631\n0.5773502691896258\n0.7071067811865475\n"
     ]
    },
    {
     "output_type": "execute_result",
     "data": {
      "text/plain": [
       "0.7071067811865475"
      ]
     },
     "metadata": {},
     "execution_count": 75
    }
   ],
   "source": [
    "from sklearn.metrics.pairwise import cosine_similarity\n",
    "\n",
    "t = cosine_similarity(transac_df[1:2], transac_matrix[:])[0]\n",
    "\n",
    "mx = 0\n",
    "for i in t:\n",
    "    if i < 1 and i > mx:\n",
    "        mx = i\n",
    "        print(i)\n",
    "mx"
   ]
  },
  {
   "cell_type": "code",
   "execution_count": null,
   "metadata": {},
   "outputs": [],
   "source": [
    "arr = []\n",
    "for i in range(len(t)):\n",
    "    arr.append((t[i], i))\n",
    "\n",
    "arr = sorted(arr)[::-1]\n",
    "arr[:20]"
   ]
  },
  {
   "cell_type": "code",
   "execution_count": 31,
   "metadata": {},
   "outputs": [],
   "source": [
    "def get_items(transac_idx):\n",
    "    items = []\n",
    "    for i in range(len(transac_df.loc[transac_idx])):\n",
    "        if transac_df.loc[transac_idx].values[i]:\n",
    "            items.append(transac_df.loc[transac_idx].index[i])\n",
    "    return items"
   ]
  },
  {
   "cell_type": "code",
   "execution_count": 108,
   "metadata": {},
   "outputs": [],
   "source": [
    "def to_row_df(items, _columns):\n",
    "    row_df = pd.DataFrame(data=[np.zeros(len(_columns)).astype(int)], columns=_columns)\n",
    "    for i in items:\n",
    "        row_df[i] = 1\n",
    "    return row_df\n",
    "\n",
    "def predict (utility_df, utility_matrix):\n",
    "    sim_items = cosine_similarity(utility_df, utility_matrix[:])[0]\n",
    "    result = []\n",
    "    for i in range(len(sim_items)):\n",
    "        if 0.5 < sim_items[i] and sim_items[i] < 1.:\n",
    "            result.append((sim_items[i], get_items(i)))\n",
    "    result = sorted(result)[::-1][:5]\n",
    "    return result"
   ]
  },
  {
   "cell_type": "code",
   "execution_count": 55,
   "metadata": {},
   "outputs": [
    {
     "output_type": "stream",
     "name": "stdout",
     "text": [
      "27357\n11725\n"
     ]
    }
   ],
   "source": [
    "pivot = int(0.7*len(transac_grouped))\n",
    "# print(pivot)\n",
    "train_set = transac_grouped[:pivot]\n",
    "test_set  = transac_grouped[pivot:]\n",
    "print(len(train_set))\n",
    "print(len(test_set))\n"
   ]
  },
  {
   "cell_type": "code",
   "execution_count": 112,
   "metadata": {
    "tags": []
   },
   "outputs": [
    {
     "output_type": "stream",
     "name": "stdout",
     "text": [
      "[168683, 398498]\n[168683] [398498]\n"
     ]
    }
   ],
   "source": [
    "def givenN_evaluate(train, test, given_num):\n",
    "    train_df, train_matrix = transactionEncoder(train)\n",
    "\n",
    "    score = 0\n",
    "    for i in range(len(test)):\n",
    "        lst = test.iloc[i][0]\n",
    "        if len(lst) <= given_num: continue\n",
    "        given_num = len(lst) - given_num\n",
    "        given_items = lst[:given_num]\n",
    "        test_items = lst[given_num:]\n",
    "        suggests = predict(to_row_df(test_items, train_df.columns), train_matrix)\n",
    "        break\n",
    "        if len(suggests):\n",
    "            for s in suggests:\n",
    "                if s in test_items: score += 1\n",
    "\n",
    "    return score\n",
    "\n",
    "score = givenN_evaluate(train_set, test_set, 1) #given 1"
   ]
  },
  {
   "cell_type": "code",
   "execution_count": 59,
   "metadata": {},
   "outputs": [
    {
     "output_type": "execute_result",
     "data": {
      "text/plain": [
       "                                         itemID\n",
       "GiverID ReceiverID timestamp                   \n",
       "71061   75285      1367391600          [352087]\n",
       "        109139     1328083200          [127500]\n",
       "        159355     1328083200          [400617]\n",
       "        170314     1351753200  [168683, 398498]\n",
       "71106   100287     1270105200   [40189, 275816]\n",
       "...                                         ...\n",
       "377816  371705     1438412400          [151172]\n",
       "389912  336572     1446361200  [369168, 369168]\n",
       "391561  132930     1454313600  [244595, 398498]\n",
       "395626  364565     1451635200           [42012]\n",
       "398908  243454     1454313600   [344237, 82772]\n",
       "\n",
       "[11725 rows x 1 columns]"
      ],
      "text/html": "<div>\n<style scoped>\n    .dataframe tbody tr th:only-of-type {\n        vertical-align: middle;\n    }\n\n    .dataframe tbody tr th {\n        vertical-align: top;\n    }\n\n    .dataframe thead th {\n        text-align: right;\n    }\n</style>\n<table border=\"1\" class=\"dataframe\">\n  <thead>\n    <tr style=\"text-align: right;\">\n      <th></th>\n      <th></th>\n      <th></th>\n      <th>itemID</th>\n    </tr>\n    <tr>\n      <th>GiverID</th>\n      <th>ReceiverID</th>\n      <th>timestamp</th>\n      <th></th>\n    </tr>\n  </thead>\n  <tbody>\n    <tr>\n      <th rowspan=\"4\" valign=\"top\">71061</th>\n      <th>75285</th>\n      <th>1367391600</th>\n      <td>[352087]</td>\n    </tr>\n    <tr>\n      <th>109139</th>\n      <th>1328083200</th>\n      <td>[127500]</td>\n    </tr>\n    <tr>\n      <th>159355</th>\n      <th>1328083200</th>\n      <td>[400617]</td>\n    </tr>\n    <tr>\n      <th>170314</th>\n      <th>1351753200</th>\n      <td>[168683, 398498]</td>\n    </tr>\n    <tr>\n      <th>71106</th>\n      <th>100287</th>\n      <th>1270105200</th>\n      <td>[40189, 275816]</td>\n    </tr>\n    <tr>\n      <th>...</th>\n      <th>...</th>\n      <th>...</th>\n      <td>...</td>\n    </tr>\n    <tr>\n      <th>377816</th>\n      <th>371705</th>\n      <th>1438412400</th>\n      <td>[151172]</td>\n    </tr>\n    <tr>\n      <th>389912</th>\n      <th>336572</th>\n      <th>1446361200</th>\n      <td>[369168, 369168]</td>\n    </tr>\n    <tr>\n      <th>391561</th>\n      <th>132930</th>\n      <th>1454313600</th>\n      <td>[244595, 398498]</td>\n    </tr>\n    <tr>\n      <th>395626</th>\n      <th>364565</th>\n      <th>1451635200</th>\n      <td>[42012]</td>\n    </tr>\n    <tr>\n      <th>398908</th>\n      <th>243454</th>\n      <th>1454313600</th>\n      <td>[344237, 82772]</td>\n    </tr>\n  </tbody>\n</table>\n<p>11725 rows × 1 columns</p>\n</div>"
     },
     "metadata": {},
     "execution_count": 59
    }
   ],
   "source": [
    "test_set"
   ]
  }
 ]
}