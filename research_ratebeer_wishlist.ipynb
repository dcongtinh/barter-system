{
 "metadata": {
  "language_info": {
   "codemirror_mode": {
    "name": "ipython",
    "version": 3
   },
   "file_extension": ".py",
   "mimetype": "text/x-python",
   "name": "python",
   "nbconvert_exporter": "python",
   "pygments_lexer": "ipython3",
   "version": "3.6.8"
  },
  "orig_nbformat": 2,
  "kernelspec": {
   "name": "python368jvsc74a57bd042cbe2a30f426535b8006a30886e1ea354918eaf4e61ab59d5292e0557712b4b",
   "display_name": "Python 3.6.8 64-bit"
  }
 },
 "nbformat": 4,
 "nbformat_minor": 2,
 "cells": [
  {
   "source": [
    "# Data walking through"
   ],
   "cell_type": "markdown",
   "metadata": {}
  },
  {
   "cell_type": "code",
   "execution_count": 153,
   "metadata": {},
   "outputs": [],
   "source": [
    "import pandas as pd \n",
    "import numpy as np\n",
    "\n",
    "# read csv and assign columns\n",
    "columns = [\"personId\", \"productId\"]\n",
    "df = pd.read_csv(\"dataset/ratebeer/wish.csv\", header=None)\n",
    "df.columns = columns\n",
    "\n",
    "number_of_row = len(df)\n",
    "# get number of products\n",
    "number_of_product = len(np.unique(df[\"productId\"]))\n",
    "# get number of person\n",
    "number_of_person = len(np.unique(df[\"personId\"]))\n",
    "df = df.groupby(\"personId\").aggregate(lambda x: list(x))"
   ]
  },
  {
   "cell_type": "code",
   "execution_count": 154,
   "metadata": {},
   "outputs": [
    {
     "output_type": "stream",
     "name": "stdout",
     "text": [
      "Number of row: 118453\nNumber of person: 1953\nNumber of product: 21654\n"
     ]
    },
    {
     "output_type": "execute_result",
     "data": {
      "text/plain": [
       "                                                  productId\n",
       "personId                                                   \n",
       "39        [47436, 1147, 64658, 9448, 12227, 10609, 6890,...\n",
       "63                                    [36407, 53647, 36624]\n",
       "69        [15017, 2491, 6924, 9193, 19633, 13730, 64975,...\n",
       "154       [49774, 28173, 15017, 24350, 565, 22339, 17385...\n",
       "181       [10524, 30591, 7183, 38426, 22537, 48679, 2912..."
      ],
      "text/html": "<div>\n<style scoped>\n    .dataframe tbody tr th:only-of-type {\n        vertical-align: middle;\n    }\n\n    .dataframe tbody tr th {\n        vertical-align: top;\n    }\n\n    .dataframe thead th {\n        text-align: right;\n    }\n</style>\n<table border=\"1\" class=\"dataframe\">\n  <thead>\n    <tr style=\"text-align: right;\">\n      <th></th>\n      <th>productId</th>\n    </tr>\n    <tr>\n      <th>personId</th>\n      <th></th>\n    </tr>\n  </thead>\n  <tbody>\n    <tr>\n      <th>39</th>\n      <td>[47436, 1147, 64658, 9448, 12227, 10609, 6890,...</td>\n    </tr>\n    <tr>\n      <th>63</th>\n      <td>[36407, 53647, 36624]</td>\n    </tr>\n    <tr>\n      <th>69</th>\n      <td>[15017, 2491, 6924, 9193, 19633, 13730, 64975,...</td>\n    </tr>\n    <tr>\n      <th>154</th>\n      <td>[49774, 28173, 15017, 24350, 565, 22339, 17385...</td>\n    </tr>\n    <tr>\n      <th>181</th>\n      <td>[10524, 30591, 7183, 38426, 22537, 48679, 2912...</td>\n    </tr>\n  </tbody>\n</table>\n</div>"
     },
     "metadata": {},
     "execution_count": 154
    }
   ],
   "source": [
    "print(\"Number of row:\", number_of_row)\n",
    "print(\"Number of person:\", number_of_person)\n",
    "print(\"Number of product:\", number_of_product)\n",
    "# first samples\n",
    "df.head()"
   ]
  },
  {
   "cell_type": "code",
   "execution_count": 155,
   "metadata": {},
   "outputs": [],
   "source": [
    "# 'transactions' is now temporary variable\n",
    "transactions = [row[\"productId\"] for index, row in df.iterrows()]"
   ]
  },
  {
   "cell_type": "code",
   "execution_count": 156,
   "metadata": {},
   "outputs": [],
   "source": [
    "from mlxtend.preprocessing import TransactionEncoder\n",
    "\n",
    "transaction_encoder = TransactionEncoder()\n",
    "wish_matrix = transaction_encoder.fit_transform(transactions).astype(\"int\")\n",
    "wish_df = pd.DataFrame(wish_matrix, columns=transaction_encoder.columns_)\n",
    "\n",
    "# index is actually personId\n",
    "wish_df.index = df.index "
   ]
  },
  {
   "cell_type": "code",
   "execution_count": 157,
   "metadata": {},
   "outputs": [
    {
     "output_type": "execute_result",
     "data": {
      "text/plain": [
       "          1       2       3       9       10      13      14      15      \\\n",
       "personId                                                                   \n",
       "39             0       0       0       0       0       0       0       0   \n",
       "63             0       0       0       0       0       0       0       0   \n",
       "69             0       0       0       0       0       0       0       0   \n",
       "154            0       0       0       0       0       0       0       0   \n",
       "181            0       0       0       0       0       0       0       0   \n",
       "\n",
       "          16      17      ...  390987  391005  391163  391340  391802  392092  \\\n",
       "personId                  ...                                                   \n",
       "39             0       0  ...       0       0       0       0       0       0   \n",
       "63             0       0  ...       0       0       0       0       0       0   \n",
       "69             0       0  ...       0       0       0       0       0       0   \n",
       "154            0       0  ...       0       0       0       0       0       0   \n",
       "181            0       0  ...       0       0       0       0       0       0   \n",
       "\n",
       "          392165  392402  392478  393042  \n",
       "personId                                  \n",
       "39             0       0       0       0  \n",
       "63             0       0       0       0  \n",
       "69             0       0       0       0  \n",
       "154            0       0       0       0  \n",
       "181            0       0       0       0  \n",
       "\n",
       "[5 rows x 21654 columns]"
      ],
      "text/html": "<div>\n<style scoped>\n    .dataframe tbody tr th:only-of-type {\n        vertical-align: middle;\n    }\n\n    .dataframe tbody tr th {\n        vertical-align: top;\n    }\n\n    .dataframe thead th {\n        text-align: right;\n    }\n</style>\n<table border=\"1\" class=\"dataframe\">\n  <thead>\n    <tr style=\"text-align: right;\">\n      <th></th>\n      <th>1</th>\n      <th>2</th>\n      <th>3</th>\n      <th>9</th>\n      <th>10</th>\n      <th>13</th>\n      <th>14</th>\n      <th>15</th>\n      <th>16</th>\n      <th>17</th>\n      <th>...</th>\n      <th>390987</th>\n      <th>391005</th>\n      <th>391163</th>\n      <th>391340</th>\n      <th>391802</th>\n      <th>392092</th>\n      <th>392165</th>\n      <th>392402</th>\n      <th>392478</th>\n      <th>393042</th>\n    </tr>\n    <tr>\n      <th>personId</th>\n      <th></th>\n      <th></th>\n      <th></th>\n      <th></th>\n      <th></th>\n      <th></th>\n      <th></th>\n      <th></th>\n      <th></th>\n      <th></th>\n      <th></th>\n      <th></th>\n      <th></th>\n      <th></th>\n      <th></th>\n      <th></th>\n      <th></th>\n      <th></th>\n      <th></th>\n      <th></th>\n      <th></th>\n    </tr>\n  </thead>\n  <tbody>\n    <tr>\n      <th>39</th>\n      <td>0</td>\n      <td>0</td>\n      <td>0</td>\n      <td>0</td>\n      <td>0</td>\n      <td>0</td>\n      <td>0</td>\n      <td>0</td>\n      <td>0</td>\n      <td>0</td>\n      <td>...</td>\n      <td>0</td>\n      <td>0</td>\n      <td>0</td>\n      <td>0</td>\n      <td>0</td>\n      <td>0</td>\n      <td>0</td>\n      <td>0</td>\n      <td>0</td>\n      <td>0</td>\n    </tr>\n    <tr>\n      <th>63</th>\n      <td>0</td>\n      <td>0</td>\n      <td>0</td>\n      <td>0</td>\n      <td>0</td>\n      <td>0</td>\n      <td>0</td>\n      <td>0</td>\n      <td>0</td>\n      <td>0</td>\n      <td>...</td>\n      <td>0</td>\n      <td>0</td>\n      <td>0</td>\n      <td>0</td>\n      <td>0</td>\n      <td>0</td>\n      <td>0</td>\n      <td>0</td>\n      <td>0</td>\n      <td>0</td>\n    </tr>\n    <tr>\n      <th>69</th>\n      <td>0</td>\n      <td>0</td>\n      <td>0</td>\n      <td>0</td>\n      <td>0</td>\n      <td>0</td>\n      <td>0</td>\n      <td>0</td>\n      <td>0</td>\n      <td>0</td>\n      <td>...</td>\n      <td>0</td>\n      <td>0</td>\n      <td>0</td>\n      <td>0</td>\n      <td>0</td>\n      <td>0</td>\n      <td>0</td>\n      <td>0</td>\n      <td>0</td>\n      <td>0</td>\n    </tr>\n    <tr>\n      <th>154</th>\n      <td>0</td>\n      <td>0</td>\n      <td>0</td>\n      <td>0</td>\n      <td>0</td>\n      <td>0</td>\n      <td>0</td>\n      <td>0</td>\n      <td>0</td>\n      <td>0</td>\n      <td>...</td>\n      <td>0</td>\n      <td>0</td>\n      <td>0</td>\n      <td>0</td>\n      <td>0</td>\n      <td>0</td>\n      <td>0</td>\n      <td>0</td>\n      <td>0</td>\n      <td>0</td>\n    </tr>\n    <tr>\n      <th>181</th>\n      <td>0</td>\n      <td>0</td>\n      <td>0</td>\n      <td>0</td>\n      <td>0</td>\n      <td>0</td>\n      <td>0</td>\n      <td>0</td>\n      <td>0</td>\n      <td>0</td>\n      <td>...</td>\n      <td>0</td>\n      <td>0</td>\n      <td>0</td>\n      <td>0</td>\n      <td>0</td>\n      <td>0</td>\n      <td>0</td>\n      <td>0</td>\n      <td>0</td>\n      <td>0</td>\n    </tr>\n  </tbody>\n</table>\n<p>5 rows × 21654 columns</p>\n</div>"
     },
     "metadata": {},
     "execution_count": 157
    }
   ],
   "source": [
    "wish_df.head()"
   ]
  },
  {
   "cell_type": "code",
   "execution_count": 158,
   "metadata": {},
   "outputs": [
    {
     "output_type": "execute_result",
     "data": {
      "text/plain": [
       "(array([  1,   2,   3,   4,   5,   6,   7,   8,   9,  10,  11,  12,  13,\n",
       "         14,  15,  16,  17,  18,  19,  20,  21,  22,  23,  24,  25,  26,\n",
       "         27,  28,  29,  30,  31,  32,  33,  34,  35,  36,  37,  38,  39,\n",
       "         40,  41,  42,  43,  44,  45,  46,  47,  48,  49,  50,  51,  52,\n",
       "         53,  54,  55,  56,  57,  58,  59,  60,  61,  62,  63,  64,  65,\n",
       "         66,  67,  68,  69,  70,  71,  72,  73,  74,  75,  76,  77,  78,\n",
       "         79,  80,  81,  82,  83,  84,  85,  86,  87,  88,  89,  91,  92,\n",
       "         93,  94,  95,  96,  98,  99, 100, 101, 102, 103, 105, 106, 107,\n",
       "        109, 110, 111, 112, 113, 114, 115, 116, 117, 118, 119, 120, 121,\n",
       "        122, 123, 124, 125, 126, 128, 131, 132, 134, 135, 136, 137, 140,\n",
       "        141, 142, 143, 144, 145, 146, 148, 149, 151, 153, 154, 158, 160,\n",
       "        161, 164, 165, 167, 169, 170, 173, 174, 175, 178, 180, 183, 184,\n",
       "        185, 188, 189, 194, 197, 199, 201, 202, 203, 205, 207, 210, 221,\n",
       "        228, 231, 233, 240, 242, 246, 248, 254, 300, 328, 347, 349, 356,\n",
       "        359, 374, 426], dtype=int64),\n",
       " array([10834,  3464,  1734,  1086,   728,   546,   409,   309,   269,\n",
       "          190,   166,   168,   148,   101,   107,    86,    77,    72,\n",
       "           51,    53,    57,    54,    38,    26,    38,    48,    28,\n",
       "           21,    28,    25,    26,    12,    19,    29,    21,    20,\n",
       "           18,    19,    15,    15,    21,    13,    16,     9,     8,\n",
       "           10,     9,    12,    10,     7,     8,     7,    12,    11,\n",
       "            9,     8,    15,     8,     6,     9,    10,     8,     7,\n",
       "            9,     8,     8,     4,     4,     5,     3,     3,     4,\n",
       "            2,     4,     5,     4,     6,     5,     2,     6,     3,\n",
       "            5,     5,     4,     4,     2,     3,     4,     3,     5,\n",
       "            5,     2,     1,     3,     1,     2,     1,     2,     1,\n",
       "            1,     1,     3,     3,     1,     1,     3,     3,     1,\n",
       "            3,     1,     3,     2,     2,     4,     2,     1,     2,\n",
       "            1,     1,     1,     1,     3,     1,     1,     1,     1,\n",
       "            1,     2,     2,     1,     1,     1,     2,     2,     1,\n",
       "            2,     2,     2,     2,     3,     1,     1,     1,     1,\n",
       "            1,     2,     1,     1,     1,     2,     2,     1,     1,\n",
       "            2,     1,     2,     3,     1,     1,     1,     1,     1,\n",
       "            1,     1,     1,     1,     1,     2,     1,     1,     1,\n",
       "            2,     1,     1,     1,     1,     3,     1,     1,     1,\n",
       "            1,     1,     1,     1,     1], dtype=int64))"
      ]
     },
     "metadata": {},
     "execution_count": 158
    }
   ],
   "source": [
    "np.unique(wish_df.sum(), return_counts=True)"
   ]
  },
  {
   "source": [
    "# Erase useless samples, which are so sparse "
   ],
   "cell_type": "markdown",
   "metadata": {}
  },
  {
   "cell_type": "code",
   "execution_count": 159,
   "metadata": {},
   "outputs": [
    {
     "output_type": "stream",
     "name": "stdout",
     "text": [
      "Number of person having wish > 1: 1953\n"
     ]
    }
   ],
   "source": [
    "print(\"Number of person having wish > 1:\", len(wish_df.sum(axis=1) > 1))\n",
    "new_df = wish_df.loc[wish_df.sum(axis=1) > 1]\n",
    "# new_df = new_df.loc[:, wish_df.sum() > 1]"
   ]
  },
  {
   "cell_type": "code",
   "execution_count": 160,
   "metadata": {},
   "outputs": [
    {
     "output_type": "stream",
     "name": "stdout",
     "text": [
      "Training dataset shape: (1840, 21654)\n"
     ]
    },
    {
     "output_type": "execute_result",
     "data": {
      "text/plain": [
       "          1       2       3       9       10      13      14      15      \\\n",
       "personId                                                                   \n",
       "39             0       0       0       0       0       0       0       0   \n",
       "63             0       0       0       0       0       0       0       0   \n",
       "69             0       0       0       0       0       0       0       0   \n",
       "154            0       0       0       0       0       0       0       0   \n",
       "181            0       0       0       0       0       0       0       0   \n",
       "\n",
       "          16      17      ...  390987  391005  391163  391340  391802  392092  \\\n",
       "personId                  ...                                                   \n",
       "39             0       0  ...       0       0       0       0       0       0   \n",
       "63             0       0  ...       0       0       0       0       0       0   \n",
       "69             0       0  ...       0       0       0       0       0       0   \n",
       "154            0       0  ...       0       0       0       0       0       0   \n",
       "181            0       0  ...       0       0       0       0       0       0   \n",
       "\n",
       "          392165  392402  392478  393042  \n",
       "personId                                  \n",
       "39             0       0       0       0  \n",
       "63             0       0       0       0  \n",
       "69             0       0       0       0  \n",
       "154            0       0       0       0  \n",
       "181            0       0       0       0  \n",
       "\n",
       "[5 rows x 21654 columns]"
      ],
      "text/html": "<div>\n<style scoped>\n    .dataframe tbody tr th:only-of-type {\n        vertical-align: middle;\n    }\n\n    .dataframe tbody tr th {\n        vertical-align: top;\n    }\n\n    .dataframe thead th {\n        text-align: right;\n    }\n</style>\n<table border=\"1\" class=\"dataframe\">\n  <thead>\n    <tr style=\"text-align: right;\">\n      <th></th>\n      <th>1</th>\n      <th>2</th>\n      <th>3</th>\n      <th>9</th>\n      <th>10</th>\n      <th>13</th>\n      <th>14</th>\n      <th>15</th>\n      <th>16</th>\n      <th>17</th>\n      <th>...</th>\n      <th>390987</th>\n      <th>391005</th>\n      <th>391163</th>\n      <th>391340</th>\n      <th>391802</th>\n      <th>392092</th>\n      <th>392165</th>\n      <th>392402</th>\n      <th>392478</th>\n      <th>393042</th>\n    </tr>\n    <tr>\n      <th>personId</th>\n      <th></th>\n      <th></th>\n      <th></th>\n      <th></th>\n      <th></th>\n      <th></th>\n      <th></th>\n      <th></th>\n      <th></th>\n      <th></th>\n      <th></th>\n      <th></th>\n      <th></th>\n      <th></th>\n      <th></th>\n      <th></th>\n      <th></th>\n      <th></th>\n      <th></th>\n      <th></th>\n      <th></th>\n    </tr>\n  </thead>\n  <tbody>\n    <tr>\n      <th>39</th>\n      <td>0</td>\n      <td>0</td>\n      <td>0</td>\n      <td>0</td>\n      <td>0</td>\n      <td>0</td>\n      <td>0</td>\n      <td>0</td>\n      <td>0</td>\n      <td>0</td>\n      <td>...</td>\n      <td>0</td>\n      <td>0</td>\n      <td>0</td>\n      <td>0</td>\n      <td>0</td>\n      <td>0</td>\n      <td>0</td>\n      <td>0</td>\n      <td>0</td>\n      <td>0</td>\n    </tr>\n    <tr>\n      <th>63</th>\n      <td>0</td>\n      <td>0</td>\n      <td>0</td>\n      <td>0</td>\n      <td>0</td>\n      <td>0</td>\n      <td>0</td>\n      <td>0</td>\n      <td>0</td>\n      <td>0</td>\n      <td>...</td>\n      <td>0</td>\n      <td>0</td>\n      <td>0</td>\n      <td>0</td>\n      <td>0</td>\n      <td>0</td>\n      <td>0</td>\n      <td>0</td>\n      <td>0</td>\n      <td>0</td>\n    </tr>\n    <tr>\n      <th>69</th>\n      <td>0</td>\n      <td>0</td>\n      <td>0</td>\n      <td>0</td>\n      <td>0</td>\n      <td>0</td>\n      <td>0</td>\n      <td>0</td>\n      <td>0</td>\n      <td>0</td>\n      <td>...</td>\n      <td>0</td>\n      <td>0</td>\n      <td>0</td>\n      <td>0</td>\n      <td>0</td>\n      <td>0</td>\n      <td>0</td>\n      <td>0</td>\n      <td>0</td>\n      <td>0</td>\n    </tr>\n    <tr>\n      <th>154</th>\n      <td>0</td>\n      <td>0</td>\n      <td>0</td>\n      <td>0</td>\n      <td>0</td>\n      <td>0</td>\n      <td>0</td>\n      <td>0</td>\n      <td>0</td>\n      <td>0</td>\n      <td>...</td>\n      <td>0</td>\n      <td>0</td>\n      <td>0</td>\n      <td>0</td>\n      <td>0</td>\n      <td>0</td>\n      <td>0</td>\n      <td>0</td>\n      <td>0</td>\n      <td>0</td>\n    </tr>\n    <tr>\n      <th>181</th>\n      <td>0</td>\n      <td>0</td>\n      <td>0</td>\n      <td>0</td>\n      <td>0</td>\n      <td>0</td>\n      <td>0</td>\n      <td>0</td>\n      <td>0</td>\n      <td>0</td>\n      <td>...</td>\n      <td>0</td>\n      <td>0</td>\n      <td>0</td>\n      <td>0</td>\n      <td>0</td>\n      <td>0</td>\n      <td>0</td>\n      <td>0</td>\n      <td>0</td>\n      <td>0</td>\n    </tr>\n  </tbody>\n</table>\n<p>5 rows × 21654 columns</p>\n</div>"
     },
     "metadata": {},
     "execution_count": 160
    }
   ],
   "source": [
    "print(\"Training dataset shape:\", new_df.shape)\n",
    "new_df.head()"
   ]
  },
  {
   "source": [
    "# Transaction-based wish prediction using apriori"
   ],
   "cell_type": "markdown",
   "metadata": {}
  },
  {
   "cell_type": "code",
   "execution_count": 161,
   "metadata": {},
   "outputs": [
    {
     "output_type": "execute_result",
     "data": {
      "text/plain": [
       "    antecedents consequents  antecedent support  consequent support   support  \\\n",
       "0         (776)      (6441)            0.111413            0.230978  0.051630   \n",
       "1        (6441)       (776)            0.230978            0.111413  0.051630   \n",
       "2        (5202)      (1886)            0.195109            0.129891  0.067935   \n",
       "3        (1886)      (5202)            0.129891            0.195109  0.067935   \n",
       "4        (6441)      (2446)            0.230978            0.129891  0.064130   \n",
       "..          ...         ...                 ...                 ...       ...   \n",
       "173      (8766)      (8324)            0.113587            0.125000  0.053261   \n",
       "174     (15290)     (14492)            0.063587            0.107065  0.051630   \n",
       "175     (14492)     (15290)            0.107065            0.063587  0.051630   \n",
       "176     (15498)     (14492)            0.109783            0.107065  0.082065   \n",
       "177     (14492)     (15498)            0.107065            0.109783  0.082065   \n",
       "\n",
       "     confidence      lift  leverage  conviction  \n",
       "0      0.463415  2.006313  0.025896    1.433177  \n",
       "1      0.223529  2.006313  0.025896    1.144392  \n",
       "2      0.348189  2.680621  0.042592    1.334910  \n",
       "3      0.523013  2.680621  0.042592    1.687448  \n",
       "4      0.277647  2.137534  0.034128    1.204548  \n",
       "..          ...       ...       ...         ...  \n",
       "173    0.468900  3.751196  0.039062    1.647523  \n",
       "174    0.811966  7.583843  0.044822    4.748790  \n",
       "175    0.482234  7.583843  0.044822    1.808562  \n",
       "176    0.747525  6.981957  0.070311    3.536722  \n",
       "177    0.766497  6.981957  0.070311    3.812453  \n",
       "\n",
       "[178 rows x 9 columns]"
      ],
      "text/html": "<div>\n<style scoped>\n    .dataframe tbody tr th:only-of-type {\n        vertical-align: middle;\n    }\n\n    .dataframe tbody tr th {\n        vertical-align: top;\n    }\n\n    .dataframe thead th {\n        text-align: right;\n    }\n</style>\n<table border=\"1\" class=\"dataframe\">\n  <thead>\n    <tr style=\"text-align: right;\">\n      <th></th>\n      <th>antecedents</th>\n      <th>consequents</th>\n      <th>antecedent support</th>\n      <th>consequent support</th>\n      <th>support</th>\n      <th>confidence</th>\n      <th>lift</th>\n      <th>leverage</th>\n      <th>conviction</th>\n    </tr>\n  </thead>\n  <tbody>\n    <tr>\n      <th>0</th>\n      <td>(776)</td>\n      <td>(6441)</td>\n      <td>0.111413</td>\n      <td>0.230978</td>\n      <td>0.051630</td>\n      <td>0.463415</td>\n      <td>2.006313</td>\n      <td>0.025896</td>\n      <td>1.433177</td>\n    </tr>\n    <tr>\n      <th>1</th>\n      <td>(6441)</td>\n      <td>(776)</td>\n      <td>0.230978</td>\n      <td>0.111413</td>\n      <td>0.051630</td>\n      <td>0.223529</td>\n      <td>2.006313</td>\n      <td>0.025896</td>\n      <td>1.144392</td>\n    </tr>\n    <tr>\n      <th>2</th>\n      <td>(5202)</td>\n      <td>(1886)</td>\n      <td>0.195109</td>\n      <td>0.129891</td>\n      <td>0.067935</td>\n      <td>0.348189</td>\n      <td>2.680621</td>\n      <td>0.042592</td>\n      <td>1.334910</td>\n    </tr>\n    <tr>\n      <th>3</th>\n      <td>(1886)</td>\n      <td>(5202)</td>\n      <td>0.129891</td>\n      <td>0.195109</td>\n      <td>0.067935</td>\n      <td>0.523013</td>\n      <td>2.680621</td>\n      <td>0.042592</td>\n      <td>1.687448</td>\n    </tr>\n    <tr>\n      <th>4</th>\n      <td>(6441)</td>\n      <td>(2446)</td>\n      <td>0.230978</td>\n      <td>0.129891</td>\n      <td>0.064130</td>\n      <td>0.277647</td>\n      <td>2.137534</td>\n      <td>0.034128</td>\n      <td>1.204548</td>\n    </tr>\n    <tr>\n      <th>...</th>\n      <td>...</td>\n      <td>...</td>\n      <td>...</td>\n      <td>...</td>\n      <td>...</td>\n      <td>...</td>\n      <td>...</td>\n      <td>...</td>\n      <td>...</td>\n    </tr>\n    <tr>\n      <th>173</th>\n      <td>(8766)</td>\n      <td>(8324)</td>\n      <td>0.113587</td>\n      <td>0.125000</td>\n      <td>0.053261</td>\n      <td>0.468900</td>\n      <td>3.751196</td>\n      <td>0.039062</td>\n      <td>1.647523</td>\n    </tr>\n    <tr>\n      <th>174</th>\n      <td>(15290)</td>\n      <td>(14492)</td>\n      <td>0.063587</td>\n      <td>0.107065</td>\n      <td>0.051630</td>\n      <td>0.811966</td>\n      <td>7.583843</td>\n      <td>0.044822</td>\n      <td>4.748790</td>\n    </tr>\n    <tr>\n      <th>175</th>\n      <td>(14492)</td>\n      <td>(15290)</td>\n      <td>0.107065</td>\n      <td>0.063587</td>\n      <td>0.051630</td>\n      <td>0.482234</td>\n      <td>7.583843</td>\n      <td>0.044822</td>\n      <td>1.808562</td>\n    </tr>\n    <tr>\n      <th>176</th>\n      <td>(15498)</td>\n      <td>(14492)</td>\n      <td>0.109783</td>\n      <td>0.107065</td>\n      <td>0.082065</td>\n      <td>0.747525</td>\n      <td>6.981957</td>\n      <td>0.070311</td>\n      <td>3.536722</td>\n    </tr>\n    <tr>\n      <th>177</th>\n      <td>(14492)</td>\n      <td>(15498)</td>\n      <td>0.107065</td>\n      <td>0.109783</td>\n      <td>0.082065</td>\n      <td>0.766497</td>\n      <td>6.981957</td>\n      <td>0.070311</td>\n      <td>3.812453</td>\n    </tr>\n  </tbody>\n</table>\n<p>178 rows × 9 columns</p>\n</div>"
     },
     "metadata": {},
     "execution_count": 161
    }
   ],
   "source": [
    "from mlxtend.frequent_patterns import apriori\n",
    "from mlxtend.frequent_patterns import association_rules\n",
    "\n",
    "frequent_itemsets = apriori(new_df, min_support=0.05)\n",
    "rules = association_rules(frequent_itemsets, metric=\"lift\")\n",
    "# Something FAILED\n",
    "rules"
   ]
  },
  {
   "cell_type": "code",
   "execution_count": 162,
   "metadata": {},
   "outputs": [
    {
     "output_type": "execute_result",
     "data": {
      "text/plain": [
       "178"
      ]
     },
     "metadata": {},
     "execution_count": 162
    }
   ],
   "source": [
    "len(rules)"
   ]
  },
  {
   "cell_type": "code",
   "execution_count": 163,
   "metadata": {},
   "outputs": [
    {
     "output_type": "stream",
     "name": "stdout",
     "text": [
      "Number of antecedents inferred: 164\nRatio of antecedents / well-known products: 0.0075736584464764015\n"
     ]
    }
   ],
   "source": [
    "print(\"Number of antecedents inferred:\", len(np.unique(rules[\"antecedents\"])))\n",
    "print(\"Ratio of antecedents / well-known products:\", len(np.unique(rules[\"antecedents\"])) / number_of_product)"
   ]
  },
  {
   "source": [
    "# User-based prediction using cosine similarity"
   ],
   "cell_type": "markdown",
   "metadata": {}
  },
  {
   "cell_type": "code",
   "execution_count": 176,
   "metadata": {},
   "outputs": [
    {
     "output_type": "stream",
     "name": "stdout",
     "text": [
      "Train size: 1226\nTest size: 614\n"
     ]
    }
   ],
   "source": [
    "from sklearn.model_selection import train_test_split\n",
    "from sklearn.metrics.pairwise import cosine_similarity\n",
    "\n",
    "X_train, X_test = train_test_split(new_df, test_size=1/3.0, random_state=1000)\n",
    "print(\"Train size:\", len(X_train))\n",
    "print(\"Test size:\", len(X_test))"
   ]
  },
  {
   "cell_type": "code",
   "execution_count": 165,
   "metadata": {},
   "outputs": [],
   "source": [
    "sims = cosine_similarity(X_train.T, X_train.T)"
   ]
  },
  {
   "cell_type": "code",
   "execution_count": 166,
   "metadata": {},
   "outputs": [
    {
     "output_type": "execute_result",
     "data": {
      "text/plain": [
       "(21654, 21654)"
      ]
     },
     "metadata": {},
     "execution_count": 166
    }
   ],
   "source": [
    "sims.shape"
   ]
  },
  {
   "source": [
    "### Make a new df cotaining similarity and headers"
   ],
   "cell_type": "markdown",
   "metadata": {}
  },
  {
   "cell_type": "code",
   "execution_count": 167,
   "metadata": {},
   "outputs": [],
   "source": [
    "sims_df = pd.DataFrame(sims)\n",
    "sims_df.columns = new_df.columns\n",
    "sims_df.index  = new_df.columns"
   ]
  },
  {
   "cell_type": "code",
   "execution_count": 168,
   "metadata": {},
   "outputs": [
    {
     "output_type": "execute_result",
     "data": {
      "text/plain": [
       "        1         2       3         9       10      13      14      15      \\\n",
       "1          1.0  0.000000     0.0  0.000000     0.0     0.0     0.0     0.0   \n",
       "2          0.0  1.000000     0.0  0.707107     0.0     0.0     0.0     0.0   \n",
       "3          0.0  0.000000     1.0  0.000000     0.0     0.0     0.0     0.0   \n",
       "9          0.0  0.707107     0.0  1.000000     0.0     0.0     0.0     0.0   \n",
       "10         0.0  0.000000     0.0  0.000000     0.0     0.0     0.0     0.0   \n",
       "...        ...       ...     ...       ...     ...     ...     ...     ...   \n",
       "392092     0.0  0.000000     0.0  0.000000     0.0     0.0     0.0     0.0   \n",
       "392165     0.0  0.000000     0.0  0.000000     0.0     0.0     0.0     0.0   \n",
       "392402     0.0  0.000000     0.0  0.000000     0.0     0.0     0.0     0.0   \n",
       "392478     0.0  0.000000     0.0  0.000000     0.0     0.0     0.0     0.0   \n",
       "393042     0.0  0.000000     0.0  0.000000     0.0     0.0     0.0     0.0   \n",
       "\n",
       "        16      17      ...  390987  391005  391163  391340  391802  392092  \\\n",
       "1          0.0     0.0  ...     0.0     0.0     0.0     0.0     0.0     0.0   \n",
       "2          0.0     0.0  ...     0.0     0.0     0.0     0.0     0.0     0.0   \n",
       "3          0.0     0.0  ...     0.0     0.0     0.0     0.0     0.0     0.0   \n",
       "9          0.0     0.0  ...     0.0     0.0     0.0     0.0     0.0     0.0   \n",
       "10         0.0     0.0  ...     0.0     0.0     0.0     0.0     0.0     0.0   \n",
       "...        ...     ...  ...     ...     ...     ...     ...     ...     ...   \n",
       "392092     0.0     0.0  ...     0.0     0.0     0.0     0.0     0.0     0.0   \n",
       "392165     0.0     0.0  ...     0.0     0.0     0.0     0.0     0.0     0.0   \n",
       "392402     0.0     0.0  ...     0.0     0.0     0.0     0.0     0.0     0.0   \n",
       "392478     0.0     0.0  ...     0.0     0.0     0.0     0.0     0.0     0.0   \n",
       "393042     0.0     0.0  ...     0.0     0.0     0.0     0.0     0.0     0.0   \n",
       "\n",
       "        392165  392402  392478  393042  \n",
       "1          0.0     0.0     0.0     0.0  \n",
       "2          0.0     0.0     0.0     0.0  \n",
       "3          0.0     0.0     0.0     0.0  \n",
       "9          0.0     0.0     0.0     0.0  \n",
       "10         0.0     0.0     0.0     0.0  \n",
       "...        ...     ...     ...     ...  \n",
       "392092     0.0     0.0     0.0     0.0  \n",
       "392165     1.0     0.0     0.0     0.0  \n",
       "392402     0.0     0.0     0.0     0.0  \n",
       "392478     0.0     0.0     0.0     0.0  \n",
       "393042     0.0     0.0     0.0     1.0  \n",
       "\n",
       "[21654 rows x 21654 columns]"
      ],
      "text/html": "<div>\n<style scoped>\n    .dataframe tbody tr th:only-of-type {\n        vertical-align: middle;\n    }\n\n    .dataframe tbody tr th {\n        vertical-align: top;\n    }\n\n    .dataframe thead th {\n        text-align: right;\n    }\n</style>\n<table border=\"1\" class=\"dataframe\">\n  <thead>\n    <tr style=\"text-align: right;\">\n      <th></th>\n      <th>1</th>\n      <th>2</th>\n      <th>3</th>\n      <th>9</th>\n      <th>10</th>\n      <th>13</th>\n      <th>14</th>\n      <th>15</th>\n      <th>16</th>\n      <th>17</th>\n      <th>...</th>\n      <th>390987</th>\n      <th>391005</th>\n      <th>391163</th>\n      <th>391340</th>\n      <th>391802</th>\n      <th>392092</th>\n      <th>392165</th>\n      <th>392402</th>\n      <th>392478</th>\n      <th>393042</th>\n    </tr>\n  </thead>\n  <tbody>\n    <tr>\n      <th>1</th>\n      <td>1.0</td>\n      <td>0.000000</td>\n      <td>0.0</td>\n      <td>0.000000</td>\n      <td>0.0</td>\n      <td>0.0</td>\n      <td>0.0</td>\n      <td>0.0</td>\n      <td>0.0</td>\n      <td>0.0</td>\n      <td>...</td>\n      <td>0.0</td>\n      <td>0.0</td>\n      <td>0.0</td>\n      <td>0.0</td>\n      <td>0.0</td>\n      <td>0.0</td>\n      <td>0.0</td>\n      <td>0.0</td>\n      <td>0.0</td>\n      <td>0.0</td>\n    </tr>\n    <tr>\n      <th>2</th>\n      <td>0.0</td>\n      <td>1.000000</td>\n      <td>0.0</td>\n      <td>0.707107</td>\n      <td>0.0</td>\n      <td>0.0</td>\n      <td>0.0</td>\n      <td>0.0</td>\n      <td>0.0</td>\n      <td>0.0</td>\n      <td>...</td>\n      <td>0.0</td>\n      <td>0.0</td>\n      <td>0.0</td>\n      <td>0.0</td>\n      <td>0.0</td>\n      <td>0.0</td>\n      <td>0.0</td>\n      <td>0.0</td>\n      <td>0.0</td>\n      <td>0.0</td>\n    </tr>\n    <tr>\n      <th>3</th>\n      <td>0.0</td>\n      <td>0.000000</td>\n      <td>1.0</td>\n      <td>0.000000</td>\n      <td>0.0</td>\n      <td>0.0</td>\n      <td>0.0</td>\n      <td>0.0</td>\n      <td>0.0</td>\n      <td>0.0</td>\n      <td>...</td>\n      <td>0.0</td>\n      <td>0.0</td>\n      <td>0.0</td>\n      <td>0.0</td>\n      <td>0.0</td>\n      <td>0.0</td>\n      <td>0.0</td>\n      <td>0.0</td>\n      <td>0.0</td>\n      <td>0.0</td>\n    </tr>\n    <tr>\n      <th>9</th>\n      <td>0.0</td>\n      <td>0.707107</td>\n      <td>0.0</td>\n      <td>1.000000</td>\n      <td>0.0</td>\n      <td>0.0</td>\n      <td>0.0</td>\n      <td>0.0</td>\n      <td>0.0</td>\n      <td>0.0</td>\n      <td>...</td>\n      <td>0.0</td>\n      <td>0.0</td>\n      <td>0.0</td>\n      <td>0.0</td>\n      <td>0.0</td>\n      <td>0.0</td>\n      <td>0.0</td>\n      <td>0.0</td>\n      <td>0.0</td>\n      <td>0.0</td>\n    </tr>\n    <tr>\n      <th>10</th>\n      <td>0.0</td>\n      <td>0.000000</td>\n      <td>0.0</td>\n      <td>0.000000</td>\n      <td>0.0</td>\n      <td>0.0</td>\n      <td>0.0</td>\n      <td>0.0</td>\n      <td>0.0</td>\n      <td>0.0</td>\n      <td>...</td>\n      <td>0.0</td>\n      <td>0.0</td>\n      <td>0.0</td>\n      <td>0.0</td>\n      <td>0.0</td>\n      <td>0.0</td>\n      <td>0.0</td>\n      <td>0.0</td>\n      <td>0.0</td>\n      <td>0.0</td>\n    </tr>\n    <tr>\n      <th>...</th>\n      <td>...</td>\n      <td>...</td>\n      <td>...</td>\n      <td>...</td>\n      <td>...</td>\n      <td>...</td>\n      <td>...</td>\n      <td>...</td>\n      <td>...</td>\n      <td>...</td>\n      <td>...</td>\n      <td>...</td>\n      <td>...</td>\n      <td>...</td>\n      <td>...</td>\n      <td>...</td>\n      <td>...</td>\n      <td>...</td>\n      <td>...</td>\n      <td>...</td>\n      <td>...</td>\n    </tr>\n    <tr>\n      <th>392092</th>\n      <td>0.0</td>\n      <td>0.000000</td>\n      <td>0.0</td>\n      <td>0.000000</td>\n      <td>0.0</td>\n      <td>0.0</td>\n      <td>0.0</td>\n      <td>0.0</td>\n      <td>0.0</td>\n      <td>0.0</td>\n      <td>...</td>\n      <td>0.0</td>\n      <td>0.0</td>\n      <td>0.0</td>\n      <td>0.0</td>\n      <td>0.0</td>\n      <td>0.0</td>\n      <td>0.0</td>\n      <td>0.0</td>\n      <td>0.0</td>\n      <td>0.0</td>\n    </tr>\n    <tr>\n      <th>392165</th>\n      <td>0.0</td>\n      <td>0.000000</td>\n      <td>0.0</td>\n      <td>0.000000</td>\n      <td>0.0</td>\n      <td>0.0</td>\n      <td>0.0</td>\n      <td>0.0</td>\n      <td>0.0</td>\n      <td>0.0</td>\n      <td>...</td>\n      <td>0.0</td>\n      <td>0.0</td>\n      <td>0.0</td>\n      <td>0.0</td>\n      <td>0.0</td>\n      <td>0.0</td>\n      <td>1.0</td>\n      <td>0.0</td>\n      <td>0.0</td>\n      <td>0.0</td>\n    </tr>\n    <tr>\n      <th>392402</th>\n      <td>0.0</td>\n      <td>0.000000</td>\n      <td>0.0</td>\n      <td>0.000000</td>\n      <td>0.0</td>\n      <td>0.0</td>\n      <td>0.0</td>\n      <td>0.0</td>\n      <td>0.0</td>\n      <td>0.0</td>\n      <td>...</td>\n      <td>0.0</td>\n      <td>0.0</td>\n      <td>0.0</td>\n      <td>0.0</td>\n      <td>0.0</td>\n      <td>0.0</td>\n      <td>0.0</td>\n      <td>0.0</td>\n      <td>0.0</td>\n      <td>0.0</td>\n    </tr>\n    <tr>\n      <th>392478</th>\n      <td>0.0</td>\n      <td>0.000000</td>\n      <td>0.0</td>\n      <td>0.000000</td>\n      <td>0.0</td>\n      <td>0.0</td>\n      <td>0.0</td>\n      <td>0.0</td>\n      <td>0.0</td>\n      <td>0.0</td>\n      <td>...</td>\n      <td>0.0</td>\n      <td>0.0</td>\n      <td>0.0</td>\n      <td>0.0</td>\n      <td>0.0</td>\n      <td>0.0</td>\n      <td>0.0</td>\n      <td>0.0</td>\n      <td>0.0</td>\n      <td>0.0</td>\n    </tr>\n    <tr>\n      <th>393042</th>\n      <td>0.0</td>\n      <td>0.000000</td>\n      <td>0.0</td>\n      <td>0.000000</td>\n      <td>0.0</td>\n      <td>0.0</td>\n      <td>0.0</td>\n      <td>0.0</td>\n      <td>0.0</td>\n      <td>0.0</td>\n      <td>...</td>\n      <td>0.0</td>\n      <td>0.0</td>\n      <td>0.0</td>\n      <td>0.0</td>\n      <td>0.0</td>\n      <td>0.0</td>\n      <td>0.0</td>\n      <td>0.0</td>\n      <td>0.0</td>\n      <td>1.0</td>\n    </tr>\n  </tbody>\n</table>\n<p>21654 rows × 21654 columns</p>\n</div>"
     },
     "metadata": {},
     "execution_count": 168
    }
   ],
   "source": [
    "sims_df"
   ]
  },
  {
   "cell_type": "code",
   "execution_count": 169,
   "metadata": {},
   "outputs": [],
   "source": [
    "person_to_products = df.loc[new_df.index]"
   ]
  },
  {
   "source": [
    "# Evaluation metrics: All but one"
   ],
   "cell_type": "markdown",
   "metadata": {}
  },
  {
   "cell_type": "code",
   "execution_count": 198,
   "metadata": {},
   "outputs": [
    {
     "output_type": "stream",
     "name": "stdout",
     "text": [
      "Accuracy: 95.28%\n"
     ]
    }
   ],
   "source": [
    "score = 0\n",
    "for _, sample in X_test.iterrows():\n",
    "    test_product_id = person_to_products.loc[sample.name][\"productId\"][0] # sample.index\n",
    "    dot_prod = np.dot(sample, sims_df.loc[test_product_id]) \n",
    "    sum_sims = sims_df.loc[test_product_id].sum()\n",
    "    if sum_sims < 1e-6: \n",
    "        continue \n",
    "    pred = dot_prod / sum_sims\n",
    "    score = score + (1 if pred > 0 else 0)\n",
    "\n",
    "print(\"Accuracy: %.2f%%\" % (score / len(X_test) * 100))"
   ]
  },
  {
   "cell_type": "code",
   "execution_count": 206,
   "metadata": {},
   "outputs": [
    {
     "output_type": "execute_result",
     "data": {
      "text/plain": [
       "[49,\n",
       " 50,\n",
       " 1195,\n",
       " 5948,\n",
       " 7295,\n",
       " 7296,\n",
       " 9203,\n",
       " 10342,\n",
       " 11312,\n",
       " 12115,\n",
       " 15984,\n",
       " 22427,\n",
       " 23177,\n",
       " 23710,\n",
       " 24199,\n",
       " 24448,\n",
       " 25530,\n",
       " 25700,\n",
       " 27970,\n",
       " 28099,\n",
       " 32737,\n",
       " 32962,\n",
       " 39201,\n",
       " 39371,\n",
       " 44668,\n",
       " 46629,\n",
       " 48056,\n",
       " 49728,\n",
       " 49802,\n",
       " 57804,\n",
       " 63291,\n",
       " 65951]"
      ]
     },
     "metadata": {},
     "execution_count": 206
    }
   ],
   "source": [
    "\n",
    "def give_recommendations(user_sample):\n",
    "    result = []\n",
    "    sample = [0] * len(wish_df.columns)\n",
    "    user_product_set = set(user_sample)\n",
    "    for product_id in user_sample:\n",
    "        sample[product_id] = 1\n",
    "    \n",
    "    for test_product_id in wish_df.columns:\n",
    "        # skip known product\n",
    "        if test_product_id in user_product_set:\n",
    "            continue\n",
    "            \n",
    "        # sum(user_sample[i] * sim(test_product_id, i))\n",
    "        dot_prod = np.dot(sample, sims_df.loc[test_product_id]) \n",
    "        # sum(sim(test_product_id, i))\n",
    "        sum_sims = sims_df.loc[test_product_id].sum() - 1\n",
    "        if sum_sims < 1e-6: \n",
    "            continue\n",
    "\n",
    "        pred = dot_prod / sum_sims\n",
    "        if pred > 0:\n",
    "            result.append(test_product_id)\n",
    "    return result\n",
    "give_recommendations([15])"
   ]
  },
  {
   "cell_type": "code",
   "execution_count": null,
   "metadata": {},
   "outputs": [],
   "source": []
  }
 ]
}