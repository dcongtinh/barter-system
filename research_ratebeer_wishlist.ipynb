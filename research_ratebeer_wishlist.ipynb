{
 "metadata": {
  "language_info": {
   "codemirror_mode": {
    "name": "ipython",
    "version": 3
   },
   "file_extension": ".py",
   "mimetype": "text/x-python",
   "name": "python",
   "nbconvert_exporter": "python",
   "pygments_lexer": "ipython3",
   "version": "3.6.8"
  },
  "orig_nbformat": 2,
  "kernelspec": {
   "name": "python368jvsc74a57bd0aee8b7b246df8f9039afb4144a1f6fd8d2ca17a180786b69acc140d282b71a49",
   "display_name": "Python 3.6.8 64-bit"
  }
 },
 "nbformat": 4,
 "nbformat_minor": 2,
 "cells": [
  {
   "source": [
    "# Data walking through"
   ],
   "cell_type": "markdown",
   "metadata": {}
  },
  {
   "cell_type": "code",
   "execution_count": 1,
   "metadata": {},
   "outputs": [],
   "source": [
    "import pandas as pd \n",
    "import numpy as np\n",
    "\n",
    "# read csv and assign columns\n",
    "columns = [\"personId\", \"productId\"]\n",
    "df = pd.read_csv(\"dataset/ratebeer/wish.csv\", header=None)\n",
    "df.columns = columns\n",
    "\n",
    "number_of_row = len(df)\n",
    "# get number of products\n",
    "number_of_product = len(np.unique(df[\"productId\"]))\n",
    "# get number of person\n",
    "number_of_person = len(np.unique(df[\"personId\"]))\n",
    "df = df.groupby(\"personId\").aggregate(lambda x: list(x))"
   ]
  },
  {
   "cell_type": "code",
   "execution_count": 2,
   "metadata": {},
   "outputs": [],
   "source": [
    "# df = df.drop_duplicates()\n",
    "# print(df)"
   ]
  },
  {
   "cell_type": "code",
   "execution_count": 3,
   "metadata": {},
   "outputs": [
    {
     "output_type": "stream",
     "name": "stdout",
     "text": [
      "Number of row: 118453\nNumber of person: 1953\nNumber of product: 21654\n"
     ]
    },
    {
     "output_type": "execute_result",
     "data": {
      "text/plain": [
       "                                                  productId\n",
       "personId                                                   \n",
       "39        [47436, 1147, 64658, 9448, 12227, 10609, 6890,...\n",
       "63                                    [36407, 53647, 36624]\n",
       "69        [15017, 2491, 6924, 9193, 19633, 13730, 64975,...\n",
       "154       [49774, 28173, 15017, 24350, 565, 22339, 17385...\n",
       "181       [10524, 30591, 7183, 38426, 22537, 48679, 2912..."
      ],
      "text/html": "<div>\n<style scoped>\n    .dataframe tbody tr th:only-of-type {\n        vertical-align: middle;\n    }\n\n    .dataframe tbody tr th {\n        vertical-align: top;\n    }\n\n    .dataframe thead th {\n        text-align: right;\n    }\n</style>\n<table border=\"1\" class=\"dataframe\">\n  <thead>\n    <tr style=\"text-align: right;\">\n      <th></th>\n      <th>productId</th>\n    </tr>\n    <tr>\n      <th>personId</th>\n      <th></th>\n    </tr>\n  </thead>\n  <tbody>\n    <tr>\n      <th>39</th>\n      <td>[47436, 1147, 64658, 9448, 12227, 10609, 6890,...</td>\n    </tr>\n    <tr>\n      <th>63</th>\n      <td>[36407, 53647, 36624]</td>\n    </tr>\n    <tr>\n      <th>69</th>\n      <td>[15017, 2491, 6924, 9193, 19633, 13730, 64975,...</td>\n    </tr>\n    <tr>\n      <th>154</th>\n      <td>[49774, 28173, 15017, 24350, 565, 22339, 17385...</td>\n    </tr>\n    <tr>\n      <th>181</th>\n      <td>[10524, 30591, 7183, 38426, 22537, 48679, 2912...</td>\n    </tr>\n  </tbody>\n</table>\n</div>"
     },
     "metadata": {},
     "execution_count": 3
    }
   ],
   "source": [
    "print(\"Number of row:\", number_of_row)\n",
    "print(\"Number of person:\", number_of_person)\n",
    "print(\"Number of product:\", number_of_product)\n",
    "# first samples\n",
    "df.head()"
   ]
  },
  {
   "cell_type": "code",
   "execution_count": 4,
   "metadata": {},
   "outputs": [],
   "source": [
    "# for i in range(len(df)):\n",
    "#     df.iloc[i][0] = list(eval(df.iloc[i][0]))\n",
    "# print(df)"
   ]
  },
  {
   "cell_type": "code",
   "execution_count": 5,
   "metadata": {},
   "outputs": [],
   "source": [
    "# 'transactions' is now temporary variable\n",
    "transactions = [row[\"productId\"] for index, row in df.iterrows()]"
   ]
  },
  {
   "cell_type": "code",
   "execution_count": 6,
   "metadata": {},
   "outputs": [],
   "source": [
    "from mlxtend.preprocessing import TransactionEncoder\n",
    "\n",
    "transaction_encoder = TransactionEncoder()\n",
    "wish_matrix = transaction_encoder.fit_transform(transactions).astype(\"int\")\n",
    "wish_df = pd.DataFrame(wish_matrix, columns=transaction_encoder.columns_)\n",
    "\n",
    "# index is actually personId\n",
    "wish_df.index = df.index "
   ]
  },
  {
   "cell_type": "code",
   "execution_count": 7,
   "metadata": {},
   "outputs": [
    {
     "output_type": "execute_result",
     "data": {
      "text/plain": [
       "          1       2       3       9       10      13      14      15      \\\n",
       "personId                                                                   \n",
       "39             0       0       0       0       0       0       0       0   \n",
       "63             0       0       0       0       0       0       0       0   \n",
       "69             0       0       0       0       0       0       0       0   \n",
       "154            0       0       0       0       0       0       0       0   \n",
       "181            0       0       0       0       0       0       0       0   \n",
       "\n",
       "          16      17      ...  390987  391005  391163  391340  391802  392092  \\\n",
       "personId                  ...                                                   \n",
       "39             0       0  ...       0       0       0       0       0       0   \n",
       "63             0       0  ...       0       0       0       0       0       0   \n",
       "69             0       0  ...       0       0       0       0       0       0   \n",
       "154            0       0  ...       0       0       0       0       0       0   \n",
       "181            0       0  ...       0       0       0       0       0       0   \n",
       "\n",
       "          392165  392402  392478  393042  \n",
       "personId                                  \n",
       "39             0       0       0       0  \n",
       "63             0       0       0       0  \n",
       "69             0       0       0       0  \n",
       "154            0       0       0       0  \n",
       "181            0       0       0       0  \n",
       "\n",
       "[5 rows x 21654 columns]"
      ],
      "text/html": "<div>\n<style scoped>\n    .dataframe tbody tr th:only-of-type {\n        vertical-align: middle;\n    }\n\n    .dataframe tbody tr th {\n        vertical-align: top;\n    }\n\n    .dataframe thead th {\n        text-align: right;\n    }\n</style>\n<table border=\"1\" class=\"dataframe\">\n  <thead>\n    <tr style=\"text-align: right;\">\n      <th></th>\n      <th>1</th>\n      <th>2</th>\n      <th>3</th>\n      <th>9</th>\n      <th>10</th>\n      <th>13</th>\n      <th>14</th>\n      <th>15</th>\n      <th>16</th>\n      <th>17</th>\n      <th>...</th>\n      <th>390987</th>\n      <th>391005</th>\n      <th>391163</th>\n      <th>391340</th>\n      <th>391802</th>\n      <th>392092</th>\n      <th>392165</th>\n      <th>392402</th>\n      <th>392478</th>\n      <th>393042</th>\n    </tr>\n    <tr>\n      <th>personId</th>\n      <th></th>\n      <th></th>\n      <th></th>\n      <th></th>\n      <th></th>\n      <th></th>\n      <th></th>\n      <th></th>\n      <th></th>\n      <th></th>\n      <th></th>\n      <th></th>\n      <th></th>\n      <th></th>\n      <th></th>\n      <th></th>\n      <th></th>\n      <th></th>\n      <th></th>\n      <th></th>\n      <th></th>\n    </tr>\n  </thead>\n  <tbody>\n    <tr>\n      <th>39</th>\n      <td>0</td>\n      <td>0</td>\n      <td>0</td>\n      <td>0</td>\n      <td>0</td>\n      <td>0</td>\n      <td>0</td>\n      <td>0</td>\n      <td>0</td>\n      <td>0</td>\n      <td>...</td>\n      <td>0</td>\n      <td>0</td>\n      <td>0</td>\n      <td>0</td>\n      <td>0</td>\n      <td>0</td>\n      <td>0</td>\n      <td>0</td>\n      <td>0</td>\n      <td>0</td>\n    </tr>\n    <tr>\n      <th>63</th>\n      <td>0</td>\n      <td>0</td>\n      <td>0</td>\n      <td>0</td>\n      <td>0</td>\n      <td>0</td>\n      <td>0</td>\n      <td>0</td>\n      <td>0</td>\n      <td>0</td>\n      <td>...</td>\n      <td>0</td>\n      <td>0</td>\n      <td>0</td>\n      <td>0</td>\n      <td>0</td>\n      <td>0</td>\n      <td>0</td>\n      <td>0</td>\n      <td>0</td>\n      <td>0</td>\n    </tr>\n    <tr>\n      <th>69</th>\n      <td>0</td>\n      <td>0</td>\n      <td>0</td>\n      <td>0</td>\n      <td>0</td>\n      <td>0</td>\n      <td>0</td>\n      <td>0</td>\n      <td>0</td>\n      <td>0</td>\n      <td>...</td>\n      <td>0</td>\n      <td>0</td>\n      <td>0</td>\n      <td>0</td>\n      <td>0</td>\n      <td>0</td>\n      <td>0</td>\n      <td>0</td>\n      <td>0</td>\n      <td>0</td>\n    </tr>\n    <tr>\n      <th>154</th>\n      <td>0</td>\n      <td>0</td>\n      <td>0</td>\n      <td>0</td>\n      <td>0</td>\n      <td>0</td>\n      <td>0</td>\n      <td>0</td>\n      <td>0</td>\n      <td>0</td>\n      <td>...</td>\n      <td>0</td>\n      <td>0</td>\n      <td>0</td>\n      <td>0</td>\n      <td>0</td>\n      <td>0</td>\n      <td>0</td>\n      <td>0</td>\n      <td>0</td>\n      <td>0</td>\n    </tr>\n    <tr>\n      <th>181</th>\n      <td>0</td>\n      <td>0</td>\n      <td>0</td>\n      <td>0</td>\n      <td>0</td>\n      <td>0</td>\n      <td>0</td>\n      <td>0</td>\n      <td>0</td>\n      <td>0</td>\n      <td>...</td>\n      <td>0</td>\n      <td>0</td>\n      <td>0</td>\n      <td>0</td>\n      <td>0</td>\n      <td>0</td>\n      <td>0</td>\n      <td>0</td>\n      <td>0</td>\n      <td>0</td>\n    </tr>\n  </tbody>\n</table>\n<p>5 rows × 21654 columns</p>\n</div>"
     },
     "metadata": {},
     "execution_count": 7
    }
   ],
   "source": [
    "wish_df.head()"
   ]
  },
  {
   "cell_type": "code",
   "execution_count": 8,
   "metadata": {},
   "outputs": [
    {
     "output_type": "execute_result",
     "data": {
      "text/plain": [
       "(array([  1,   2,   3,   4,   5,   6,   7,   8,   9,  10,  11,  12,  13,\n",
       "         14,  15,  16,  17,  18,  19,  20,  21,  22,  23,  24,  25,  26,\n",
       "         27,  28,  29,  30,  31,  32,  33,  34,  35,  36,  37,  38,  39,\n",
       "         40,  41,  42,  43,  44,  45,  46,  47,  48,  49,  50,  51,  52,\n",
       "         53,  54,  55,  56,  57,  58,  59,  60,  61,  62,  63,  64,  65,\n",
       "         66,  67,  68,  69,  70,  71,  72,  73,  74,  75,  76,  77,  78,\n",
       "         79,  80,  81,  82,  83,  84,  85,  86,  87,  88,  89,  91,  92,\n",
       "         93,  94,  95,  96,  98,  99, 100, 101, 102, 103, 105, 106, 107,\n",
       "        109, 110, 111, 112, 113, 114, 115, 116, 117, 118, 119, 120, 121,\n",
       "        122, 123, 124, 125, 126, 128, 131, 132, 134, 135, 136, 137, 140,\n",
       "        141, 142, 143, 144, 145, 146, 148, 149, 151, 153, 154, 158, 160,\n",
       "        161, 164, 165, 167, 169, 170, 173, 174, 175, 178, 180, 183, 184,\n",
       "        185, 188, 189, 194, 197, 199, 201, 202, 203, 205, 207, 210, 221,\n",
       "        228, 231, 233, 240, 242, 246, 248, 254, 300, 328, 347, 349, 356,\n",
       "        359, 374, 426]),\n",
       " array([10834,  3464,  1734,  1086,   728,   546,   409,   309,   269,\n",
       "          190,   166,   168,   148,   101,   107,    86,    77,    72,\n",
       "           51,    53,    57,    54,    38,    26,    38,    48,    28,\n",
       "           21,    28,    25,    26,    12,    19,    29,    21,    20,\n",
       "           18,    19,    15,    15,    21,    13,    16,     9,     8,\n",
       "           10,     9,    12,    10,     7,     8,     7,    12,    11,\n",
       "            9,     8,    15,     8,     6,     9,    10,     8,     7,\n",
       "            9,     8,     8,     4,     4,     5,     3,     3,     4,\n",
       "            2,     4,     5,     4,     6,     5,     2,     6,     3,\n",
       "            5,     5,     4,     4,     2,     3,     4,     3,     5,\n",
       "            5,     2,     1,     3,     1,     2,     1,     2,     1,\n",
       "            1,     1,     3,     3,     1,     1,     3,     3,     1,\n",
       "            3,     1,     3,     2,     2,     4,     2,     1,     2,\n",
       "            1,     1,     1,     1,     3,     1,     1,     1,     1,\n",
       "            1,     2,     2,     1,     1,     1,     2,     2,     1,\n",
       "            2,     2,     2,     2,     3,     1,     1,     1,     1,\n",
       "            1,     2,     1,     1,     1,     2,     2,     1,     1,\n",
       "            2,     1,     2,     3,     1,     1,     1,     1,     1,\n",
       "            1,     1,     1,     1,     1,     2,     1,     1,     1,\n",
       "            2,     1,     1,     1,     1,     3,     1,     1,     1,\n",
       "            1,     1,     1,     1,     1]))"
      ]
     },
     "metadata": {},
     "execution_count": 8
    }
   ],
   "source": [
    "np.unique(wish_df.sum(), return_counts=True)"
   ]
  },
  {
   "source": [
    "# Erase useless samples, which are so sparse "
   ],
   "cell_type": "markdown",
   "metadata": {}
  },
  {
   "cell_type": "code",
   "execution_count": 9,
   "metadata": {},
   "outputs": [
    {
     "output_type": "stream",
     "name": "stdout",
     "text": [
      "Number of person having wish > 1: 1953\n"
     ]
    }
   ],
   "source": [
    "print(\"Number of person having wish > 1:\", len(wish_df.sum(axis=1) > 1))\n",
    "new_df = wish_df.loc[wish_df.sum(axis=1) > 1]\n",
    "# new_df = new_df.loc[:, wish_df.sum() > 1]"
   ]
  },
  {
   "cell_type": "code",
   "execution_count": 10,
   "metadata": {},
   "outputs": [
    {
     "output_type": "stream",
     "name": "stdout",
     "text": [
      "Training dataset shape: (1840, 21654)\n"
     ]
    },
    {
     "output_type": "execute_result",
     "data": {
      "text/plain": [
       "          1       2       3       9       10      13      14      15      \\\n",
       "personId                                                                   \n",
       "39             0       0       0       0       0       0       0       0   \n",
       "63             0       0       0       0       0       0       0       0   \n",
       "69             0       0       0       0       0       0       0       0   \n",
       "154            0       0       0       0       0       0       0       0   \n",
       "181            0       0       0       0       0       0       0       0   \n",
       "\n",
       "          16      17      ...  390987  391005  391163  391340  391802  392092  \\\n",
       "personId                  ...                                                   \n",
       "39             0       0  ...       0       0       0       0       0       0   \n",
       "63             0       0  ...       0       0       0       0       0       0   \n",
       "69             0       0  ...       0       0       0       0       0       0   \n",
       "154            0       0  ...       0       0       0       0       0       0   \n",
       "181            0       0  ...       0       0       0       0       0       0   \n",
       "\n",
       "          392165  392402  392478  393042  \n",
       "personId                                  \n",
       "39             0       0       0       0  \n",
       "63             0       0       0       0  \n",
       "69             0       0       0       0  \n",
       "154            0       0       0       0  \n",
       "181            0       0       0       0  \n",
       "\n",
       "[5 rows x 21654 columns]"
      ],
      "text/html": "<div>\n<style scoped>\n    .dataframe tbody tr th:only-of-type {\n        vertical-align: middle;\n    }\n\n    .dataframe tbody tr th {\n        vertical-align: top;\n    }\n\n    .dataframe thead th {\n        text-align: right;\n    }\n</style>\n<table border=\"1\" class=\"dataframe\">\n  <thead>\n    <tr style=\"text-align: right;\">\n      <th></th>\n      <th>1</th>\n      <th>2</th>\n      <th>3</th>\n      <th>9</th>\n      <th>10</th>\n      <th>13</th>\n      <th>14</th>\n      <th>15</th>\n      <th>16</th>\n      <th>17</th>\n      <th>...</th>\n      <th>390987</th>\n      <th>391005</th>\n      <th>391163</th>\n      <th>391340</th>\n      <th>391802</th>\n      <th>392092</th>\n      <th>392165</th>\n      <th>392402</th>\n      <th>392478</th>\n      <th>393042</th>\n    </tr>\n    <tr>\n      <th>personId</th>\n      <th></th>\n      <th></th>\n      <th></th>\n      <th></th>\n      <th></th>\n      <th></th>\n      <th></th>\n      <th></th>\n      <th></th>\n      <th></th>\n      <th></th>\n      <th></th>\n      <th></th>\n      <th></th>\n      <th></th>\n      <th></th>\n      <th></th>\n      <th></th>\n      <th></th>\n      <th></th>\n      <th></th>\n    </tr>\n  </thead>\n  <tbody>\n    <tr>\n      <th>39</th>\n      <td>0</td>\n      <td>0</td>\n      <td>0</td>\n      <td>0</td>\n      <td>0</td>\n      <td>0</td>\n      <td>0</td>\n      <td>0</td>\n      <td>0</td>\n      <td>0</td>\n      <td>...</td>\n      <td>0</td>\n      <td>0</td>\n      <td>0</td>\n      <td>0</td>\n      <td>0</td>\n      <td>0</td>\n      <td>0</td>\n      <td>0</td>\n      <td>0</td>\n      <td>0</td>\n    </tr>\n    <tr>\n      <th>63</th>\n      <td>0</td>\n      <td>0</td>\n      <td>0</td>\n      <td>0</td>\n      <td>0</td>\n      <td>0</td>\n      <td>0</td>\n      <td>0</td>\n      <td>0</td>\n      <td>0</td>\n      <td>...</td>\n      <td>0</td>\n      <td>0</td>\n      <td>0</td>\n      <td>0</td>\n      <td>0</td>\n      <td>0</td>\n      <td>0</td>\n      <td>0</td>\n      <td>0</td>\n      <td>0</td>\n    </tr>\n    <tr>\n      <th>69</th>\n      <td>0</td>\n      <td>0</td>\n      <td>0</td>\n      <td>0</td>\n      <td>0</td>\n      <td>0</td>\n      <td>0</td>\n      <td>0</td>\n      <td>0</td>\n      <td>0</td>\n      <td>...</td>\n      <td>0</td>\n      <td>0</td>\n      <td>0</td>\n      <td>0</td>\n      <td>0</td>\n      <td>0</td>\n      <td>0</td>\n      <td>0</td>\n      <td>0</td>\n      <td>0</td>\n    </tr>\n    <tr>\n      <th>154</th>\n      <td>0</td>\n      <td>0</td>\n      <td>0</td>\n      <td>0</td>\n      <td>0</td>\n      <td>0</td>\n      <td>0</td>\n      <td>0</td>\n      <td>0</td>\n      <td>0</td>\n      <td>...</td>\n      <td>0</td>\n      <td>0</td>\n      <td>0</td>\n      <td>0</td>\n      <td>0</td>\n      <td>0</td>\n      <td>0</td>\n      <td>0</td>\n      <td>0</td>\n      <td>0</td>\n    </tr>\n    <tr>\n      <th>181</th>\n      <td>0</td>\n      <td>0</td>\n      <td>0</td>\n      <td>0</td>\n      <td>0</td>\n      <td>0</td>\n      <td>0</td>\n      <td>0</td>\n      <td>0</td>\n      <td>0</td>\n      <td>...</td>\n      <td>0</td>\n      <td>0</td>\n      <td>0</td>\n      <td>0</td>\n      <td>0</td>\n      <td>0</td>\n      <td>0</td>\n      <td>0</td>\n      <td>0</td>\n      <td>0</td>\n    </tr>\n  </tbody>\n</table>\n<p>5 rows × 21654 columns</p>\n</div>"
     },
     "metadata": {},
     "execution_count": 10
    }
   ],
   "source": [
    "print(\"Training dataset shape:\", new_df.shape)\n",
    "new_df.head()"
   ]
  },
  {
   "cell_type": "code",
   "execution_count": null,
   "metadata": {},
   "outputs": [],
   "source": [
    "person_to_products = df.loc[new_df.index]"
   ]
  },
  {
   "source": [
    "# Transaction-based wish prediction using apriori"
   ],
   "cell_type": "markdown",
   "metadata": {}
  },
  {
   "cell_type": "code",
   "execution_count": 11,
   "metadata": {},
   "outputs": [],
   "source": [
    "# from mlxtend.frequent_patterns import apriori\n",
    "# from mlxtend.frequent_patterns import association_rules\n",
    "\n",
    "# frequent_itemsets = apriori(new_df, min_support=0.05)\n",
    "# rules = association_rules(frequent_itemsets, metric=\"lift\")\n",
    "# # Something FAILED\n",
    "# rules"
   ]
  },
  {
   "cell_type": "code",
   "execution_count": 12,
   "metadata": {},
   "outputs": [],
   "source": [
    "# len(rules)"
   ]
  },
  {
   "cell_type": "code",
   "execution_count": 13,
   "metadata": {},
   "outputs": [],
   "source": [
    "# print(\"Number of antecedents inferred:\", len(np.unique(rules[\"antecedents\"])))\n",
    "# print(\"Ratio of antecedents / well-known products:\", len(np.unique(rules[\"antecedents\"])) / number_of_product)"
   ]
  },
  {
   "source": [
    "# User-based prediction using cosine similarity"
   ],
   "cell_type": "markdown",
   "metadata": {}
  },
  {
   "cell_type": "code",
   "execution_count": 15,
   "metadata": {},
   "outputs": [
    {
     "output_type": "execute_result",
     "data": {
      "text/plain": [
       "(21654, 21654)"
      ]
     },
     "metadata": {},
     "execution_count": 15
    }
   ],
   "source": [
    "sims = cosine_similarity(X_train.T, X_train.T)\n",
    "sims.shape"
   ]
  },
  {
   "source": [
    "### Make a new df cotaining similarity and headers"
   ],
   "cell_type": "markdown",
   "metadata": {}
  },
  {
   "cell_type": "code",
   "execution_count": 16,
   "metadata": {},
   "outputs": [
    {
     "output_type": "execute_result",
     "data": {
      "text/plain": [
       "        1         2       3         9       10      13      14      15      \\\n",
       "1          1.0  0.000000     0.0  0.000000     0.0     0.0     0.0     0.0   \n",
       "2          0.0  1.000000     0.0  0.707107     0.0     0.0     0.0     0.0   \n",
       "3          0.0  0.000000     1.0  0.000000     0.0     0.0     0.0     0.0   \n",
       "9          0.0  0.707107     0.0  1.000000     0.0     0.0     0.0     0.0   \n",
       "10         0.0  0.000000     0.0  0.000000     0.0     0.0     0.0     0.0   \n",
       "...        ...       ...     ...       ...     ...     ...     ...     ...   \n",
       "392092     0.0  0.000000     0.0  0.000000     0.0     0.0     0.0     0.0   \n",
       "392165     0.0  0.000000     0.0  0.000000     0.0     0.0     0.0     0.0   \n",
       "392402     0.0  0.000000     0.0  0.000000     0.0     0.0     0.0     0.0   \n",
       "392478     0.0  0.000000     0.0  0.000000     0.0     0.0     0.0     0.0   \n",
       "393042     0.0  0.000000     0.0  0.000000     0.0     0.0     0.0     0.0   \n",
       "\n",
       "        16      17      ...  390987  391005  391163  391340  391802  392092  \\\n",
       "1          0.0     0.0  ...     0.0     0.0     0.0     0.0     0.0     0.0   \n",
       "2          0.0     0.0  ...     0.0     0.0     0.0     0.0     0.0     0.0   \n",
       "3          0.0     0.0  ...     0.0     0.0     0.0     0.0     0.0     0.0   \n",
       "9          0.0     0.0  ...     0.0     0.0     0.0     0.0     0.0     0.0   \n",
       "10         0.0     0.0  ...     0.0     0.0     0.0     0.0     0.0     0.0   \n",
       "...        ...     ...  ...     ...     ...     ...     ...     ...     ...   \n",
       "392092     0.0     0.0  ...     0.0     0.0     0.0     0.0     0.0     0.0   \n",
       "392165     0.0     0.0  ...     0.0     0.0     0.0     0.0     0.0     0.0   \n",
       "392402     0.0     0.0  ...     0.0     0.0     0.0     0.0     0.0     0.0   \n",
       "392478     0.0     0.0  ...     0.0     0.0     0.0     0.0     0.0     0.0   \n",
       "393042     0.0     0.0  ...     0.0     0.0     0.0     0.0     0.0     0.0   \n",
       "\n",
       "        392165  392402  392478  393042  \n",
       "1          0.0     0.0     0.0     0.0  \n",
       "2          0.0     0.0     0.0     0.0  \n",
       "3          0.0     0.0     0.0     0.0  \n",
       "9          0.0     0.0     0.0     0.0  \n",
       "10         0.0     0.0     0.0     0.0  \n",
       "...        ...     ...     ...     ...  \n",
       "392092     0.0     0.0     0.0     0.0  \n",
       "392165     1.0     0.0     0.0     0.0  \n",
       "392402     0.0     0.0     0.0     0.0  \n",
       "392478     0.0     0.0     0.0     0.0  \n",
       "393042     0.0     0.0     0.0     1.0  \n",
       "\n",
       "[21654 rows x 21654 columns]"
      ],
      "text/html": "<div>\n<style scoped>\n    .dataframe tbody tr th:only-of-type {\n        vertical-align: middle;\n    }\n\n    .dataframe tbody tr th {\n        vertical-align: top;\n    }\n\n    .dataframe thead th {\n        text-align: right;\n    }\n</style>\n<table border=\"1\" class=\"dataframe\">\n  <thead>\n    <tr style=\"text-align: right;\">\n      <th></th>\n      <th>1</th>\n      <th>2</th>\n      <th>3</th>\n      <th>9</th>\n      <th>10</th>\n      <th>13</th>\n      <th>14</th>\n      <th>15</th>\n      <th>16</th>\n      <th>17</th>\n      <th>...</th>\n      <th>390987</th>\n      <th>391005</th>\n      <th>391163</th>\n      <th>391340</th>\n      <th>391802</th>\n      <th>392092</th>\n      <th>392165</th>\n      <th>392402</th>\n      <th>392478</th>\n      <th>393042</th>\n    </tr>\n  </thead>\n  <tbody>\n    <tr>\n      <th>1</th>\n      <td>1.0</td>\n      <td>0.000000</td>\n      <td>0.0</td>\n      <td>0.000000</td>\n      <td>0.0</td>\n      <td>0.0</td>\n      <td>0.0</td>\n      <td>0.0</td>\n      <td>0.0</td>\n      <td>0.0</td>\n      <td>...</td>\n      <td>0.0</td>\n      <td>0.0</td>\n      <td>0.0</td>\n      <td>0.0</td>\n      <td>0.0</td>\n      <td>0.0</td>\n      <td>0.0</td>\n      <td>0.0</td>\n      <td>0.0</td>\n      <td>0.0</td>\n    </tr>\n    <tr>\n      <th>2</th>\n      <td>0.0</td>\n      <td>1.000000</td>\n      <td>0.0</td>\n      <td>0.707107</td>\n      <td>0.0</td>\n      <td>0.0</td>\n      <td>0.0</td>\n      <td>0.0</td>\n      <td>0.0</td>\n      <td>0.0</td>\n      <td>...</td>\n      <td>0.0</td>\n      <td>0.0</td>\n      <td>0.0</td>\n      <td>0.0</td>\n      <td>0.0</td>\n      <td>0.0</td>\n      <td>0.0</td>\n      <td>0.0</td>\n      <td>0.0</td>\n      <td>0.0</td>\n    </tr>\n    <tr>\n      <th>3</th>\n      <td>0.0</td>\n      <td>0.000000</td>\n      <td>1.0</td>\n      <td>0.000000</td>\n      <td>0.0</td>\n      <td>0.0</td>\n      <td>0.0</td>\n      <td>0.0</td>\n      <td>0.0</td>\n      <td>0.0</td>\n      <td>...</td>\n      <td>0.0</td>\n      <td>0.0</td>\n      <td>0.0</td>\n      <td>0.0</td>\n      <td>0.0</td>\n      <td>0.0</td>\n      <td>0.0</td>\n      <td>0.0</td>\n      <td>0.0</td>\n      <td>0.0</td>\n    </tr>\n    <tr>\n      <th>9</th>\n      <td>0.0</td>\n      <td>0.707107</td>\n      <td>0.0</td>\n      <td>1.000000</td>\n      <td>0.0</td>\n      <td>0.0</td>\n      <td>0.0</td>\n      <td>0.0</td>\n      <td>0.0</td>\n      <td>0.0</td>\n      <td>...</td>\n      <td>0.0</td>\n      <td>0.0</td>\n      <td>0.0</td>\n      <td>0.0</td>\n      <td>0.0</td>\n      <td>0.0</td>\n      <td>0.0</td>\n      <td>0.0</td>\n      <td>0.0</td>\n      <td>0.0</td>\n    </tr>\n    <tr>\n      <th>10</th>\n      <td>0.0</td>\n      <td>0.000000</td>\n      <td>0.0</td>\n      <td>0.000000</td>\n      <td>0.0</td>\n      <td>0.0</td>\n      <td>0.0</td>\n      <td>0.0</td>\n      <td>0.0</td>\n      <td>0.0</td>\n      <td>...</td>\n      <td>0.0</td>\n      <td>0.0</td>\n      <td>0.0</td>\n      <td>0.0</td>\n      <td>0.0</td>\n      <td>0.0</td>\n      <td>0.0</td>\n      <td>0.0</td>\n      <td>0.0</td>\n      <td>0.0</td>\n    </tr>\n    <tr>\n      <th>...</th>\n      <td>...</td>\n      <td>...</td>\n      <td>...</td>\n      <td>...</td>\n      <td>...</td>\n      <td>...</td>\n      <td>...</td>\n      <td>...</td>\n      <td>...</td>\n      <td>...</td>\n      <td>...</td>\n      <td>...</td>\n      <td>...</td>\n      <td>...</td>\n      <td>...</td>\n      <td>...</td>\n      <td>...</td>\n      <td>...</td>\n      <td>...</td>\n      <td>...</td>\n      <td>...</td>\n    </tr>\n    <tr>\n      <th>392092</th>\n      <td>0.0</td>\n      <td>0.000000</td>\n      <td>0.0</td>\n      <td>0.000000</td>\n      <td>0.0</td>\n      <td>0.0</td>\n      <td>0.0</td>\n      <td>0.0</td>\n      <td>0.0</td>\n      <td>0.0</td>\n      <td>...</td>\n      <td>0.0</td>\n      <td>0.0</td>\n      <td>0.0</td>\n      <td>0.0</td>\n      <td>0.0</td>\n      <td>0.0</td>\n      <td>0.0</td>\n      <td>0.0</td>\n      <td>0.0</td>\n      <td>0.0</td>\n    </tr>\n    <tr>\n      <th>392165</th>\n      <td>0.0</td>\n      <td>0.000000</td>\n      <td>0.0</td>\n      <td>0.000000</td>\n      <td>0.0</td>\n      <td>0.0</td>\n      <td>0.0</td>\n      <td>0.0</td>\n      <td>0.0</td>\n      <td>0.0</td>\n      <td>...</td>\n      <td>0.0</td>\n      <td>0.0</td>\n      <td>0.0</td>\n      <td>0.0</td>\n      <td>0.0</td>\n      <td>0.0</td>\n      <td>1.0</td>\n      <td>0.0</td>\n      <td>0.0</td>\n      <td>0.0</td>\n    </tr>\n    <tr>\n      <th>392402</th>\n      <td>0.0</td>\n      <td>0.000000</td>\n      <td>0.0</td>\n      <td>0.000000</td>\n      <td>0.0</td>\n      <td>0.0</td>\n      <td>0.0</td>\n      <td>0.0</td>\n      <td>0.0</td>\n      <td>0.0</td>\n      <td>...</td>\n      <td>0.0</td>\n      <td>0.0</td>\n      <td>0.0</td>\n      <td>0.0</td>\n      <td>0.0</td>\n      <td>0.0</td>\n      <td>0.0</td>\n      <td>0.0</td>\n      <td>0.0</td>\n      <td>0.0</td>\n    </tr>\n    <tr>\n      <th>392478</th>\n      <td>0.0</td>\n      <td>0.000000</td>\n      <td>0.0</td>\n      <td>0.000000</td>\n      <td>0.0</td>\n      <td>0.0</td>\n      <td>0.0</td>\n      <td>0.0</td>\n      <td>0.0</td>\n      <td>0.0</td>\n      <td>...</td>\n      <td>0.0</td>\n      <td>0.0</td>\n      <td>0.0</td>\n      <td>0.0</td>\n      <td>0.0</td>\n      <td>0.0</td>\n      <td>0.0</td>\n      <td>0.0</td>\n      <td>0.0</td>\n      <td>0.0</td>\n    </tr>\n    <tr>\n      <th>393042</th>\n      <td>0.0</td>\n      <td>0.000000</td>\n      <td>0.0</td>\n      <td>0.000000</td>\n      <td>0.0</td>\n      <td>0.0</td>\n      <td>0.0</td>\n      <td>0.0</td>\n      <td>0.0</td>\n      <td>0.0</td>\n      <td>...</td>\n      <td>0.0</td>\n      <td>0.0</td>\n      <td>0.0</td>\n      <td>0.0</td>\n      <td>0.0</td>\n      <td>0.0</td>\n      <td>0.0</td>\n      <td>0.0</td>\n      <td>0.0</td>\n      <td>1.0</td>\n    </tr>\n  </tbody>\n</table>\n<p>21654 rows × 21654 columns</p>\n</div>"
     },
     "metadata": {},
     "execution_count": 16
    }
   ],
   "source": [
    "sims_df = pd.DataFrame(sims)\n",
    "sims_df.columns = new_df.columns\n",
    "sims_df.index  = new_df.columns\n",
    "sims_df"
   ]
  },
  {
   "cell_type": "code",
   "execution_count": 14,
   "metadata": {},
   "outputs": [
    {
     "output_type": "stream",
     "name": "stdout",
     "text": [
      "Train size: 1226\nTest size: 614\n"
     ]
    }
   ],
   "source": [
    "from sklearn.model_selection import train_test_split\n",
    "from sklearn.metrics.pairwise import cosine_similarity\n",
    "\n",
    "X_train, X_test = train_test_split(new_df, test_size=1/3.0, random_state=1000)\n",
    "print(\"Train size:\", len(X_train))\n",
    "print(\"Test size:\", len(X_test))"
   ]
  },
  {
   "source": [
    "# Evaluation metrics: All but one"
   ],
   "cell_type": "markdown",
   "metadata": {}
  },
  {
   "cell_type": "code",
   "execution_count": 18,
   "metadata": {},
   "outputs": [
    {
     "output_type": "stream",
     "name": "stdout",
     "text": [
      "Accuracy: 95.28%\n"
     ]
    }
   ],
   "source": [
    "score = 0\n",
    "for _, sample in X_test.iterrows():\n",
    "    test_product_id = person_to_products.loc[sample.name][\"productId\"][0] # sample.index\n",
    "    dot_prod = np.dot(sample, sims_df.loc[test_product_id]) \n",
    "    sum_sims = sims_df.loc[test_product_id].sum()\n",
    "    if sum_sims < 1e-6: \n",
    "        continue \n",
    "    pred = dot_prod / sum_sims\n",
    "    score = score + (1 if pred > 0 else 0)\n",
    "\n",
    "print(\"Accuracy: %.2f%%\" % (score / len(X_test) * 100))"
   ]
  },
  {
   "cell_type": "code",
   "execution_count": 23,
   "metadata": {},
   "outputs": [
    {
     "output_type": "execute_result",
     "data": {
      "text/plain": [
       "[(0.009860054484450329, 65951),\n",
       " (0.010815130229429431, 11312),\n",
       " (0.0645959470549158, 50),\n",
       " (0.0645959470549158, 5948),\n",
       " (0.0645959470549158, 23177),\n",
       " (0.0645959470549158, 24448),\n",
       " (0.0645959470549158, 32737),\n",
       " (0.0645959470549158, 39201),\n",
       " (0.0645959470549158, 44668),\n",
       " (0.0645959470549158, 49728)]"
      ]
     },
     "metadata": {},
     "execution_count": 23
    }
   ],
   "source": [
    "\n",
    "def give_recommendations(user_sample, return_num):\n",
    "    result = []\n",
    "    sample = [0] * len(wish_df.columns)\n",
    "    user_product_set = set(user_sample)\n",
    "    for product_id in user_sample:\n",
    "        sample[product_id] = 1\n",
    "    \n",
    "    for test_product_id in wish_df.columns:\n",
    "        # skip known product\n",
    "        if test_product_id in user_product_set:\n",
    "            continue\n",
    "            \n",
    "        # sum(user_sample[i] * sim(test_product_id, i))\n",
    "        dot_prod = np.dot(sample, sims_df.loc[test_product_id]) \n",
    "        # sum(sim(test_product_id, i))\n",
    "        sum_sims = sims_df.loc[test_product_id].sum() - 1\n",
    "        if sum_sims < 1e-6: \n",
    "            continue\n",
    "\n",
    "        pred = dot_prod / sum_sims\n",
    "        if pred > 0:\n",
    "            result.append((pred, test_product_id))\n",
    "    return sorted(result)[::-1][:return_num]\n",
    "give_recommendations([15], 10)"
   ]
  },
  {
   "source": [
    "## 5-Fold Evaluation"
   ],
   "cell_type": "markdown",
   "metadata": {}
  },
  {
   "cell_type": "code",
   "execution_count": 39,
   "metadata": {},
   "outputs": [
    {
     "output_type": "stream",
     "name": "stdout",
     "text": [
      " 1-Accuracy: 98.91%\n",
      " 2-Accuracy: 98.37%\n",
      " 3-Accuracy: 98.37%\n",
      " 4-Accuracy: 97.83%\n",
      " 5-Accuracy: 98.91%\n",
      " 6-Accuracy: 98.37%\n",
      " 7-Accuracy: 98.37%\n",
      " 8-Accuracy: 97.83%\n",
      " 9-Accuracy: 98.37%\n",
      "10-Accuracy: 98.91%\n",
      "Mean Accuracy: 98.42%\n"
     ]
    }
   ],
   "source": [
    "from sklearn.model_selection import KFold\n",
    "\n",
    "n_splits, mean_acc = 10, 0\n",
    "kf = KFold(n_splits=n_splits, random_state=2021, shuffle=True)\n",
    "idx = 0\n",
    "for train_index, test_index in kf.split(new_df):\n",
    "    idx += 1\n",
    "    X_train, X_test = new_df.iloc[train_index], new_df.iloc[test_index]\n",
    "    # print(\"Train size:\", len(X_train))\n",
    "    # print(\"Test size:\", len(X_test))\n",
    "    score = 0\n",
    "    for _, sample in X_test.iterrows():\n",
    "        test_product_id = person_to_products.loc[sample.name][\"productId\"][0] # sample.index\n",
    "        dot_prod = np.dot(sample, sims_df.loc[test_product_id]) \n",
    "        sum_sims = sims_df.loc[test_product_id].sum()\n",
    "        if sum_sims < 1e-6: \n",
    "            continue \n",
    "        pred = dot_prod / sum_sims\n",
    "        score = score + (1 if pred > 0 else 0)\n",
    "    acc = score / len(X_test) * 100\n",
    "    print(\"%2d-Accuracy: %.2f%%\" % (idx, acc))\n",
    "    mean_acc += acc\n",
    "    # s = \"\"\n",
    "    # for i in range(20):\n",
    "    #     s += \"#\"\n",
    "    # print(s)\n",
    "print(\"Mean Accuracy: %.2f%%\" % (mean_acc/n_splits))"
   ]
  },
  {
   "cell_type": "code",
   "execution_count": null,
   "metadata": {},
   "outputs": [],
   "source": []
  }
 ]
}