{
 "metadata": {
  "language_info": {
   "codemirror_mode": {
    "name": "ipython",
    "version": 3
   },
   "file_extension": ".py",
   "mimetype": "text/x-python",
   "name": "python",
   "nbconvert_exporter": "python",
   "pygments_lexer": "ipython3",
   "version": "3.6.8"
  },
  "orig_nbformat": 2,
  "kernelspec": {
   "name": "python368jvsc74a57bd042cbe2a30f426535b8006a30886e1ea354918eaf4e61ab59d5292e0557712b4b",
   "display_name": "Python 3.6.8 64-bit"
  }
 },
 "nbformat": 4,
 "nbformat_minor": 2,
 "cells": [
  {
   "source": [
    "# Data walking through"
   ],
   "cell_type": "markdown",
   "metadata": {}
  },
  {
   "cell_type": "code",
   "execution_count": 218,
   "metadata": {},
   "outputs": [],
   "source": [
    "import pandas as pd \n",
    "import numpy as np\n",
    "\n",
    "# read csv and assign columns\n",
    "columns = [\"personId\", \"productId\"]\n",
    "df = pd.read_csv(\"dataset/ratebeer/wish.csv\", header=None)\n",
    "df.columns = columns\n",
    "\n",
    "number_of_row = len(df)\n",
    "# get number of products\n",
    "number_of_product = len(np.unique(df[\"productId\"]))\n",
    "# get number of person\n",
    "number_of_person = len(np.unique(df[\"personId\"]))\n",
    "df = df.groupby(\"personId\").aggregate(lambda x: list(x))"
   ]
  },
  {
   "cell_type": "code",
   "execution_count": 219,
   "metadata": {},
   "outputs": [
    {
     "output_type": "stream",
     "name": "stdout",
     "text": [
      "Number of row: 118453\nNumber of person: 1953\nNumber of product: 21654\n"
     ]
    },
    {
     "output_type": "execute_result",
     "data": {
      "text/plain": [
       "                                                  productId\n",
       "personId                                                   \n",
       "39        [47436, 1147, 64658, 9448, 12227, 10609, 6890,...\n",
       "63                                    [36407, 53647, 36624]\n",
       "69        [15017, 2491, 6924, 9193, 19633, 13730, 64975,...\n",
       "154       [49774, 28173, 15017, 24350, 565, 22339, 17385...\n",
       "181       [10524, 30591, 7183, 38426, 22537, 48679, 2912..."
      ],
      "text/html": "<div>\n<style scoped>\n    .dataframe tbody tr th:only-of-type {\n        vertical-align: middle;\n    }\n\n    .dataframe tbody tr th {\n        vertical-align: top;\n    }\n\n    .dataframe thead th {\n        text-align: right;\n    }\n</style>\n<table border=\"1\" class=\"dataframe\">\n  <thead>\n    <tr style=\"text-align: right;\">\n      <th></th>\n      <th>productId</th>\n    </tr>\n    <tr>\n      <th>personId</th>\n      <th></th>\n    </tr>\n  </thead>\n  <tbody>\n    <tr>\n      <th>39</th>\n      <td>[47436, 1147, 64658, 9448, 12227, 10609, 6890,...</td>\n    </tr>\n    <tr>\n      <th>63</th>\n      <td>[36407, 53647, 36624]</td>\n    </tr>\n    <tr>\n      <th>69</th>\n      <td>[15017, 2491, 6924, 9193, 19633, 13730, 64975,...</td>\n    </tr>\n    <tr>\n      <th>154</th>\n      <td>[49774, 28173, 15017, 24350, 565, 22339, 17385...</td>\n    </tr>\n    <tr>\n      <th>181</th>\n      <td>[10524, 30591, 7183, 38426, 22537, 48679, 2912...</td>\n    </tr>\n  </tbody>\n</table>\n</div>"
     },
     "metadata": {},
     "execution_count": 219
    }
   ],
   "source": [
    "print(\"Number of row:\", number_of_row)\n",
    "print(\"Number of person:\", number_of_person)\n",
    "print(\"Number of product:\", number_of_product)\n",
    "# first samples\n",
    "df.head()"
   ]
  },
  {
   "cell_type": "code",
   "execution_count": 220,
   "metadata": {},
   "outputs": [],
   "source": [
    "# 'transactions' is now temporary variable\n",
    "transactions = [row[\"productId\"] for index, row in df.iterrows()]"
   ]
  },
  {
   "cell_type": "code",
   "execution_count": 221,
   "metadata": {},
   "outputs": [],
   "source": [
    "from mlxtend.preprocessing import TransactionEncoder\n",
    "\n",
    "transaction_encoder = TransactionEncoder()\n",
    "wish_matrix = transaction_encoder.fit_transform(transactions).astype(\"int\")\n",
    "wish_df = pd.DataFrame(wish_matrix, columns=transaction_encoder.columns_)\n",
    "\n",
    "# index is actually personId\n",
    "wish_df.index = df.index "
   ]
  },
  {
   "cell_type": "code",
   "execution_count": 222,
   "metadata": {},
   "outputs": [
    {
     "output_type": "execute_result",
     "data": {
      "text/plain": [
       "          1       2       3       9       10      13      14      15      \\\n",
       "personId                                                                   \n",
       "39             0       0       0       0       0       0       0       0   \n",
       "63             0       0       0       0       0       0       0       0   \n",
       "69             0       0       0       0       0       0       0       0   \n",
       "154            0       0       0       0       0       0       0       0   \n",
       "181            0       0       0       0       0       0       0       0   \n",
       "\n",
       "          16      17      ...  390987  391005  391163  391340  391802  392092  \\\n",
       "personId                  ...                                                   \n",
       "39             0       0  ...       0       0       0       0       0       0   \n",
       "63             0       0  ...       0       0       0       0       0       0   \n",
       "69             0       0  ...       0       0       0       0       0       0   \n",
       "154            0       0  ...       0       0       0       0       0       0   \n",
       "181            0       0  ...       0       0       0       0       0       0   \n",
       "\n",
       "          392165  392402  392478  393042  \n",
       "personId                                  \n",
       "39             0       0       0       0  \n",
       "63             0       0       0       0  \n",
       "69             0       0       0       0  \n",
       "154            0       0       0       0  \n",
       "181            0       0       0       0  \n",
       "\n",
       "[5 rows x 21654 columns]"
      ],
      "text/html": "<div>\n<style scoped>\n    .dataframe tbody tr th:only-of-type {\n        vertical-align: middle;\n    }\n\n    .dataframe tbody tr th {\n        vertical-align: top;\n    }\n\n    .dataframe thead th {\n        text-align: right;\n    }\n</style>\n<table border=\"1\" class=\"dataframe\">\n  <thead>\n    <tr style=\"text-align: right;\">\n      <th></th>\n      <th>1</th>\n      <th>2</th>\n      <th>3</th>\n      <th>9</th>\n      <th>10</th>\n      <th>13</th>\n      <th>14</th>\n      <th>15</th>\n      <th>16</th>\n      <th>17</th>\n      <th>...</th>\n      <th>390987</th>\n      <th>391005</th>\n      <th>391163</th>\n      <th>391340</th>\n      <th>391802</th>\n      <th>392092</th>\n      <th>392165</th>\n      <th>392402</th>\n      <th>392478</th>\n      <th>393042</th>\n    </tr>\n    <tr>\n      <th>personId</th>\n      <th></th>\n      <th></th>\n      <th></th>\n      <th></th>\n      <th></th>\n      <th></th>\n      <th></th>\n      <th></th>\n      <th></th>\n      <th></th>\n      <th></th>\n      <th></th>\n      <th></th>\n      <th></th>\n      <th></th>\n      <th></th>\n      <th></th>\n      <th></th>\n      <th></th>\n      <th></th>\n      <th></th>\n    </tr>\n  </thead>\n  <tbody>\n    <tr>\n      <th>39</th>\n      <td>0</td>\n      <td>0</td>\n      <td>0</td>\n      <td>0</td>\n      <td>0</td>\n      <td>0</td>\n      <td>0</td>\n      <td>0</td>\n      <td>0</td>\n      <td>0</td>\n      <td>...</td>\n      <td>0</td>\n      <td>0</td>\n      <td>0</td>\n      <td>0</td>\n      <td>0</td>\n      <td>0</td>\n      <td>0</td>\n      <td>0</td>\n      <td>0</td>\n      <td>0</td>\n    </tr>\n    <tr>\n      <th>63</th>\n      <td>0</td>\n      <td>0</td>\n      <td>0</td>\n      <td>0</td>\n      <td>0</td>\n      <td>0</td>\n      <td>0</td>\n      <td>0</td>\n      <td>0</td>\n      <td>0</td>\n      <td>...</td>\n      <td>0</td>\n      <td>0</td>\n      <td>0</td>\n      <td>0</td>\n      <td>0</td>\n      <td>0</td>\n      <td>0</td>\n      <td>0</td>\n      <td>0</td>\n      <td>0</td>\n    </tr>\n    <tr>\n      <th>69</th>\n      <td>0</td>\n      <td>0</td>\n      <td>0</td>\n      <td>0</td>\n      <td>0</td>\n      <td>0</td>\n      <td>0</td>\n      <td>0</td>\n      <td>0</td>\n      <td>0</td>\n      <td>...</td>\n      <td>0</td>\n      <td>0</td>\n      <td>0</td>\n      <td>0</td>\n      <td>0</td>\n      <td>0</td>\n      <td>0</td>\n      <td>0</td>\n      <td>0</td>\n      <td>0</td>\n    </tr>\n    <tr>\n      <th>154</th>\n      <td>0</td>\n      <td>0</td>\n      <td>0</td>\n      <td>0</td>\n      <td>0</td>\n      <td>0</td>\n      <td>0</td>\n      <td>0</td>\n      <td>0</td>\n      <td>0</td>\n      <td>...</td>\n      <td>0</td>\n      <td>0</td>\n      <td>0</td>\n      <td>0</td>\n      <td>0</td>\n      <td>0</td>\n      <td>0</td>\n      <td>0</td>\n      <td>0</td>\n      <td>0</td>\n    </tr>\n    <tr>\n      <th>181</th>\n      <td>0</td>\n      <td>0</td>\n      <td>0</td>\n      <td>0</td>\n      <td>0</td>\n      <td>0</td>\n      <td>0</td>\n      <td>0</td>\n      <td>0</td>\n      <td>0</td>\n      <td>...</td>\n      <td>0</td>\n      <td>0</td>\n      <td>0</td>\n      <td>0</td>\n      <td>0</td>\n      <td>0</td>\n      <td>0</td>\n      <td>0</td>\n      <td>0</td>\n      <td>0</td>\n    </tr>\n  </tbody>\n</table>\n<p>5 rows × 21654 columns</p>\n</div>"
     },
     "metadata": {},
     "execution_count": 222
    }
   ],
   "source": [
    "wish_df.head()"
   ]
  },
  {
   "cell_type": "code",
   "execution_count": 251,
   "metadata": {},
   "outputs": [],
   "source": [
    "wish_count, freq = np.unique(wish_df.sum(axis=1), return_counts=True)"
   ]
  },
  {
   "cell_type": "code",
   "execution_count": null,
   "metadata": {},
   "outputs": [],
   "source": [
    "import matplotlib.pyplot as plt \n",
    "import numpy as np \n",
    "plt.scatter(wish_count, freq)"
   ]
  },
  {
   "source": [
    "# Erase useless samples, which are so sparse "
   ],
   "cell_type": "markdown",
   "metadata": {}
  },
  {
   "cell_type": "code",
   "execution_count": 237,
   "metadata": {},
   "outputs": [
    {
     "output_type": "stream",
     "name": "stdout",
     "text": [
      "Number of person having wish > 1: 1840\n"
     ]
    }
   ],
   "source": [
    "new_df = wish_df.loc[wish_df.sum(axis=1) > 1]\n",
    "new_df = new_df.loc[:, wish_df.sum() > 0]\n",
    "print(\"Number of person having wish > 1:\", len(new_df))\n"
   ]
  },
  {
   "cell_type": "code",
   "execution_count": 225,
   "metadata": {},
   "outputs": [
    {
     "output_type": "stream",
     "name": "stdout",
     "text": [
      "Training dataset shape: (1840, 21654)\n"
     ]
    },
    {
     "output_type": "execute_result",
     "data": {
      "text/plain": [
       "          1       2       3       9       10      13      14      15      \\\n",
       "personId                                                                   \n",
       "39             0       0       0       0       0       0       0       0   \n",
       "63             0       0       0       0       0       0       0       0   \n",
       "69             0       0       0       0       0       0       0       0   \n",
       "154            0       0       0       0       0       0       0       0   \n",
       "181            0       0       0       0       0       0       0       0   \n",
       "\n",
       "          16      17      ...  390987  391005  391163  391340  391802  392092  \\\n",
       "personId                  ...                                                   \n",
       "39             0       0  ...       0       0       0       0       0       0   \n",
       "63             0       0  ...       0       0       0       0       0       0   \n",
       "69             0       0  ...       0       0       0       0       0       0   \n",
       "154            0       0  ...       0       0       0       0       0       0   \n",
       "181            0       0  ...       0       0       0       0       0       0   \n",
       "\n",
       "          392165  392402  392478  393042  \n",
       "personId                                  \n",
       "39             0       0       0       0  \n",
       "63             0       0       0       0  \n",
       "69             0       0       0       0  \n",
       "154            0       0       0       0  \n",
       "181            0       0       0       0  \n",
       "\n",
       "[5 rows x 21654 columns]"
      ],
      "text/html": "<div>\n<style scoped>\n    .dataframe tbody tr th:only-of-type {\n        vertical-align: middle;\n    }\n\n    .dataframe tbody tr th {\n        vertical-align: top;\n    }\n\n    .dataframe thead th {\n        text-align: right;\n    }\n</style>\n<table border=\"1\" class=\"dataframe\">\n  <thead>\n    <tr style=\"text-align: right;\">\n      <th></th>\n      <th>1</th>\n      <th>2</th>\n      <th>3</th>\n      <th>9</th>\n      <th>10</th>\n      <th>13</th>\n      <th>14</th>\n      <th>15</th>\n      <th>16</th>\n      <th>17</th>\n      <th>...</th>\n      <th>390987</th>\n      <th>391005</th>\n      <th>391163</th>\n      <th>391340</th>\n      <th>391802</th>\n      <th>392092</th>\n      <th>392165</th>\n      <th>392402</th>\n      <th>392478</th>\n      <th>393042</th>\n    </tr>\n    <tr>\n      <th>personId</th>\n      <th></th>\n      <th></th>\n      <th></th>\n      <th></th>\n      <th></th>\n      <th></th>\n      <th></th>\n      <th></th>\n      <th></th>\n      <th></th>\n      <th></th>\n      <th></th>\n      <th></th>\n      <th></th>\n      <th></th>\n      <th></th>\n      <th></th>\n      <th></th>\n      <th></th>\n      <th></th>\n      <th></th>\n    </tr>\n  </thead>\n  <tbody>\n    <tr>\n      <th>39</th>\n      <td>0</td>\n      <td>0</td>\n      <td>0</td>\n      <td>0</td>\n      <td>0</td>\n      <td>0</td>\n      <td>0</td>\n      <td>0</td>\n      <td>0</td>\n      <td>0</td>\n      <td>...</td>\n      <td>0</td>\n      <td>0</td>\n      <td>0</td>\n      <td>0</td>\n      <td>0</td>\n      <td>0</td>\n      <td>0</td>\n      <td>0</td>\n      <td>0</td>\n      <td>0</td>\n    </tr>\n    <tr>\n      <th>63</th>\n      <td>0</td>\n      <td>0</td>\n      <td>0</td>\n      <td>0</td>\n      <td>0</td>\n      <td>0</td>\n      <td>0</td>\n      <td>0</td>\n      <td>0</td>\n      <td>0</td>\n      <td>...</td>\n      <td>0</td>\n      <td>0</td>\n      <td>0</td>\n      <td>0</td>\n      <td>0</td>\n      <td>0</td>\n      <td>0</td>\n      <td>0</td>\n      <td>0</td>\n      <td>0</td>\n    </tr>\n    <tr>\n      <th>69</th>\n      <td>0</td>\n      <td>0</td>\n      <td>0</td>\n      <td>0</td>\n      <td>0</td>\n      <td>0</td>\n      <td>0</td>\n      <td>0</td>\n      <td>0</td>\n      <td>0</td>\n      <td>...</td>\n      <td>0</td>\n      <td>0</td>\n      <td>0</td>\n      <td>0</td>\n      <td>0</td>\n      <td>0</td>\n      <td>0</td>\n      <td>0</td>\n      <td>0</td>\n      <td>0</td>\n    </tr>\n    <tr>\n      <th>154</th>\n      <td>0</td>\n      <td>0</td>\n      <td>0</td>\n      <td>0</td>\n      <td>0</td>\n      <td>0</td>\n      <td>0</td>\n      <td>0</td>\n      <td>0</td>\n      <td>0</td>\n      <td>...</td>\n      <td>0</td>\n      <td>0</td>\n      <td>0</td>\n      <td>0</td>\n      <td>0</td>\n      <td>0</td>\n      <td>0</td>\n      <td>0</td>\n      <td>0</td>\n      <td>0</td>\n    </tr>\n    <tr>\n      <th>181</th>\n      <td>0</td>\n      <td>0</td>\n      <td>0</td>\n      <td>0</td>\n      <td>0</td>\n      <td>0</td>\n      <td>0</td>\n      <td>0</td>\n      <td>0</td>\n      <td>0</td>\n      <td>...</td>\n      <td>0</td>\n      <td>0</td>\n      <td>0</td>\n      <td>0</td>\n      <td>0</td>\n      <td>0</td>\n      <td>0</td>\n      <td>0</td>\n      <td>0</td>\n      <td>0</td>\n    </tr>\n  </tbody>\n</table>\n<p>5 rows × 21654 columns</p>\n</div>"
     },
     "metadata": {},
     "execution_count": 225
    }
   ],
   "source": [
    "print(\"Training dataset shape:\", new_df.shape)\n",
    "new_df.head()"
   ]
  },
  {
   "source": [
    "## Re-stat "
   ],
   "cell_type": "markdown",
   "metadata": {}
  },
  {
   "cell_type": "code",
   "execution_count": 249,
   "metadata": {},
   "outputs": [],
   "source": [
    "wish_count, freq = np.unique(new_df.sum(axis=1), return_counts=True)"
   ]
  },
  {
   "cell_type": "code",
   "execution_count": 250,
   "metadata": {},
   "outputs": [
    {
     "output_type": "execute_result",
     "data": {
      "text/plain": [
       "<matplotlib.collections.PathCollection at 0x18895b612b0>"
      ]
     },
     "metadata": {},
     "execution_count": 250
    },
    {
     "output_type": "display_data",
     "data": {
      "text/plain": "<Figure size 432x288 with 1 Axes>",
      "image/svg+xml": "<?xml version=\"1.0\" encoding=\"utf-8\" standalone=\"no\"?>\r\n<!DOCTYPE svg PUBLIC \"-//W3C//DTD SVG 1.1//EN\"\r\n  \"http://www.w3.org/Graphics/SVG/1.1/DTD/svg11.dtd\">\r\n<!-- Created with matplotlib (https://matplotlib.org/) -->\r\n<svg height=\"251.418831pt\" version=\"1.1\" viewBox=\"0 0 368.925 251.418831\" width=\"368.925pt\" xmlns=\"http://www.w3.org/2000/svg\" xmlns:xlink=\"http://www.w3.org/1999/xlink\">\r\n <metadata>\r\n  <rdf:RDF xmlns:cc=\"http://creativecommons.org/ns#\" xmlns:dc=\"http://purl.org/dc/elements/1.1/\" xmlns:rdf=\"http://www.w3.org/1999/02/22-rdf-syntax-ns#\">\r\n   <cc:Work>\r\n    <dc:type rdf:resource=\"http://purl.org/dc/dcmitype/StillImage\"/>\r\n    <dc:date>2021-05-03T10:26:35.447704</dc:date>\r\n    <dc:format>image/svg+xml</dc:format>\r\n    <dc:creator>\r\n     <cc:Agent>\r\n      <dc:title>Matplotlib v3.3.4, https://matplotlib.org/</dc:title>\r\n     </cc:Agent>\r\n    </dc:creator>\r\n   </cc:Work>\r\n  </rdf:RDF>\r\n </metadata>\r\n <defs>\r\n  <style type=\"text/css\">*{stroke-linecap:butt;stroke-linejoin:round;}</style>\r\n </defs>\r\n <g id=\"figure_1\">\r\n  <g id=\"patch_1\">\r\n   <path d=\"M -0 251.418831 \r\nL 368.925 251.418831 \r\nL 368.925 0 \r\nL -0 0 \r\nz\r\n\" style=\"fill:none;\"/>\r\n  </g>\r\n  <g id=\"axes_1\">\r\n   <g id=\"patch_2\">\r\n    <path d=\"M 26.925 227.540706 \r\nL 361.725 227.540706 \r\nL 361.725 10.100706 \r\nL 26.925 10.100706 \r\nz\r\n\" style=\"fill:#ffffff;\"/>\r\n   </g>\r\n   <g id=\"PathCollection_1\">\r\n    <defs>\r\n     <path d=\"M 0 3 \r\nC 0.795609 3 1.55874 2.683901 2.12132 2.12132 \r\nC 2.683901 1.55874 3 0.795609 3 0 \r\nC 3 -0.795609 2.683901 -1.55874 2.12132 -2.12132 \r\nC 1.55874 -2.683901 0.795609 -3 0 -3 \r\nC -0.795609 -3 -1.55874 -2.683901 -2.12132 -2.12132 \r\nC -2.683901 -1.55874 -3 -0.795609 -3 0 \r\nC -3 0.795609 -2.683901 1.55874 -2.12132 2.12132 \r\nC -1.55874 2.683901 -0.795609 3 0 3 \r\nz\r\n\" id=\"me2ef238122\" style=\"stroke:#1f77b4;\"/>\r\n    </defs>\r\n    <g clip-path=\"url(#pa26754dfc7)\">\r\n     <use style=\"fill:#1f77b4;stroke:#1f77b4;\" x=\"42.143182\" xlink:href=\"#me2ef238122\" y=\"40.949632\"/>\r\n     <use style=\"fill:#1f77b4;stroke:#1f77b4;\" x=\"42.2602\" xlink:href=\"#me2ef238122\" y=\"19.984343\"/>\r\n     <use style=\"fill:#1f77b4;stroke:#1f77b4;\" x=\"42.377218\" xlink:href=\"#me2ef238122\" y=\"85.875252\"/>\r\n     <use style=\"fill:#1f77b4;stroke:#1f77b4;\" x=\"42.494236\" xlink:href=\"#me2ef238122\" y=\"52.929797\"/>\r\n     <use style=\"fill:#1f77b4;stroke:#1f77b4;\" x=\"42.611254\" xlink:href=\"#me2ef238122\" y=\"49.934756\"/>\r\n     <use style=\"fill:#1f77b4;stroke:#1f77b4;\" x=\"42.728271\" xlink:href=\"#me2ef238122\" y=\"97.855417\"/>\r\n     <use style=\"fill:#1f77b4;stroke:#1f77b4;\" x=\"42.845289\" xlink:href=\"#me2ef238122\" y=\"97.855417\"/>\r\n     <use style=\"fill:#1f77b4;stroke:#1f77b4;\" x=\"42.962307\" xlink:href=\"#me2ef238122\" y=\"121.815748\"/>\r\n     <use style=\"fill:#1f77b4;stroke:#1f77b4;\" x=\"43.079325\" xlink:href=\"#me2ef238122\" y=\"124.810789\"/>\r\n     <use style=\"fill:#1f77b4;stroke:#1f77b4;\" x=\"43.196343\" xlink:href=\"#me2ef238122\" y=\"118.820706\"/>\r\n     <use style=\"fill:#1f77b4;stroke:#1f77b4;\" x=\"43.313361\" xlink:href=\"#me2ef238122\" y=\"121.815748\"/>\r\n     <use style=\"fill:#1f77b4;stroke:#1f77b4;\" x=\"43.430379\" xlink:href=\"#me2ef238122\" y=\"106.840541\"/>\r\n     <use style=\"fill:#1f77b4;stroke:#1f77b4;\" x=\"43.547397\" xlink:href=\"#me2ef238122\" y=\"145.776078\"/>\r\n     <use style=\"fill:#1f77b4;stroke:#1f77b4;\" x=\"43.664415\" xlink:href=\"#me2ef238122\" y=\"130.800872\"/>\r\n     <use style=\"fill:#1f77b4;stroke:#1f77b4;\" x=\"43.781433\" xlink:href=\"#me2ef238122\" y=\"130.800872\"/>\r\n     <use style=\"fill:#1f77b4;stroke:#1f77b4;\" x=\"43.898451\" xlink:href=\"#me2ef238122\" y=\"145.776078\"/>\r\n     <use style=\"fill:#1f77b4;stroke:#1f77b4;\" x=\"44.015469\" xlink:href=\"#me2ef238122\" y=\"157.756244\"/>\r\n     <use style=\"fill:#1f77b4;stroke:#1f77b4;\" x=\"44.132487\" xlink:href=\"#me2ef238122\" y=\"157.756244\"/>\r\n     <use style=\"fill:#1f77b4;stroke:#1f77b4;\" x=\"44.249505\" xlink:href=\"#me2ef238122\" y=\"163.746326\"/>\r\n     <use style=\"fill:#1f77b4;stroke:#1f77b4;\" x=\"44.366522\" xlink:href=\"#me2ef238122\" y=\"169.736409\"/>\r\n     <use style=\"fill:#1f77b4;stroke:#1f77b4;\" x=\"44.48354\" xlink:href=\"#me2ef238122\" y=\"151.766161\"/>\r\n     <use style=\"fill:#1f77b4;stroke:#1f77b4;\" x=\"44.600558\" xlink:href=\"#me2ef238122\" y=\"142.781037\"/>\r\n     <use style=\"fill:#1f77b4;stroke:#1f77b4;\" x=\"44.717576\" xlink:href=\"#me2ef238122\" y=\"157.756244\"/>\r\n     <use style=\"fill:#1f77b4;stroke:#1f77b4;\" x=\"44.834594\" xlink:href=\"#me2ef238122\" y=\"181.716574\"/>\r\n     <use style=\"fill:#1f77b4;stroke:#1f77b4;\" x=\"44.951612\" xlink:href=\"#me2ef238122\" y=\"163.746326\"/>\r\n     <use style=\"fill:#1f77b4;stroke:#1f77b4;\" x=\"45.06863\" xlink:href=\"#me2ef238122\" y=\"157.756244\"/>\r\n     <use style=\"fill:#1f77b4;stroke:#1f77b4;\" x=\"45.185648\" xlink:href=\"#me2ef238122\" y=\"172.73145\"/>\r\n     <use style=\"fill:#1f77b4;stroke:#1f77b4;\" x=\"45.302666\" xlink:href=\"#me2ef238122\" y=\"172.73145\"/>\r\n     <use style=\"fill:#1f77b4;stroke:#1f77b4;\" x=\"45.419684\" xlink:href=\"#me2ef238122\" y=\"157.756244\"/>\r\n     <use style=\"fill:#1f77b4;stroke:#1f77b4;\" x=\"45.536702\" xlink:href=\"#me2ef238122\" y=\"184.711615\"/>\r\n     <use style=\"fill:#1f77b4;stroke:#1f77b4;\" x=\"45.65372\" xlink:href=\"#me2ef238122\" y=\"175.726491\"/>\r\n     <use style=\"fill:#1f77b4;stroke:#1f77b4;\" x=\"45.770738\" xlink:href=\"#me2ef238122\" y=\"193.696739\"/>\r\n     <use style=\"fill:#1f77b4;stroke:#1f77b4;\" x=\"45.887756\" xlink:href=\"#me2ef238122\" y=\"184.711615\"/>\r\n     <use style=\"fill:#1f77b4;stroke:#1f77b4;\" x=\"46.004774\" xlink:href=\"#me2ef238122\" y=\"169.736409\"/>\r\n     <use style=\"fill:#1f77b4;stroke:#1f77b4;\" x=\"46.121791\" xlink:href=\"#me2ef238122\" y=\"154.761202\"/>\r\n     <use style=\"fill:#1f77b4;stroke:#1f77b4;\" x=\"46.238809\" xlink:href=\"#me2ef238122\" y=\"190.701698\"/>\r\n     <use style=\"fill:#1f77b4;stroke:#1f77b4;\" x=\"46.355827\" xlink:href=\"#me2ef238122\" y=\"172.73145\"/>\r\n     <use style=\"fill:#1f77b4;stroke:#1f77b4;\" x=\"46.472845\" xlink:href=\"#me2ef238122\" y=\"178.721533\"/>\r\n     <use style=\"fill:#1f77b4;stroke:#1f77b4;\" x=\"46.589863\" xlink:href=\"#me2ef238122\" y=\"184.711615\"/>\r\n     <use style=\"fill:#1f77b4;stroke:#1f77b4;\" x=\"46.706881\" xlink:href=\"#me2ef238122\" y=\"190.701698\"/>\r\n     <use style=\"fill:#1f77b4;stroke:#1f77b4;\" x=\"46.823899\" xlink:href=\"#me2ef238122\" y=\"184.711615\"/>\r\n     <use style=\"fill:#1f77b4;stroke:#1f77b4;\" x=\"46.940917\" xlink:href=\"#me2ef238122\" y=\"160.751285\"/>\r\n     <use style=\"fill:#1f77b4;stroke:#1f77b4;\" x=\"47.057935\" xlink:href=\"#me2ef238122\" y=\"199.686822\"/>\r\n     <use style=\"fill:#1f77b4;stroke:#1f77b4;\" x=\"47.174953\" xlink:href=\"#me2ef238122\" y=\"187.706657\"/>\r\n     <use style=\"fill:#1f77b4;stroke:#1f77b4;\" x=\"47.291971\" xlink:href=\"#me2ef238122\" y=\"166.741368\"/>\r\n     <use style=\"fill:#1f77b4;stroke:#1f77b4;\" x=\"47.408989\" xlink:href=\"#me2ef238122\" y=\"187.706657\"/>\r\n     <use style=\"fill:#1f77b4;stroke:#1f77b4;\" x=\"47.526007\" xlink:href=\"#me2ef238122\" y=\"193.696739\"/>\r\n     <use style=\"fill:#1f77b4;stroke:#1f77b4;\" x=\"47.643025\" xlink:href=\"#me2ef238122\" y=\"193.696739\"/>\r\n     <use style=\"fill:#1f77b4;stroke:#1f77b4;\" x=\"47.760042\" xlink:href=\"#me2ef238122\" y=\"199.686822\"/>\r\n     <use style=\"fill:#1f77b4;stroke:#1f77b4;\" x=\"47.87706\" xlink:href=\"#me2ef238122\" y=\"172.73145\"/>\r\n     <use style=\"fill:#1f77b4;stroke:#1f77b4;\" x=\"47.994078\" xlink:href=\"#me2ef238122\" y=\"184.711615\"/>\r\n     <use style=\"fill:#1f77b4;stroke:#1f77b4;\" x=\"48.111096\" xlink:href=\"#me2ef238122\" y=\"190.701698\"/>\r\n     <use style=\"fill:#1f77b4;stroke:#1f77b4;\" x=\"48.228114\" xlink:href=\"#me2ef238122\" y=\"199.686822\"/>\r\n     <use style=\"fill:#1f77b4;stroke:#1f77b4;\" x=\"48.345132\" xlink:href=\"#me2ef238122\" y=\"196.691781\"/>\r\n     <use style=\"fill:#1f77b4;stroke:#1f77b4;\" x=\"48.46215\" xlink:href=\"#me2ef238122\" y=\"196.691781\"/>\r\n     <use style=\"fill:#1f77b4;stroke:#1f77b4;\" x=\"48.579168\" xlink:href=\"#me2ef238122\" y=\"187.706657\"/>\r\n     <use style=\"fill:#1f77b4;stroke:#1f77b4;\" x=\"48.696186\" xlink:href=\"#me2ef238122\" y=\"196.691781\"/>\r\n     <use style=\"fill:#1f77b4;stroke:#1f77b4;\" x=\"48.813204\" xlink:href=\"#me2ef238122\" y=\"172.73145\"/>\r\n     <use style=\"fill:#1f77b4;stroke:#1f77b4;\" x=\"48.930222\" xlink:href=\"#me2ef238122\" y=\"187.706657\"/>\r\n     <use style=\"fill:#1f77b4;stroke:#1f77b4;\" x=\"49.04724\" xlink:href=\"#me2ef238122\" y=\"202.681863\"/>\r\n     <use style=\"fill:#1f77b4;stroke:#1f77b4;\" x=\"49.164258\" xlink:href=\"#me2ef238122\" y=\"190.701698\"/>\r\n     <use style=\"fill:#1f77b4;stroke:#1f77b4;\" x=\"49.281276\" xlink:href=\"#me2ef238122\" y=\"190.701698\"/>\r\n     <use style=\"fill:#1f77b4;stroke:#1f77b4;\" x=\"49.515311\" xlink:href=\"#me2ef238122\" y=\"190.701698\"/>\r\n     <use style=\"fill:#1f77b4;stroke:#1f77b4;\" x=\"49.632329\" xlink:href=\"#me2ef238122\" y=\"184.711615\"/>\r\n     <use style=\"fill:#1f77b4;stroke:#1f77b4;\" x=\"49.749347\" xlink:href=\"#me2ef238122\" y=\"193.696739\"/>\r\n     <use style=\"fill:#1f77b4;stroke:#1f77b4;\" x=\"49.866365\" xlink:href=\"#me2ef238122\" y=\"193.696739\"/>\r\n     <use style=\"fill:#1f77b4;stroke:#1f77b4;\" x=\"49.983383\" xlink:href=\"#me2ef238122\" y=\"193.696739\"/>\r\n     <use style=\"fill:#1f77b4;stroke:#1f77b4;\" x=\"50.100401\" xlink:href=\"#me2ef238122\" y=\"199.686822\"/>\r\n     <use style=\"fill:#1f77b4;stroke:#1f77b4;\" x=\"50.217419\" xlink:href=\"#me2ef238122\" y=\"190.701698\"/>\r\n     <use style=\"fill:#1f77b4;stroke:#1f77b4;\" x=\"50.334437\" xlink:href=\"#me2ef238122\" y=\"211.666987\"/>\r\n     <use style=\"fill:#1f77b4;stroke:#1f77b4;\" x=\"50.451455\" xlink:href=\"#me2ef238122\" y=\"184.711615\"/>\r\n     <use style=\"fill:#1f77b4;stroke:#1f77b4;\" x=\"50.568473\" xlink:href=\"#me2ef238122\" y=\"199.686822\"/>\r\n     <use style=\"fill:#1f77b4;stroke:#1f77b4;\" x=\"50.685491\" xlink:href=\"#me2ef238122\" y=\"211.666987\"/>\r\n     <use style=\"fill:#1f77b4;stroke:#1f77b4;\" x=\"50.802509\" xlink:href=\"#me2ef238122\" y=\"208.671946\"/>\r\n     <use style=\"fill:#1f77b4;stroke:#1f77b4;\" x=\"50.919527\" xlink:href=\"#me2ef238122\" y=\"184.711615\"/>\r\n     <use style=\"fill:#1f77b4;stroke:#1f77b4;\" x=\"51.036545\" xlink:href=\"#me2ef238122\" y=\"202.681863\"/>\r\n     <use style=\"fill:#1f77b4;stroke:#1f77b4;\" x=\"51.153562\" xlink:href=\"#me2ef238122\" y=\"208.671946\"/>\r\n     <use style=\"fill:#1f77b4;stroke:#1f77b4;\" x=\"51.27058\" xlink:href=\"#me2ef238122\" y=\"199.686822\"/>\r\n     <use style=\"fill:#1f77b4;stroke:#1f77b4;\" x=\"51.387598\" xlink:href=\"#me2ef238122\" y=\"199.686822\"/>\r\n     <use style=\"fill:#1f77b4;stroke:#1f77b4;\" x=\"51.504616\" xlink:href=\"#me2ef238122\" y=\"205.676905\"/>\r\n     <use style=\"fill:#1f77b4;stroke:#1f77b4;\" x=\"51.621634\" xlink:href=\"#me2ef238122\" y=\"202.681863\"/>\r\n     <use style=\"fill:#1f77b4;stroke:#1f77b4;\" x=\"51.738652\" xlink:href=\"#me2ef238122\" y=\"202.681863\"/>\r\n     <use style=\"fill:#1f77b4;stroke:#1f77b4;\" x=\"51.85567\" xlink:href=\"#me2ef238122\" y=\"202.681863\"/>\r\n     <use style=\"fill:#1f77b4;stroke:#1f77b4;\" x=\"51.972688\" xlink:href=\"#me2ef238122\" y=\"202.681863\"/>\r\n     <use style=\"fill:#1f77b4;stroke:#1f77b4;\" x=\"52.089706\" xlink:href=\"#me2ef238122\" y=\"205.676905\"/>\r\n     <use style=\"fill:#1f77b4;stroke:#1f77b4;\" x=\"52.206724\" xlink:href=\"#me2ef238122\" y=\"205.676905\"/>\r\n     <use style=\"fill:#1f77b4;stroke:#1f77b4;\" x=\"52.323742\" xlink:href=\"#me2ef238122\" y=\"199.686822\"/>\r\n     <use style=\"fill:#1f77b4;stroke:#1f77b4;\" x=\"52.44076\" xlink:href=\"#me2ef238122\" y=\"202.681863\"/>\r\n     <use style=\"fill:#1f77b4;stroke:#1f77b4;\" x=\"52.557778\" xlink:href=\"#me2ef238122\" y=\"202.681863\"/>\r\n     <use style=\"fill:#1f77b4;stroke:#1f77b4;\" x=\"52.674796\" xlink:href=\"#me2ef238122\" y=\"205.676905\"/>\r\n     <use style=\"fill:#1f77b4;stroke:#1f77b4;\" x=\"52.791813\" xlink:href=\"#me2ef238122\" y=\"193.696739\"/>\r\n     <use style=\"fill:#1f77b4;stroke:#1f77b4;\" x=\"52.908831\" xlink:href=\"#me2ef238122\" y=\"217.65707\"/>\r\n     <use style=\"fill:#1f77b4;stroke:#1f77b4;\" x=\"53.025849\" xlink:href=\"#me2ef238122\" y=\"208.671946\"/>\r\n     <use style=\"fill:#1f77b4;stroke:#1f77b4;\" x=\"53.259885\" xlink:href=\"#me2ef238122\" y=\"202.681863\"/>\r\n     <use style=\"fill:#1f77b4;stroke:#1f77b4;\" x=\"53.376903\" xlink:href=\"#me2ef238122\" y=\"196.691781\"/>\r\n     <use style=\"fill:#1f77b4;stroke:#1f77b4;\" x=\"53.493921\" xlink:href=\"#me2ef238122\" y=\"208.671946\"/>\r\n     <use style=\"fill:#1f77b4;stroke:#1f77b4;\" x=\"53.610939\" xlink:href=\"#me2ef238122\" y=\"214.662029\"/>\r\n     <use style=\"fill:#1f77b4;stroke:#1f77b4;\" x=\"53.727957\" xlink:href=\"#me2ef238122\" y=\"214.662029\"/>\r\n     <use style=\"fill:#1f77b4;stroke:#1f77b4;\" x=\"53.844975\" xlink:href=\"#me2ef238122\" y=\"211.666987\"/>\r\n     <use style=\"fill:#1f77b4;stroke:#1f77b4;\" x=\"53.961993\" xlink:href=\"#me2ef238122\" y=\"214.662029\"/>\r\n     <use style=\"fill:#1f77b4;stroke:#1f77b4;\" x=\"54.079011\" xlink:href=\"#me2ef238122\" y=\"217.65707\"/>\r\n     <use style=\"fill:#1f77b4;stroke:#1f77b4;\" x=\"54.196029\" xlink:href=\"#me2ef238122\" y=\"190.701698\"/>\r\n     <use style=\"fill:#1f77b4;stroke:#1f77b4;\" x=\"54.313047\" xlink:href=\"#me2ef238122\" y=\"214.662029\"/>\r\n     <use style=\"fill:#1f77b4;stroke:#1f77b4;\" x=\"54.430064\" xlink:href=\"#me2ef238122\" y=\"208.671946\"/>\r\n     <use style=\"fill:#1f77b4;stroke:#1f77b4;\" x=\"54.547082\" xlink:href=\"#me2ef238122\" y=\"205.676905\"/>\r\n     <use style=\"fill:#1f77b4;stroke:#1f77b4;\" x=\"54.6641\" xlink:href=\"#me2ef238122\" y=\"214.662029\"/>\r\n     <use style=\"fill:#1f77b4;stroke:#1f77b4;\" x=\"54.781118\" xlink:href=\"#me2ef238122\" y=\"208.671946\"/>\r\n     <use style=\"fill:#1f77b4;stroke:#1f77b4;\" x=\"54.898136\" xlink:href=\"#me2ef238122\" y=\"211.666987\"/>\r\n     <use style=\"fill:#1f77b4;stroke:#1f77b4;\" x=\"55.015154\" xlink:href=\"#me2ef238122\" y=\"214.662029\"/>\r\n     <use style=\"fill:#1f77b4;stroke:#1f77b4;\" x=\"55.132172\" xlink:href=\"#me2ef238122\" y=\"214.662029\"/>\r\n     <use style=\"fill:#1f77b4;stroke:#1f77b4;\" x=\"55.24919\" xlink:href=\"#me2ef238122\" y=\"214.662029\"/>\r\n     <use style=\"fill:#1f77b4;stroke:#1f77b4;\" x=\"55.366208\" xlink:href=\"#me2ef238122\" y=\"211.666987\"/>\r\n     <use style=\"fill:#1f77b4;stroke:#1f77b4;\" x=\"55.483226\" xlink:href=\"#me2ef238122\" y=\"211.666987\"/>\r\n     <use style=\"fill:#1f77b4;stroke:#1f77b4;\" x=\"55.600244\" xlink:href=\"#me2ef238122\" y=\"214.662029\"/>\r\n     <use style=\"fill:#1f77b4;stroke:#1f77b4;\" x=\"55.717262\" xlink:href=\"#me2ef238122\" y=\"208.671946\"/>\r\n     <use style=\"fill:#1f77b4;stroke:#1f77b4;\" x=\"55.83428\" xlink:href=\"#me2ef238122\" y=\"217.65707\"/>\r\n     <use style=\"fill:#1f77b4;stroke:#1f77b4;\" x=\"55.951298\" xlink:href=\"#me2ef238122\" y=\"202.681863\"/>\r\n     <use style=\"fill:#1f77b4;stroke:#1f77b4;\" x=\"56.068316\" xlink:href=\"#me2ef238122\" y=\"205.676905\"/>\r\n     <use style=\"fill:#1f77b4;stroke:#1f77b4;\" x=\"56.185333\" xlink:href=\"#me2ef238122\" y=\"211.666987\"/>\r\n     <use style=\"fill:#1f77b4;stroke:#1f77b4;\" x=\"56.302351\" xlink:href=\"#me2ef238122\" y=\"211.666987\"/>\r\n     <use style=\"fill:#1f77b4;stroke:#1f77b4;\" x=\"56.419369\" xlink:href=\"#me2ef238122\" y=\"211.666987\"/>\r\n     <use style=\"fill:#1f77b4;stroke:#1f77b4;\" x=\"56.536387\" xlink:href=\"#me2ef238122\" y=\"208.671946\"/>\r\n     <use style=\"fill:#1f77b4;stroke:#1f77b4;\" x=\"56.653405\" xlink:href=\"#me2ef238122\" y=\"214.662029\"/>\r\n     <use style=\"fill:#1f77b4;stroke:#1f77b4;\" x=\"56.770423\" xlink:href=\"#me2ef238122\" y=\"217.65707\"/>\r\n     <use style=\"fill:#1f77b4;stroke:#1f77b4;\" x=\"57.004459\" xlink:href=\"#me2ef238122\" y=\"205.676905\"/>\r\n     <use style=\"fill:#1f77b4;stroke:#1f77b4;\" x=\"57.121477\" xlink:href=\"#me2ef238122\" y=\"208.671946\"/>\r\n     <use style=\"fill:#1f77b4;stroke:#1f77b4;\" x=\"57.238495\" xlink:href=\"#me2ef238122\" y=\"208.671946\"/>\r\n     <use style=\"fill:#1f77b4;stroke:#1f77b4;\" x=\"57.355513\" xlink:href=\"#me2ef238122\" y=\"214.662029\"/>\r\n     <use style=\"fill:#1f77b4;stroke:#1f77b4;\" x=\"57.472531\" xlink:href=\"#me2ef238122\" y=\"205.676905\"/>\r\n     <use style=\"fill:#1f77b4;stroke:#1f77b4;\" x=\"57.589549\" xlink:href=\"#me2ef238122\" y=\"211.666987\"/>\r\n     <use style=\"fill:#1f77b4;stroke:#1f77b4;\" x=\"57.706567\" xlink:href=\"#me2ef238122\" y=\"217.65707\"/>\r\n     <use style=\"fill:#1f77b4;stroke:#1f77b4;\" x=\"57.823584\" xlink:href=\"#me2ef238122\" y=\"214.662029\"/>\r\n     <use style=\"fill:#1f77b4;stroke:#1f77b4;\" x=\"57.940602\" xlink:href=\"#me2ef238122\" y=\"211.666987\"/>\r\n     <use style=\"fill:#1f77b4;stroke:#1f77b4;\" x=\"58.05762\" xlink:href=\"#me2ef238122\" y=\"208.671946\"/>\r\n     <use style=\"fill:#1f77b4;stroke:#1f77b4;\" x=\"58.291656\" xlink:href=\"#me2ef238122\" y=\"208.671946\"/>\r\n     <use style=\"fill:#1f77b4;stroke:#1f77b4;\" x=\"58.408674\" xlink:href=\"#me2ef238122\" y=\"217.65707\"/>\r\n     <use style=\"fill:#1f77b4;stroke:#1f77b4;\" x=\"58.525692\" xlink:href=\"#me2ef238122\" y=\"217.65707\"/>\r\n     <use style=\"fill:#1f77b4;stroke:#1f77b4;\" x=\"58.64271\" xlink:href=\"#me2ef238122\" y=\"217.65707\"/>\r\n     <use style=\"fill:#1f77b4;stroke:#1f77b4;\" x=\"58.759728\" xlink:href=\"#me2ef238122\" y=\"217.65707\"/>\r\n     <use style=\"fill:#1f77b4;stroke:#1f77b4;\" x=\"58.993764\" xlink:href=\"#me2ef238122\" y=\"214.662029\"/>\r\n     <use style=\"fill:#1f77b4;stroke:#1f77b4;\" x=\"59.110782\" xlink:href=\"#me2ef238122\" y=\"214.662029\"/>\r\n     <use style=\"fill:#1f77b4;stroke:#1f77b4;\" x=\"59.344818\" xlink:href=\"#me2ef238122\" y=\"214.662029\"/>\r\n     <use style=\"fill:#1f77b4;stroke:#1f77b4;\" x=\"59.461835\" xlink:href=\"#me2ef238122\" y=\"217.65707\"/>\r\n     <use style=\"fill:#1f77b4;stroke:#1f77b4;\" x=\"59.578853\" xlink:href=\"#me2ef238122\" y=\"214.662029\"/>\r\n     <use style=\"fill:#1f77b4;stroke:#1f77b4;\" x=\"59.812889\" xlink:href=\"#me2ef238122\" y=\"214.662029\"/>\r\n     <use style=\"fill:#1f77b4;stroke:#1f77b4;\" x=\"59.929907\" xlink:href=\"#me2ef238122\" y=\"208.671946\"/>\r\n     <use style=\"fill:#1f77b4;stroke:#1f77b4;\" x=\"60.046925\" xlink:href=\"#me2ef238122\" y=\"217.65707\"/>\r\n     <use style=\"fill:#1f77b4;stroke:#1f77b4;\" x=\"60.163943\" xlink:href=\"#me2ef238122\" y=\"214.662029\"/>\r\n     <use style=\"fill:#1f77b4;stroke:#1f77b4;\" x=\"60.397979\" xlink:href=\"#me2ef238122\" y=\"211.666987\"/>\r\n     <use style=\"fill:#1f77b4;stroke:#1f77b4;\" x=\"60.514997\" xlink:href=\"#me2ef238122\" y=\"214.662029\"/>\r\n     <use style=\"fill:#1f77b4;stroke:#1f77b4;\" x=\"60.632015\" xlink:href=\"#me2ef238122\" y=\"217.65707\"/>\r\n     <use style=\"fill:#1f77b4;stroke:#1f77b4;\" x=\"60.749033\" xlink:href=\"#me2ef238122\" y=\"211.666987\"/>\r\n     <use style=\"fill:#1f77b4;stroke:#1f77b4;\" x=\"60.866051\" xlink:href=\"#me2ef238122\" y=\"214.662029\"/>\r\n     <use style=\"fill:#1f77b4;stroke:#1f77b4;\" x=\"60.983069\" xlink:href=\"#me2ef238122\" y=\"217.65707\"/>\r\n     <use style=\"fill:#1f77b4;stroke:#1f77b4;\" x=\"61.100087\" xlink:href=\"#me2ef238122\" y=\"214.662029\"/>\r\n     <use style=\"fill:#1f77b4;stroke:#1f77b4;\" x=\"61.217104\" xlink:href=\"#me2ef238122\" y=\"217.65707\"/>\r\n     <use style=\"fill:#1f77b4;stroke:#1f77b4;\" x=\"61.334122\" xlink:href=\"#me2ef238122\" y=\"217.65707\"/>\r\n     <use style=\"fill:#1f77b4;stroke:#1f77b4;\" x=\"61.45114\" xlink:href=\"#me2ef238122\" y=\"217.65707\"/>\r\n     <use style=\"fill:#1f77b4;stroke:#1f77b4;\" x=\"61.568158\" xlink:href=\"#me2ef238122\" y=\"214.662029\"/>\r\n     <use style=\"fill:#1f77b4;stroke:#1f77b4;\" x=\"61.802194\" xlink:href=\"#me2ef238122\" y=\"211.666987\"/>\r\n     <use style=\"fill:#1f77b4;stroke:#1f77b4;\" x=\"61.919212\" xlink:href=\"#me2ef238122\" y=\"214.662029\"/>\r\n     <use style=\"fill:#1f77b4;stroke:#1f77b4;\" x=\"62.153248\" xlink:href=\"#me2ef238122\" y=\"214.662029\"/>\r\n     <use style=\"fill:#1f77b4;stroke:#1f77b4;\" x=\"62.504302\" xlink:href=\"#me2ef238122\" y=\"217.65707\"/>\r\n     <use style=\"fill:#1f77b4;stroke:#1f77b4;\" x=\"62.738338\" xlink:href=\"#me2ef238122\" y=\"214.662029\"/>\r\n     <use style=\"fill:#1f77b4;stroke:#1f77b4;\" x=\"62.855355\" xlink:href=\"#me2ef238122\" y=\"217.65707\"/>\r\n     <use style=\"fill:#1f77b4;stroke:#1f77b4;\" x=\"62.972373\" xlink:href=\"#me2ef238122\" y=\"217.65707\"/>\r\n     <use style=\"fill:#1f77b4;stroke:#1f77b4;\" x=\"63.089391\" xlink:href=\"#me2ef238122\" y=\"214.662029\"/>\r\n     <use style=\"fill:#1f77b4;stroke:#1f77b4;\" x=\"63.206409\" xlink:href=\"#me2ef238122\" y=\"214.662029\"/>\r\n     <use style=\"fill:#1f77b4;stroke:#1f77b4;\" x=\"63.323427\" xlink:href=\"#me2ef238122\" y=\"217.65707\"/>\r\n     <use style=\"fill:#1f77b4;stroke:#1f77b4;\" x=\"63.440445\" xlink:href=\"#me2ef238122\" y=\"211.666987\"/>\r\n     <use style=\"fill:#1f77b4;stroke:#1f77b4;\" x=\"63.674481\" xlink:href=\"#me2ef238122\" y=\"208.671946\"/>\r\n     <use style=\"fill:#1f77b4;stroke:#1f77b4;\" x=\"63.791499\" xlink:href=\"#me2ef238122\" y=\"217.65707\"/>\r\n     <use style=\"fill:#1f77b4;stroke:#1f77b4;\" x=\"63.908517\" xlink:href=\"#me2ef238122\" y=\"208.671946\"/>\r\n     <use style=\"fill:#1f77b4;stroke:#1f77b4;\" x=\"64.025535\" xlink:href=\"#me2ef238122\" y=\"214.662029\"/>\r\n     <use style=\"fill:#1f77b4;stroke:#1f77b4;\" x=\"64.259571\" xlink:href=\"#me2ef238122\" y=\"217.65707\"/>\r\n     <use style=\"fill:#1f77b4;stroke:#1f77b4;\" x=\"64.376589\" xlink:href=\"#me2ef238122\" y=\"217.65707\"/>\r\n     <use style=\"fill:#1f77b4;stroke:#1f77b4;\" x=\"64.493606\" xlink:href=\"#me2ef238122\" y=\"211.666987\"/>\r\n     <use style=\"fill:#1f77b4;stroke:#1f77b4;\" x=\"64.610624\" xlink:href=\"#me2ef238122\" y=\"208.671946\"/>\r\n     <use style=\"fill:#1f77b4;stroke:#1f77b4;\" x=\"64.727642\" xlink:href=\"#me2ef238122\" y=\"217.65707\"/>\r\n     <use style=\"fill:#1f77b4;stroke:#1f77b4;\" x=\"64.84466\" xlink:href=\"#me2ef238122\" y=\"214.662029\"/>\r\n     <use style=\"fill:#1f77b4;stroke:#1f77b4;\" x=\"64.961678\" xlink:href=\"#me2ef238122\" y=\"217.65707\"/>\r\n     <use style=\"fill:#1f77b4;stroke:#1f77b4;\" x=\"65.078696\" xlink:href=\"#me2ef238122\" y=\"211.666987\"/>\r\n     <use style=\"fill:#1f77b4;stroke:#1f77b4;\" x=\"65.312732\" xlink:href=\"#me2ef238122\" y=\"217.65707\"/>\r\n     <use style=\"fill:#1f77b4;stroke:#1f77b4;\" x=\"65.42975\" xlink:href=\"#me2ef238122\" y=\"217.65707\"/>\r\n     <use style=\"fill:#1f77b4;stroke:#1f77b4;\" x=\"65.546768\" xlink:href=\"#me2ef238122\" y=\"214.662029\"/>\r\n     <use style=\"fill:#1f77b4;stroke:#1f77b4;\" x=\"65.780804\" xlink:href=\"#me2ef238122\" y=\"214.662029\"/>\r\n     <use style=\"fill:#1f77b4;stroke:#1f77b4;\" x=\"65.897822\" xlink:href=\"#me2ef238122\" y=\"217.65707\"/>\r\n     <use style=\"fill:#1f77b4;stroke:#1f77b4;\" x=\"66.01484\" xlink:href=\"#me2ef238122\" y=\"217.65707\"/>\r\n     <use style=\"fill:#1f77b4;stroke:#1f77b4;\" x=\"66.131858\" xlink:href=\"#me2ef238122\" y=\"217.65707\"/>\r\n     <use style=\"fill:#1f77b4;stroke:#1f77b4;\" x=\"66.365893\" xlink:href=\"#me2ef238122\" y=\"214.662029\"/>\r\n     <use style=\"fill:#1f77b4;stroke:#1f77b4;\" x=\"66.482911\" xlink:href=\"#me2ef238122\" y=\"217.65707\"/>\r\n     <use style=\"fill:#1f77b4;stroke:#1f77b4;\" x=\"66.599929\" xlink:href=\"#me2ef238122\" y=\"217.65707\"/>\r\n     <use style=\"fill:#1f77b4;stroke:#1f77b4;\" x=\"66.716947\" xlink:href=\"#me2ef238122\" y=\"217.65707\"/>\r\n     <use style=\"fill:#1f77b4;stroke:#1f77b4;\" x=\"67.068001\" xlink:href=\"#me2ef238122\" y=\"217.65707\"/>\r\n     <use style=\"fill:#1f77b4;stroke:#1f77b4;\" x=\"67.653091\" xlink:href=\"#me2ef238122\" y=\"217.65707\"/>\r\n     <use style=\"fill:#1f77b4;stroke:#1f77b4;\" x=\"67.770109\" xlink:href=\"#me2ef238122\" y=\"217.65707\"/>\r\n     <use style=\"fill:#1f77b4;stroke:#1f77b4;\" x=\"67.887126\" xlink:href=\"#me2ef238122\" y=\"217.65707\"/>\r\n     <use style=\"fill:#1f77b4;stroke:#1f77b4;\" x=\"68.004144\" xlink:href=\"#me2ef238122\" y=\"214.662029\"/>\r\n     <use style=\"fill:#1f77b4;stroke:#1f77b4;\" x=\"68.121162\" xlink:href=\"#me2ef238122\" y=\"211.666987\"/>\r\n     <use style=\"fill:#1f77b4;stroke:#1f77b4;\" x=\"68.355198\" xlink:href=\"#me2ef238122\" y=\"217.65707\"/>\r\n     <use style=\"fill:#1f77b4;stroke:#1f77b4;\" x=\"68.472216\" xlink:href=\"#me2ef238122\" y=\"214.662029\"/>\r\n     <use style=\"fill:#1f77b4;stroke:#1f77b4;\" x=\"68.706252\" xlink:href=\"#me2ef238122\" y=\"217.65707\"/>\r\n     <use style=\"fill:#1f77b4;stroke:#1f77b4;\" x=\"68.82327\" xlink:href=\"#me2ef238122\" y=\"211.666987\"/>\r\n     <use style=\"fill:#1f77b4;stroke:#1f77b4;\" x=\"69.057306\" xlink:href=\"#me2ef238122\" y=\"217.65707\"/>\r\n     <use style=\"fill:#1f77b4;stroke:#1f77b4;\" x=\"69.291342\" xlink:href=\"#me2ef238122\" y=\"217.65707\"/>\r\n     <use style=\"fill:#1f77b4;stroke:#1f77b4;\" x=\"69.40836\" xlink:href=\"#me2ef238122\" y=\"211.666987\"/>\r\n     <use style=\"fill:#1f77b4;stroke:#1f77b4;\" x=\"69.525377\" xlink:href=\"#me2ef238122\" y=\"217.65707\"/>\r\n     <use style=\"fill:#1f77b4;stroke:#1f77b4;\" x=\"69.759413\" xlink:href=\"#me2ef238122\" y=\"217.65707\"/>\r\n     <use style=\"fill:#1f77b4;stroke:#1f77b4;\" x=\"69.876431\" xlink:href=\"#me2ef238122\" y=\"214.662029\"/>\r\n     <use style=\"fill:#1f77b4;stroke:#1f77b4;\" x=\"70.110467\" xlink:href=\"#me2ef238122\" y=\"217.65707\"/>\r\n     <use style=\"fill:#1f77b4;stroke:#1f77b4;\" x=\"70.344503\" xlink:href=\"#me2ef238122\" y=\"217.65707\"/>\r\n     <use style=\"fill:#1f77b4;stroke:#1f77b4;\" x=\"70.461521\" xlink:href=\"#me2ef238122\" y=\"217.65707\"/>\r\n     <use style=\"fill:#1f77b4;stroke:#1f77b4;\" x=\"70.812575\" xlink:href=\"#me2ef238122\" y=\"214.662029\"/>\r\n     <use style=\"fill:#1f77b4;stroke:#1f77b4;\" x=\"71.163628\" xlink:href=\"#me2ef238122\" y=\"217.65707\"/>\r\n     <use style=\"fill:#1f77b4;stroke:#1f77b4;\" x=\"71.280646\" xlink:href=\"#me2ef238122\" y=\"214.662029\"/>\r\n     <use style=\"fill:#1f77b4;stroke:#1f77b4;\" x=\"71.397664\" xlink:href=\"#me2ef238122\" y=\"214.662029\"/>\r\n     <use style=\"fill:#1f77b4;stroke:#1f77b4;\" x=\"71.514682\" xlink:href=\"#me2ef238122\" y=\"214.662029\"/>\r\n     <use style=\"fill:#1f77b4;stroke:#1f77b4;\" x=\"71.748718\" xlink:href=\"#me2ef238122\" y=\"214.662029\"/>\r\n     <use style=\"fill:#1f77b4;stroke:#1f77b4;\" x=\"71.865736\" xlink:href=\"#me2ef238122\" y=\"217.65707\"/>\r\n     <use style=\"fill:#1f77b4;stroke:#1f77b4;\" x=\"71.982754\" xlink:href=\"#me2ef238122\" y=\"217.65707\"/>\r\n     <use style=\"fill:#1f77b4;stroke:#1f77b4;\" x=\"72.21679\" xlink:href=\"#me2ef238122\" y=\"214.662029\"/>\r\n     <use style=\"fill:#1f77b4;stroke:#1f77b4;\" x=\"72.333808\" xlink:href=\"#me2ef238122\" y=\"217.65707\"/>\r\n     <use style=\"fill:#1f77b4;stroke:#1f77b4;\" x=\"72.450826\" xlink:href=\"#me2ef238122\" y=\"217.65707\"/>\r\n     <use style=\"fill:#1f77b4;stroke:#1f77b4;\" x=\"72.80188\" xlink:href=\"#me2ef238122\" y=\"217.65707\"/>\r\n     <use style=\"fill:#1f77b4;stroke:#1f77b4;\" x=\"73.621005\" xlink:href=\"#me2ef238122\" y=\"211.666987\"/>\r\n     <use style=\"fill:#1f77b4;stroke:#1f77b4;\" x=\"73.855041\" xlink:href=\"#me2ef238122\" y=\"217.65707\"/>\r\n     <use style=\"fill:#1f77b4;stroke:#1f77b4;\" x=\"73.972059\" xlink:href=\"#me2ef238122\" y=\"217.65707\"/>\r\n     <use style=\"fill:#1f77b4;stroke:#1f77b4;\" x=\"74.206095\" xlink:href=\"#me2ef238122\" y=\"214.662029\"/>\r\n     <use style=\"fill:#1f77b4;stroke:#1f77b4;\" x=\"74.323113\" xlink:href=\"#me2ef238122\" y=\"217.65707\"/>\r\n     <use style=\"fill:#1f77b4;stroke:#1f77b4;\" x=\"75.259256\" xlink:href=\"#me2ef238122\" y=\"217.65707\"/>\r\n     <use style=\"fill:#1f77b4;stroke:#1f77b4;\" x=\"75.61031\" xlink:href=\"#me2ef238122\" y=\"217.65707\"/>\r\n     <use style=\"fill:#1f77b4;stroke:#1f77b4;\" x=\"75.727328\" xlink:href=\"#me2ef238122\" y=\"214.662029\"/>\r\n     <use style=\"fill:#1f77b4;stroke:#1f77b4;\" x=\"76.663471\" xlink:href=\"#me2ef238122\" y=\"217.65707\"/>\r\n     <use style=\"fill:#1f77b4;stroke:#1f77b4;\" x=\"76.780489\" xlink:href=\"#me2ef238122\" y=\"217.65707\"/>\r\n     <use style=\"fill:#1f77b4;stroke:#1f77b4;\" x=\"77.365579\" xlink:href=\"#me2ef238122\" y=\"217.65707\"/>\r\n     <use style=\"fill:#1f77b4;stroke:#1f77b4;\" x=\"77.482597\" xlink:href=\"#me2ef238122\" y=\"214.662029\"/>\r\n     <use style=\"fill:#1f77b4;stroke:#1f77b4;\" x=\"77.599615\" xlink:href=\"#me2ef238122\" y=\"217.65707\"/>\r\n     <use style=\"fill:#1f77b4;stroke:#1f77b4;\" x=\"78.301722\" xlink:href=\"#me2ef238122\" y=\"217.65707\"/>\r\n     <use style=\"fill:#1f77b4;stroke:#1f77b4;\" x=\"78.535758\" xlink:href=\"#me2ef238122\" y=\"217.65707\"/>\r\n     <use style=\"fill:#1f77b4;stroke:#1f77b4;\" x=\"78.652776\" xlink:href=\"#me2ef238122\" y=\"214.662029\"/>\r\n     <use style=\"fill:#1f77b4;stroke:#1f77b4;\" x=\"78.886812\" xlink:href=\"#me2ef238122\" y=\"217.65707\"/>\r\n     <use style=\"fill:#1f77b4;stroke:#1f77b4;\" x=\"79.120848\" xlink:href=\"#me2ef238122\" y=\"217.65707\"/>\r\n     <use style=\"fill:#1f77b4;stroke:#1f77b4;\" x=\"80.174009\" xlink:href=\"#me2ef238122\" y=\"217.65707\"/>\r\n     <use style=\"fill:#1f77b4;stroke:#1f77b4;\" x=\"80.291027\" xlink:href=\"#me2ef238122\" y=\"217.65707\"/>\r\n     <use style=\"fill:#1f77b4;stroke:#1f77b4;\" x=\"80.993135\" xlink:href=\"#me2ef238122\" y=\"214.662029\"/>\r\n     <use style=\"fill:#1f77b4;stroke:#1f77b4;\" x=\"81.695242\" xlink:href=\"#me2ef238122\" y=\"217.65707\"/>\r\n     <use style=\"fill:#1f77b4;stroke:#1f77b4;\" x=\"83.333493\" xlink:href=\"#me2ef238122\" y=\"217.65707\"/>\r\n     <use style=\"fill:#1f77b4;stroke:#1f77b4;\" x=\"84.503673\" xlink:href=\"#me2ef238122\" y=\"217.65707\"/>\r\n     <use style=\"fill:#1f77b4;stroke:#1f77b4;\" x=\"88.5993\" xlink:href=\"#me2ef238122\" y=\"217.65707\"/>\r\n     <use style=\"fill:#1f77b4;stroke:#1f77b4;\" x=\"88.716318\" xlink:href=\"#me2ef238122\" y=\"217.65707\"/>\r\n     <use style=\"fill:#1f77b4;stroke:#1f77b4;\" x=\"89.418426\" xlink:href=\"#me2ef238122\" y=\"217.65707\"/>\r\n     <use style=\"fill:#1f77b4;stroke:#1f77b4;\" x=\"90.237551\" xlink:href=\"#me2ef238122\" y=\"217.65707\"/>\r\n     <use style=\"fill:#1f77b4;stroke:#1f77b4;\" x=\"91.173695\" xlink:href=\"#me2ef238122\" y=\"217.65707\"/>\r\n     <use style=\"fill:#1f77b4;stroke:#1f77b4;\" x=\"91.641766\" xlink:href=\"#me2ef238122\" y=\"217.65707\"/>\r\n     <use style=\"fill:#1f77b4;stroke:#1f77b4;\" x=\"92.460892\" xlink:href=\"#me2ef238122\" y=\"217.65707\"/>\r\n     <use style=\"fill:#1f77b4;stroke:#1f77b4;\" x=\"94.684232\" xlink:href=\"#me2ef238122\" y=\"217.65707\"/>\r\n     <use style=\"fill:#1f77b4;stroke:#1f77b4;\" x=\"97.492663\" xlink:href=\"#me2ef238122\" y=\"217.65707\"/>\r\n     <use style=\"fill:#1f77b4;stroke:#1f77b4;\" x=\"97.609681\" xlink:href=\"#me2ef238122\" y=\"217.65707\"/>\r\n     <use style=\"fill:#1f77b4;stroke:#1f77b4;\" x=\"98.077752\" xlink:href=\"#me2ef238122\" y=\"217.65707\"/>\r\n     <use style=\"fill:#1f77b4;stroke:#1f77b4;\" x=\"98.428806\" xlink:href=\"#me2ef238122\" y=\"217.65707\"/>\r\n     <use style=\"fill:#1f77b4;stroke:#1f77b4;\" x=\"100.184075\" xlink:href=\"#me2ef238122\" y=\"217.65707\"/>\r\n     <use style=\"fill:#1f77b4;stroke:#1f77b4;\" x=\"101.705308\" xlink:href=\"#me2ef238122\" y=\"217.65707\"/>\r\n     <use style=\"fill:#1f77b4;stroke:#1f77b4;\" x=\"106.737079\" xlink:href=\"#me2ef238122\" y=\"217.65707\"/>\r\n     <use style=\"fill:#1f77b4;stroke:#1f77b4;\" x=\"109.54551\" xlink:href=\"#me2ef238122\" y=\"217.65707\"/>\r\n     <use style=\"fill:#1f77b4;stroke:#1f77b4;\" x=\"110.247617\" xlink:href=\"#me2ef238122\" y=\"217.65707\"/>\r\n     <use style=\"fill:#1f77b4;stroke:#1f77b4;\" x=\"110.715689\" xlink:href=\"#me2ef238122\" y=\"217.65707\"/>\r\n     <use style=\"fill:#1f77b4;stroke:#1f77b4;\" x=\"116.098514\" xlink:href=\"#me2ef238122\" y=\"217.65707\"/>\r\n     <use style=\"fill:#1f77b4;stroke:#1f77b4;\" x=\"130.842773\" xlink:href=\"#me2ef238122\" y=\"217.65707\"/>\r\n     <use style=\"fill:#1f77b4;stroke:#1f77b4;\" x=\"165.831134\" xlink:href=\"#me2ef238122\" y=\"217.65707\"/>\r\n     <use style=\"fill:#1f77b4;stroke:#1f77b4;\" x=\"169.692726\" xlink:href=\"#me2ef238122\" y=\"217.65707\"/>\r\n     <use style=\"fill:#1f77b4;stroke:#1f77b4;\" x=\"179.63925\" xlink:href=\"#me2ef238122\" y=\"217.65707\"/>\r\n     <use style=\"fill:#1f77b4;stroke:#1f77b4;\" x=\"309.880206\" xlink:href=\"#me2ef238122\" y=\"217.65707\"/>\r\n     <use style=\"fill:#1f77b4;stroke:#1f77b4;\" x=\"346.506818\" xlink:href=\"#me2ef238122\" y=\"217.65707\"/>\r\n    </g>\r\n   </g>\r\n   <g id=\"matplotlib.axis_1\">\r\n    <g id=\"xtick_1\">\r\n     <g id=\"line2d_1\">\r\n      <defs>\r\n       <path d=\"M 0 0 \r\nL 0 3.5 \r\n\" id=\"mfe7667d55d\" style=\"stroke:#000000;stroke-width:0.8;\"/>\r\n      </defs>\r\n      <g>\r\n       <use style=\"stroke:#000000;stroke-width:0.8;\" x=\"41.909146\" xlink:href=\"#mfe7667d55d\" y=\"227.540706\"/>\r\n      </g>\r\n     </g>\r\n     <g id=\"text_1\">\r\n      <!-- 0 -->\r\n      <g transform=\"translate(38.727896 242.139144)scale(0.1 -0.1)\">\r\n       <defs>\r\n        <path d=\"M 31.78125 66.40625 \r\nQ 24.171875 66.40625 20.328125 58.90625 \r\nQ 16.5 51.421875 16.5 36.375 \r\nQ 16.5 21.390625 20.328125 13.890625 \r\nQ 24.171875 6.390625 31.78125 6.390625 \r\nQ 39.453125 6.390625 43.28125 13.890625 \r\nQ 47.125 21.390625 47.125 36.375 \r\nQ 47.125 51.421875 43.28125 58.90625 \r\nQ 39.453125 66.40625 31.78125 66.40625 \r\nz\r\nM 31.78125 74.21875 \r\nQ 44.046875 74.21875 50.515625 64.515625 \r\nQ 56.984375 54.828125 56.984375 36.375 \r\nQ 56.984375 17.96875 50.515625 8.265625 \r\nQ 44.046875 -1.421875 31.78125 -1.421875 \r\nQ 19.53125 -1.421875 13.0625 8.265625 \r\nQ 6.59375 17.96875 6.59375 36.375 \r\nQ 6.59375 54.828125 13.0625 64.515625 \r\nQ 19.53125 74.21875 31.78125 74.21875 \r\nz\r\n\" id=\"DejaVuSans-48\"/>\r\n       </defs>\r\n       <use xlink:href=\"#DejaVuSans-48\"/>\r\n      </g>\r\n     </g>\r\n    </g>\r\n    <g id=\"xtick_2\">\r\n     <g id=\"line2d_2\">\r\n      <g>\r\n       <use style=\"stroke:#000000;stroke-width:0.8;\" x=\"100.418111\" xlink:href=\"#mfe7667d55d\" y=\"227.540706\"/>\r\n      </g>\r\n     </g>\r\n     <g id=\"text_2\">\r\n      <!-- 500 -->\r\n      <g transform=\"translate(90.874361 242.139144)scale(0.1 -0.1)\">\r\n       <defs>\r\n        <path d=\"M 10.796875 72.90625 \r\nL 49.515625 72.90625 \r\nL 49.515625 64.59375 \r\nL 19.828125 64.59375 \r\nL 19.828125 46.734375 \r\nQ 21.96875 47.46875 24.109375 47.828125 \r\nQ 26.265625 48.1875 28.421875 48.1875 \r\nQ 40.625 48.1875 47.75 41.5 \r\nQ 54.890625 34.8125 54.890625 23.390625 \r\nQ 54.890625 11.625 47.5625 5.09375 \r\nQ 40.234375 -1.421875 26.90625 -1.421875 \r\nQ 22.3125 -1.421875 17.546875 -0.640625 \r\nQ 12.796875 0.140625 7.71875 1.703125 \r\nL 7.71875 11.625 \r\nQ 12.109375 9.234375 16.796875 8.0625 \r\nQ 21.484375 6.890625 26.703125 6.890625 \r\nQ 35.15625 6.890625 40.078125 11.328125 \r\nQ 45.015625 15.765625 45.015625 23.390625 \r\nQ 45.015625 31 40.078125 35.4375 \r\nQ 35.15625 39.890625 26.703125 39.890625 \r\nQ 22.75 39.890625 18.8125 39.015625 \r\nQ 14.890625 38.140625 10.796875 36.28125 \r\nz\r\n\" id=\"DejaVuSans-53\"/>\r\n       </defs>\r\n       <use xlink:href=\"#DejaVuSans-53\"/>\r\n       <use x=\"63.623047\" xlink:href=\"#DejaVuSans-48\"/>\r\n       <use x=\"127.246094\" xlink:href=\"#DejaVuSans-48\"/>\r\n      </g>\r\n     </g>\r\n    </g>\r\n    <g id=\"xtick_3\">\r\n     <g id=\"line2d_3\">\r\n      <g>\r\n       <use style=\"stroke:#000000;stroke-width:0.8;\" x=\"158.927076\" xlink:href=\"#mfe7667d55d\" y=\"227.540706\"/>\r\n      </g>\r\n     </g>\r\n     <g id=\"text_3\">\r\n      <!-- 1000 -->\r\n      <g transform=\"translate(146.202076 242.139144)scale(0.1 -0.1)\">\r\n       <defs>\r\n        <path d=\"M 12.40625 8.296875 \r\nL 28.515625 8.296875 \r\nL 28.515625 63.921875 \r\nL 10.984375 60.40625 \r\nL 10.984375 69.390625 \r\nL 28.421875 72.90625 \r\nL 38.28125 72.90625 \r\nL 38.28125 8.296875 \r\nL 54.390625 8.296875 \r\nL 54.390625 0 \r\nL 12.40625 0 \r\nz\r\n\" id=\"DejaVuSans-49\"/>\r\n       </defs>\r\n       <use xlink:href=\"#DejaVuSans-49\"/>\r\n       <use x=\"63.623047\" xlink:href=\"#DejaVuSans-48\"/>\r\n       <use x=\"127.246094\" xlink:href=\"#DejaVuSans-48\"/>\r\n       <use x=\"190.869141\" xlink:href=\"#DejaVuSans-48\"/>\r\n      </g>\r\n     </g>\r\n    </g>\r\n    <g id=\"xtick_4\">\r\n     <g id=\"line2d_4\">\r\n      <g>\r\n       <use style=\"stroke:#000000;stroke-width:0.8;\" x=\"217.436041\" xlink:href=\"#mfe7667d55d\" y=\"227.540706\"/>\r\n      </g>\r\n     </g>\r\n     <g id=\"text_4\">\r\n      <!-- 1500 -->\r\n      <g transform=\"translate(204.711041 242.139144)scale(0.1 -0.1)\">\r\n       <use xlink:href=\"#DejaVuSans-49\"/>\r\n       <use x=\"63.623047\" xlink:href=\"#DejaVuSans-53\"/>\r\n       <use x=\"127.246094\" xlink:href=\"#DejaVuSans-48\"/>\r\n       <use x=\"190.869141\" xlink:href=\"#DejaVuSans-48\"/>\r\n      </g>\r\n     </g>\r\n    </g>\r\n    <g id=\"xtick_5\">\r\n     <g id=\"line2d_5\">\r\n      <g>\r\n       <use style=\"stroke:#000000;stroke-width:0.8;\" x=\"275.945006\" xlink:href=\"#mfe7667d55d\" y=\"227.540706\"/>\r\n      </g>\r\n     </g>\r\n     <g id=\"text_5\">\r\n      <!-- 2000 -->\r\n      <g transform=\"translate(263.220006 242.139144)scale(0.1 -0.1)\">\r\n       <defs>\r\n        <path d=\"M 19.1875 8.296875 \r\nL 53.609375 8.296875 \r\nL 53.609375 0 \r\nL 7.328125 0 \r\nL 7.328125 8.296875 \r\nQ 12.9375 14.109375 22.625 23.890625 \r\nQ 32.328125 33.6875 34.8125 36.53125 \r\nQ 39.546875 41.84375 41.421875 45.53125 \r\nQ 43.3125 49.21875 43.3125 52.78125 \r\nQ 43.3125 58.59375 39.234375 62.25 \r\nQ 35.15625 65.921875 28.609375 65.921875 \r\nQ 23.96875 65.921875 18.8125 64.3125 \r\nQ 13.671875 62.703125 7.8125 59.421875 \r\nL 7.8125 69.390625 \r\nQ 13.765625 71.78125 18.9375 73 \r\nQ 24.125 74.21875 28.421875 74.21875 \r\nQ 39.75 74.21875 46.484375 68.546875 \r\nQ 53.21875 62.890625 53.21875 53.421875 \r\nQ 53.21875 48.921875 51.53125 44.890625 \r\nQ 49.859375 40.875 45.40625 35.40625 \r\nQ 44.1875 33.984375 37.640625 27.21875 \r\nQ 31.109375 20.453125 19.1875 8.296875 \r\nz\r\n\" id=\"DejaVuSans-50\"/>\r\n       </defs>\r\n       <use xlink:href=\"#DejaVuSans-50\"/>\r\n       <use x=\"63.623047\" xlink:href=\"#DejaVuSans-48\"/>\r\n       <use x=\"127.246094\" xlink:href=\"#DejaVuSans-48\"/>\r\n       <use x=\"190.869141\" xlink:href=\"#DejaVuSans-48\"/>\r\n      </g>\r\n     </g>\r\n    </g>\r\n    <g id=\"xtick_6\">\r\n     <g id=\"line2d_6\">\r\n      <g>\r\n       <use style=\"stroke:#000000;stroke-width:0.8;\" x=\"334.453971\" xlink:href=\"#mfe7667d55d\" y=\"227.540706\"/>\r\n      </g>\r\n     </g>\r\n     <g id=\"text_6\">\r\n      <!-- 2500 -->\r\n      <g transform=\"translate(321.728971 242.139144)scale(0.1 -0.1)\">\r\n       <use xlink:href=\"#DejaVuSans-50\"/>\r\n       <use x=\"63.623047\" xlink:href=\"#DejaVuSans-53\"/>\r\n       <use x=\"127.246094\" xlink:href=\"#DejaVuSans-48\"/>\r\n       <use x=\"190.869141\" xlink:href=\"#DejaVuSans-48\"/>\r\n      </g>\r\n     </g>\r\n    </g>\r\n   </g>\r\n   <g id=\"matplotlib.axis_2\">\r\n    <g id=\"ytick_1\">\r\n     <g id=\"line2d_7\">\r\n      <defs>\r\n       <path d=\"M 0 0 \r\nL -3.5 0 \r\n\" id=\"m91f6fbbf60\" style=\"stroke:#000000;stroke-width:0.8;\"/>\r\n      </defs>\r\n      <g>\r\n       <use style=\"stroke:#000000;stroke-width:0.8;\" x=\"26.925\" xlink:href=\"#m91f6fbbf60\" y=\"220.652111\"/>\r\n      </g>\r\n     </g>\r\n     <g id=\"text_7\">\r\n      <!-- 0 -->\r\n      <g transform=\"translate(13.5625 224.45133)scale(0.1 -0.1)\">\r\n       <use xlink:href=\"#DejaVuSans-48\"/>\r\n      </g>\r\n     </g>\r\n    </g>\r\n    <g id=\"ytick_2\">\r\n     <g id=\"line2d_8\">\r\n      <g>\r\n       <use style=\"stroke:#000000;stroke-width:0.8;\" x=\"26.925\" xlink:href=\"#m91f6fbbf60\" y=\"190.701698\"/>\r\n      </g>\r\n     </g>\r\n     <g id=\"text_8\">\r\n      <!-- 10 -->\r\n      <g transform=\"translate(7.2 194.500917)scale(0.1 -0.1)\">\r\n       <use xlink:href=\"#DejaVuSans-49\"/>\r\n       <use x=\"63.623047\" xlink:href=\"#DejaVuSans-48\"/>\r\n      </g>\r\n     </g>\r\n    </g>\r\n    <g id=\"ytick_3\">\r\n     <g id=\"line2d_9\">\r\n      <g>\r\n       <use style=\"stroke:#000000;stroke-width:0.8;\" x=\"26.925\" xlink:href=\"#m91f6fbbf60\" y=\"160.751285\"/>\r\n      </g>\r\n     </g>\r\n     <g id=\"text_9\">\r\n      <!-- 20 -->\r\n      <g transform=\"translate(7.2 164.550504)scale(0.1 -0.1)\">\r\n       <use xlink:href=\"#DejaVuSans-50\"/>\r\n       <use x=\"63.623047\" xlink:href=\"#DejaVuSans-48\"/>\r\n      </g>\r\n     </g>\r\n    </g>\r\n    <g id=\"ytick_4\">\r\n     <g id=\"line2d_10\">\r\n      <g>\r\n       <use style=\"stroke:#000000;stroke-width:0.8;\" x=\"26.925\" xlink:href=\"#m91f6fbbf60\" y=\"130.800872\"/>\r\n      </g>\r\n     </g>\r\n     <g id=\"text_10\">\r\n      <!-- 30 -->\r\n      <g transform=\"translate(7.2 134.60009)scale(0.1 -0.1)\">\r\n       <defs>\r\n        <path d=\"M 40.578125 39.3125 \r\nQ 47.65625 37.796875 51.625 33 \r\nQ 55.609375 28.21875 55.609375 21.1875 \r\nQ 55.609375 10.40625 48.1875 4.484375 \r\nQ 40.765625 -1.421875 27.09375 -1.421875 \r\nQ 22.515625 -1.421875 17.65625 -0.515625 \r\nQ 12.796875 0.390625 7.625 2.203125 \r\nL 7.625 11.71875 \r\nQ 11.71875 9.328125 16.59375 8.109375 \r\nQ 21.484375 6.890625 26.8125 6.890625 \r\nQ 36.078125 6.890625 40.9375 10.546875 \r\nQ 45.796875 14.203125 45.796875 21.1875 \r\nQ 45.796875 27.640625 41.28125 31.265625 \r\nQ 36.765625 34.90625 28.71875 34.90625 \r\nL 20.21875 34.90625 \r\nL 20.21875 43.015625 \r\nL 29.109375 43.015625 \r\nQ 36.375 43.015625 40.234375 45.921875 \r\nQ 44.09375 48.828125 44.09375 54.296875 \r\nQ 44.09375 59.90625 40.109375 62.90625 \r\nQ 36.140625 65.921875 28.71875 65.921875 \r\nQ 24.65625 65.921875 20.015625 65.03125 \r\nQ 15.375 64.15625 9.8125 62.3125 \r\nL 9.8125 71.09375 \r\nQ 15.4375 72.65625 20.34375 73.4375 \r\nQ 25.25 74.21875 29.59375 74.21875 \r\nQ 40.828125 74.21875 47.359375 69.109375 \r\nQ 53.90625 64.015625 53.90625 55.328125 \r\nQ 53.90625 49.265625 50.4375 45.09375 \r\nQ 46.96875 40.921875 40.578125 39.3125 \r\nz\r\n\" id=\"DejaVuSans-51\"/>\r\n       </defs>\r\n       <use xlink:href=\"#DejaVuSans-51\"/>\r\n       <use x=\"63.623047\" xlink:href=\"#DejaVuSans-48\"/>\r\n      </g>\r\n     </g>\r\n    </g>\r\n    <g id=\"ytick_5\">\r\n     <g id=\"line2d_11\">\r\n      <g>\r\n       <use style=\"stroke:#000000;stroke-width:0.8;\" x=\"26.925\" xlink:href=\"#m91f6fbbf60\" y=\"100.850458\"/>\r\n      </g>\r\n     </g>\r\n     <g id=\"text_11\">\r\n      <!-- 40 -->\r\n      <g transform=\"translate(7.2 104.649677)scale(0.1 -0.1)\">\r\n       <defs>\r\n        <path d=\"M 37.796875 64.3125 \r\nL 12.890625 25.390625 \r\nL 37.796875 25.390625 \r\nz\r\nM 35.203125 72.90625 \r\nL 47.609375 72.90625 \r\nL 47.609375 25.390625 \r\nL 58.015625 25.390625 \r\nL 58.015625 17.1875 \r\nL 47.609375 17.1875 \r\nL 47.609375 0 \r\nL 37.796875 0 \r\nL 37.796875 17.1875 \r\nL 4.890625 17.1875 \r\nL 4.890625 26.703125 \r\nz\r\n\" id=\"DejaVuSans-52\"/>\r\n       </defs>\r\n       <use xlink:href=\"#DejaVuSans-52\"/>\r\n       <use x=\"63.623047\" xlink:href=\"#DejaVuSans-48\"/>\r\n      </g>\r\n     </g>\r\n    </g>\r\n    <g id=\"ytick_6\">\r\n     <g id=\"line2d_12\">\r\n      <g>\r\n       <use style=\"stroke:#000000;stroke-width:0.8;\" x=\"26.925\" xlink:href=\"#m91f6fbbf60\" y=\"70.900045\"/>\r\n      </g>\r\n     </g>\r\n     <g id=\"text_12\">\r\n      <!-- 50 -->\r\n      <g transform=\"translate(7.2 74.699264)scale(0.1 -0.1)\">\r\n       <use xlink:href=\"#DejaVuSans-53\"/>\r\n       <use x=\"63.623047\" xlink:href=\"#DejaVuSans-48\"/>\r\n      </g>\r\n     </g>\r\n    </g>\r\n    <g id=\"ytick_7\">\r\n     <g id=\"line2d_13\">\r\n      <g>\r\n       <use style=\"stroke:#000000;stroke-width:0.8;\" x=\"26.925\" xlink:href=\"#m91f6fbbf60\" y=\"40.949632\"/>\r\n      </g>\r\n     </g>\r\n     <g id=\"text_13\">\r\n      <!-- 60 -->\r\n      <g transform=\"translate(7.2 44.748851)scale(0.1 -0.1)\">\r\n       <defs>\r\n        <path d=\"M 33.015625 40.375 \r\nQ 26.375 40.375 22.484375 35.828125 \r\nQ 18.609375 31.296875 18.609375 23.390625 \r\nQ 18.609375 15.53125 22.484375 10.953125 \r\nQ 26.375 6.390625 33.015625 6.390625 \r\nQ 39.65625 6.390625 43.53125 10.953125 \r\nQ 47.40625 15.53125 47.40625 23.390625 \r\nQ 47.40625 31.296875 43.53125 35.828125 \r\nQ 39.65625 40.375 33.015625 40.375 \r\nz\r\nM 52.59375 71.296875 \r\nL 52.59375 62.3125 \r\nQ 48.875 64.0625 45.09375 64.984375 \r\nQ 41.3125 65.921875 37.59375 65.921875 \r\nQ 27.828125 65.921875 22.671875 59.328125 \r\nQ 17.53125 52.734375 16.796875 39.40625 \r\nQ 19.671875 43.65625 24.015625 45.921875 \r\nQ 28.375 48.1875 33.59375 48.1875 \r\nQ 44.578125 48.1875 50.953125 41.515625 \r\nQ 57.328125 34.859375 57.328125 23.390625 \r\nQ 57.328125 12.15625 50.6875 5.359375 \r\nQ 44.046875 -1.421875 33.015625 -1.421875 \r\nQ 20.359375 -1.421875 13.671875 8.265625 \r\nQ 6.984375 17.96875 6.984375 36.375 \r\nQ 6.984375 53.65625 15.1875 63.9375 \r\nQ 23.390625 74.21875 37.203125 74.21875 \r\nQ 40.921875 74.21875 44.703125 73.484375 \r\nQ 48.484375 72.75 52.59375 71.296875 \r\nz\r\n\" id=\"DejaVuSans-54\"/>\r\n       </defs>\r\n       <use xlink:href=\"#DejaVuSans-54\"/>\r\n       <use x=\"63.623047\" xlink:href=\"#DejaVuSans-48\"/>\r\n      </g>\r\n     </g>\r\n    </g>\r\n    <g id=\"ytick_8\">\r\n     <g id=\"line2d_14\">\r\n      <g>\r\n       <use style=\"stroke:#000000;stroke-width:0.8;\" x=\"26.925\" xlink:href=\"#m91f6fbbf60\" y=\"10.999219\"/>\r\n      </g>\r\n     </g>\r\n     <g id=\"text_14\">\r\n      <!-- 70 -->\r\n      <g transform=\"translate(7.2 14.798438)scale(0.1 -0.1)\">\r\n       <defs>\r\n        <path d=\"M 8.203125 72.90625 \r\nL 55.078125 72.90625 \r\nL 55.078125 68.703125 \r\nL 28.609375 0 \r\nL 18.3125 0 \r\nL 43.21875 64.59375 \r\nL 8.203125 64.59375 \r\nz\r\n\" id=\"DejaVuSans-55\"/>\r\n       </defs>\r\n       <use xlink:href=\"#DejaVuSans-55\"/>\r\n       <use x=\"63.623047\" xlink:href=\"#DejaVuSans-48\"/>\r\n      </g>\r\n     </g>\r\n    </g>\r\n   </g>\r\n   <g id=\"patch_3\">\r\n    <path d=\"M 26.925 227.540706 \r\nL 26.925 10.100706 \r\n\" style=\"fill:none;stroke:#000000;stroke-linecap:square;stroke-linejoin:miter;stroke-width:0.8;\"/>\r\n   </g>\r\n   <g id=\"patch_4\">\r\n    <path d=\"M 361.725 227.540706 \r\nL 361.725 10.100706 \r\n\" style=\"fill:none;stroke:#000000;stroke-linecap:square;stroke-linejoin:miter;stroke-width:0.8;\"/>\r\n   </g>\r\n   <g id=\"patch_5\">\r\n    <path d=\"M 26.925 227.540706 \r\nL 361.725 227.540706 \r\n\" style=\"fill:none;stroke:#000000;stroke-linecap:square;stroke-linejoin:miter;stroke-width:0.8;\"/>\r\n   </g>\r\n   <g id=\"patch_6\">\r\n    <path d=\"M 26.925 10.100706 \r\nL 361.725 10.100706 \r\n\" style=\"fill:none;stroke:#000000;stroke-linecap:square;stroke-linejoin:miter;stroke-width:0.8;\"/>\r\n   </g>\r\n  </g>\r\n </g>\r\n <defs>\r\n  <clipPath id=\"pa26754dfc7\">\r\n   <rect height=\"217.44\" width=\"334.8\" x=\"26.925\" y=\"10.100706\"/>\r\n  </clipPath>\r\n </defs>\r\n</svg>\r\n",
      "image/png": "[encoded data removed]"
     },
     "metadata": {
      "needs_background": "light"
     }
    }
   ],
   "source": [
    "import matplotlib.pyplot as plt \n",
    "import numpy as np \n",
    "plt.scatter(wish_count, freq)"
   ]
  },
  {
   "source": [
    "# Transaction-based wish prediction using apriori"
   ],
   "cell_type": "markdown",
   "metadata": {}
  },
  {
   "cell_type": "code",
   "execution_count": 226,
   "metadata": {},
   "outputs": [
    {
     "output_type": "execute_result",
     "data": {
      "text/plain": [
       "    antecedents consequents  antecedent support  consequent support   support  \\\n",
       "0         (776)      (6441)            0.111413            0.230978  0.051630   \n",
       "1        (6441)       (776)            0.230978            0.111413  0.051630   \n",
       "2        (5202)      (1886)            0.195109            0.129891  0.067935   \n",
       "3        (1886)      (5202)            0.129891            0.195109  0.067935   \n",
       "4        (6441)      (2446)            0.230978            0.129891  0.064130   \n",
       "..          ...         ...                 ...                 ...       ...   \n",
       "173      (8766)      (8324)            0.113587            0.125000  0.053261   \n",
       "174     (15290)     (14492)            0.063587            0.107065  0.051630   \n",
       "175     (14492)     (15290)            0.107065            0.063587  0.051630   \n",
       "176     (15498)     (14492)            0.109783            0.107065  0.082065   \n",
       "177     (14492)     (15498)            0.107065            0.109783  0.082065   \n",
       "\n",
       "     confidence      lift  leverage  conviction  \n",
       "0      0.463415  2.006313  0.025896    1.433177  \n",
       "1      0.223529  2.006313  0.025896    1.144392  \n",
       "2      0.348189  2.680621  0.042592    1.334910  \n",
       "3      0.523013  2.680621  0.042592    1.687448  \n",
       "4      0.277647  2.137534  0.034128    1.204548  \n",
       "..          ...       ...       ...         ...  \n",
       "173    0.468900  3.751196  0.039062    1.647523  \n",
       "174    0.811966  7.583843  0.044822    4.748790  \n",
       "175    0.482234  7.583843  0.044822    1.808562  \n",
       "176    0.747525  6.981957  0.070311    3.536722  \n",
       "177    0.766497  6.981957  0.070311    3.812453  \n",
       "\n",
       "[178 rows x 9 columns]"
      ],
      "text/html": "<div>\n<style scoped>\n    .dataframe tbody tr th:only-of-type {\n        vertical-align: middle;\n    }\n\n    .dataframe tbody tr th {\n        vertical-align: top;\n    }\n\n    .dataframe thead th {\n        text-align: right;\n    }\n</style>\n<table border=\"1\" class=\"dataframe\">\n  <thead>\n    <tr style=\"text-align: right;\">\n      <th></th>\n      <th>antecedents</th>\n      <th>consequents</th>\n      <th>antecedent support</th>\n      <th>consequent support</th>\n      <th>support</th>\n      <th>confidence</th>\n      <th>lift</th>\n      <th>leverage</th>\n      <th>conviction</th>\n    </tr>\n  </thead>\n  <tbody>\n    <tr>\n      <th>0</th>\n      <td>(776)</td>\n      <td>(6441)</td>\n      <td>0.111413</td>\n      <td>0.230978</td>\n      <td>0.051630</td>\n      <td>0.463415</td>\n      <td>2.006313</td>\n      <td>0.025896</td>\n      <td>1.433177</td>\n    </tr>\n    <tr>\n      <th>1</th>\n      <td>(6441)</td>\n      <td>(776)</td>\n      <td>0.230978</td>\n      <td>0.111413</td>\n      <td>0.051630</td>\n      <td>0.223529</td>\n      <td>2.006313</td>\n      <td>0.025896</td>\n      <td>1.144392</td>\n    </tr>\n    <tr>\n      <th>2</th>\n      <td>(5202)</td>\n      <td>(1886)</td>\n      <td>0.195109</td>\n      <td>0.129891</td>\n      <td>0.067935</td>\n      <td>0.348189</td>\n      <td>2.680621</td>\n      <td>0.042592</td>\n      <td>1.334910</td>\n    </tr>\n    <tr>\n      <th>3</th>\n      <td>(1886)</td>\n      <td>(5202)</td>\n      <td>0.129891</td>\n      <td>0.195109</td>\n      <td>0.067935</td>\n      <td>0.523013</td>\n      <td>2.680621</td>\n      <td>0.042592</td>\n      <td>1.687448</td>\n    </tr>\n    <tr>\n      <th>4</th>\n      <td>(6441)</td>\n      <td>(2446)</td>\n      <td>0.230978</td>\n      <td>0.129891</td>\n      <td>0.064130</td>\n      <td>0.277647</td>\n      <td>2.137534</td>\n      <td>0.034128</td>\n      <td>1.204548</td>\n    </tr>\n    <tr>\n      <th>...</th>\n      <td>...</td>\n      <td>...</td>\n      <td>...</td>\n      <td>...</td>\n      <td>...</td>\n      <td>...</td>\n      <td>...</td>\n      <td>...</td>\n      <td>...</td>\n    </tr>\n    <tr>\n      <th>173</th>\n      <td>(8766)</td>\n      <td>(8324)</td>\n      <td>0.113587</td>\n      <td>0.125000</td>\n      <td>0.053261</td>\n      <td>0.468900</td>\n      <td>3.751196</td>\n      <td>0.039062</td>\n      <td>1.647523</td>\n    </tr>\n    <tr>\n      <th>174</th>\n      <td>(15290)</td>\n      <td>(14492)</td>\n      <td>0.063587</td>\n      <td>0.107065</td>\n      <td>0.051630</td>\n      <td>0.811966</td>\n      <td>7.583843</td>\n      <td>0.044822</td>\n      <td>4.748790</td>\n    </tr>\n    <tr>\n      <th>175</th>\n      <td>(14492)</td>\n      <td>(15290)</td>\n      <td>0.107065</td>\n      <td>0.063587</td>\n      <td>0.051630</td>\n      <td>0.482234</td>\n      <td>7.583843</td>\n      <td>0.044822</td>\n      <td>1.808562</td>\n    </tr>\n    <tr>\n      <th>176</th>\n      <td>(15498)</td>\n      <td>(14492)</td>\n      <td>0.109783</td>\n      <td>0.107065</td>\n      <td>0.082065</td>\n      <td>0.747525</td>\n      <td>6.981957</td>\n      <td>0.070311</td>\n      <td>3.536722</td>\n    </tr>\n    <tr>\n      <th>177</th>\n      <td>(14492)</td>\n      <td>(15498)</td>\n      <td>0.107065</td>\n      <td>0.109783</td>\n      <td>0.082065</td>\n      <td>0.766497</td>\n      <td>6.981957</td>\n      <td>0.070311</td>\n      <td>3.812453</td>\n    </tr>\n  </tbody>\n</table>\n<p>178 rows × 9 columns</p>\n</div>"
     },
     "metadata": {},
     "execution_count": 226
    }
   ],
   "source": [
    "from mlxtend.frequent_patterns import apriori\n",
    "from mlxtend.frequent_patterns import association_rules\n",
    "\n",
    "frequent_itemsets = apriori(new_df, min_support=0.05)\n",
    "rules = association_rules(frequent_itemsets, metric=\"lift\")\n",
    "# Something FAILED\n",
    "rules"
   ]
  },
  {
   "cell_type": "code",
   "execution_count": 227,
   "metadata": {},
   "outputs": [
    {
     "output_type": "execute_result",
     "data": {
      "text/plain": [
       "178"
      ]
     },
     "metadata": {},
     "execution_count": 227
    }
   ],
   "source": [
    "len(rules)"
   ]
  },
  {
   "cell_type": "code",
   "execution_count": 228,
   "metadata": {},
   "outputs": [
    {
     "output_type": "stream",
     "name": "stdout",
     "text": [
      "Number of antecedents inferred: 164\nRatio of antecedents / well-known products: 0.0075736584464764015\n"
     ]
    }
   ],
   "source": [
    "print(\"Number of antecedents inferred:\", len(np.unique(rules[\"antecedents\"])))\n",
    "print(\"Ratio of antecedents / well-known products:\", len(np.unique(rules[\"antecedents\"])) / number_of_product)"
   ]
  },
  {
   "source": [
    "# User-based prediction using cosine similarity"
   ],
   "cell_type": "markdown",
   "metadata": {}
  },
  {
   "cell_type": "code",
   "execution_count": 229,
   "metadata": {},
   "outputs": [
    {
     "output_type": "stream",
     "name": "stdout",
     "text": [
      "Train size: 1226\nTest size: 614\n"
     ]
    }
   ],
   "source": [
    "from sklearn.model_selection import train_test_split\n",
    "from sklearn.metrics.pairwise import cosine_similarity\n",
    "\n",
    "X_train, X_test = train_test_split(new_df, test_size=1/3.0, random_state=1000)\n",
    "print(\"Train size:\", len(X_train))\n",
    "print(\"Test size:\", len(X_test))"
   ]
  },
  {
   "cell_type": "code",
   "execution_count": 230,
   "metadata": {},
   "outputs": [],
   "source": [
    "sims = cosine_similarity(X_train.T, X_train.T)"
   ]
  },
  {
   "cell_type": "code",
   "execution_count": 231,
   "metadata": {},
   "outputs": [
    {
     "output_type": "execute_result",
     "data": {
      "text/plain": [
       "(21654, 21654)"
      ]
     },
     "metadata": {},
     "execution_count": 231
    }
   ],
   "source": [
    "sims.shape"
   ]
  },
  {
   "source": [
    "### Make a new df cotaining similarity and headers"
   ],
   "cell_type": "markdown",
   "metadata": {}
  },
  {
   "cell_type": "code",
   "execution_count": 167,
   "metadata": {},
   "outputs": [],
   "source": [
    "sims_df = pd.DataFrame(sims)\n",
    "sims_df.columns = new_df.columns\n",
    "sims_df.index  = new_df.columns"
   ]
  },
  {
   "cell_type": "code",
   "execution_count": 168,
   "metadata": {},
   "outputs": [
    {
     "output_type": "execute_result",
     "data": {
      "text/plain": [
       "        1         2       3         9       10      13      14      15      \\\n",
       "1          1.0  0.000000     0.0  0.000000     0.0     0.0     0.0     0.0   \n",
       "2          0.0  1.000000     0.0  0.707107     0.0     0.0     0.0     0.0   \n",
       "3          0.0  0.000000     1.0  0.000000     0.0     0.0     0.0     0.0   \n",
       "9          0.0  0.707107     0.0  1.000000     0.0     0.0     0.0     0.0   \n",
       "10         0.0  0.000000     0.0  0.000000     0.0     0.0     0.0     0.0   \n",
       "...        ...       ...     ...       ...     ...     ...     ...     ...   \n",
       "392092     0.0  0.000000     0.0  0.000000     0.0     0.0     0.0     0.0   \n",
       "392165     0.0  0.000000     0.0  0.000000     0.0     0.0     0.0     0.0   \n",
       "392402     0.0  0.000000     0.0  0.000000     0.0     0.0     0.0     0.0   \n",
       "392478     0.0  0.000000     0.0  0.000000     0.0     0.0     0.0     0.0   \n",
       "393042     0.0  0.000000     0.0  0.000000     0.0     0.0     0.0     0.0   \n",
       "\n",
       "        16      17      ...  390987  391005  391163  391340  391802  392092  \\\n",
       "1          0.0     0.0  ...     0.0     0.0     0.0     0.0     0.0     0.0   \n",
       "2          0.0     0.0  ...     0.0     0.0     0.0     0.0     0.0     0.0   \n",
       "3          0.0     0.0  ...     0.0     0.0     0.0     0.0     0.0     0.0   \n",
       "9          0.0     0.0  ...     0.0     0.0     0.0     0.0     0.0     0.0   \n",
       "10         0.0     0.0  ...     0.0     0.0     0.0     0.0     0.0     0.0   \n",
       "...        ...     ...  ...     ...     ...     ...     ...     ...     ...   \n",
       "392092     0.0     0.0  ...     0.0     0.0     0.0     0.0     0.0     0.0   \n",
       "392165     0.0     0.0  ...     0.0     0.0     0.0     0.0     0.0     0.0   \n",
       "392402     0.0     0.0  ...     0.0     0.0     0.0     0.0     0.0     0.0   \n",
       "392478     0.0     0.0  ...     0.0     0.0     0.0     0.0     0.0     0.0   \n",
       "393042     0.0     0.0  ...     0.0     0.0     0.0     0.0     0.0     0.0   \n",
       "\n",
       "        392165  392402  392478  393042  \n",
       "1          0.0     0.0     0.0     0.0  \n",
       "2          0.0     0.0     0.0     0.0  \n",
       "3          0.0     0.0     0.0     0.0  \n",
       "9          0.0     0.0     0.0     0.0  \n",
       "10         0.0     0.0     0.0     0.0  \n",
       "...        ...     ...     ...     ...  \n",
       "392092     0.0     0.0     0.0     0.0  \n",
       "392165     1.0     0.0     0.0     0.0  \n",
       "392402     0.0     0.0     0.0     0.0  \n",
       "392478     0.0     0.0     0.0     0.0  \n",
       "393042     0.0     0.0     0.0     1.0  \n",
       "\n",
       "[21654 rows x 21654 columns]"
      ],
      "text/html": "<div>\n<style scoped>\n    .dataframe tbody tr th:only-of-type {\n        vertical-align: middle;\n    }\n\n    .dataframe tbody tr th {\n        vertical-align: top;\n    }\n\n    .dataframe thead th {\n        text-align: right;\n    }\n</style>\n<table border=\"1\" class=\"dataframe\">\n  <thead>\n    <tr style=\"text-align: right;\">\n      <th></th>\n      <th>1</th>\n      <th>2</th>\n      <th>3</th>\n      <th>9</th>\n      <th>10</th>\n      <th>13</th>\n      <th>14</th>\n      <th>15</th>\n      <th>16</th>\n      <th>17</th>\n      <th>...</th>\n      <th>390987</th>\n      <th>391005</th>\n      <th>391163</th>\n      <th>391340</th>\n      <th>391802</th>\n      <th>392092</th>\n      <th>392165</th>\n      <th>392402</th>\n      <th>392478</th>\n      <th>393042</th>\n    </tr>\n  </thead>\n  <tbody>\n    <tr>\n      <th>1</th>\n      <td>1.0</td>\n      <td>0.000000</td>\n      <td>0.0</td>\n      <td>0.000000</td>\n      <td>0.0</td>\n      <td>0.0</td>\n      <td>0.0</td>\n      <td>0.0</td>\n      <td>0.0</td>\n      <td>0.0</td>\n      <td>...</td>\n      <td>0.0</td>\n      <td>0.0</td>\n      <td>0.0</td>\n      <td>0.0</td>\n      <td>0.0</td>\n      <td>0.0</td>\n      <td>0.0</td>\n      <td>0.0</td>\n      <td>0.0</td>\n      <td>0.0</td>\n    </tr>\n    <tr>\n      <th>2</th>\n      <td>0.0</td>\n      <td>1.000000</td>\n      <td>0.0</td>\n      <td>0.707107</td>\n      <td>0.0</td>\n      <td>0.0</td>\n      <td>0.0</td>\n      <td>0.0</td>\n      <td>0.0</td>\n      <td>0.0</td>\n      <td>...</td>\n      <td>0.0</td>\n      <td>0.0</td>\n      <td>0.0</td>\n      <td>0.0</td>\n      <td>0.0</td>\n      <td>0.0</td>\n      <td>0.0</td>\n      <td>0.0</td>\n      <td>0.0</td>\n      <td>0.0</td>\n    </tr>\n    <tr>\n      <th>3</th>\n      <td>0.0</td>\n      <td>0.000000</td>\n      <td>1.0</td>\n      <td>0.000000</td>\n      <td>0.0</td>\n      <td>0.0</td>\n      <td>0.0</td>\n      <td>0.0</td>\n      <td>0.0</td>\n      <td>0.0</td>\n      <td>...</td>\n      <td>0.0</td>\n      <td>0.0</td>\n      <td>0.0</td>\n      <td>0.0</td>\n      <td>0.0</td>\n      <td>0.0</td>\n      <td>0.0</td>\n      <td>0.0</td>\n      <td>0.0</td>\n      <td>0.0</td>\n    </tr>\n    <tr>\n      <th>9</th>\n      <td>0.0</td>\n      <td>0.707107</td>\n      <td>0.0</td>\n      <td>1.000000</td>\n      <td>0.0</td>\n      <td>0.0</td>\n      <td>0.0</td>\n      <td>0.0</td>\n      <td>0.0</td>\n      <td>0.0</td>\n      <td>...</td>\n      <td>0.0</td>\n      <td>0.0</td>\n      <td>0.0</td>\n      <td>0.0</td>\n      <td>0.0</td>\n      <td>0.0</td>\n      <td>0.0</td>\n      <td>0.0</td>\n      <td>0.0</td>\n      <td>0.0</td>\n    </tr>\n    <tr>\n      <th>10</th>\n      <td>0.0</td>\n      <td>0.000000</td>\n      <td>0.0</td>\n      <td>0.000000</td>\n      <td>0.0</td>\n      <td>0.0</td>\n      <td>0.0</td>\n      <td>0.0</td>\n      <td>0.0</td>\n      <td>0.0</td>\n      <td>...</td>\n      <td>0.0</td>\n      <td>0.0</td>\n      <td>0.0</td>\n      <td>0.0</td>\n      <td>0.0</td>\n      <td>0.0</td>\n      <td>0.0</td>\n      <td>0.0</td>\n      <td>0.0</td>\n      <td>0.0</td>\n    </tr>\n    <tr>\n      <th>...</th>\n      <td>...</td>\n      <td>...</td>\n      <td>...</td>\n      <td>...</td>\n      <td>...</td>\n      <td>...</td>\n      <td>...</td>\n      <td>...</td>\n      <td>...</td>\n      <td>...</td>\n      <td>...</td>\n      <td>...</td>\n      <td>...</td>\n      <td>...</td>\n      <td>...</td>\n      <td>...</td>\n      <td>...</td>\n      <td>...</td>\n      <td>...</td>\n      <td>...</td>\n      <td>...</td>\n    </tr>\n    <tr>\n      <th>392092</th>\n      <td>0.0</td>\n      <td>0.000000</td>\n      <td>0.0</td>\n      <td>0.000000</td>\n      <td>0.0</td>\n      <td>0.0</td>\n      <td>0.0</td>\n      <td>0.0</td>\n      <td>0.0</td>\n      <td>0.0</td>\n      <td>...</td>\n      <td>0.0</td>\n      <td>0.0</td>\n      <td>0.0</td>\n      <td>0.0</td>\n      <td>0.0</td>\n      <td>0.0</td>\n      <td>0.0</td>\n      <td>0.0</td>\n      <td>0.0</td>\n      <td>0.0</td>\n    </tr>\n    <tr>\n      <th>392165</th>\n      <td>0.0</td>\n      <td>0.000000</td>\n      <td>0.0</td>\n      <td>0.000000</td>\n      <td>0.0</td>\n      <td>0.0</td>\n      <td>0.0</td>\n      <td>0.0</td>\n      <td>0.0</td>\n      <td>0.0</td>\n      <td>...</td>\n      <td>0.0</td>\n      <td>0.0</td>\n      <td>0.0</td>\n      <td>0.0</td>\n      <td>0.0</td>\n      <td>0.0</td>\n      <td>1.0</td>\n      <td>0.0</td>\n      <td>0.0</td>\n      <td>0.0</td>\n    </tr>\n    <tr>\n      <th>392402</th>\n      <td>0.0</td>\n      <td>0.000000</td>\n      <td>0.0</td>\n      <td>0.000000</td>\n      <td>0.0</td>\n      <td>0.0</td>\n      <td>0.0</td>\n      <td>0.0</td>\n      <td>0.0</td>\n      <td>0.0</td>\n      <td>...</td>\n      <td>0.0</td>\n      <td>0.0</td>\n      <td>0.0</td>\n      <td>0.0</td>\n      <td>0.0</td>\n      <td>0.0</td>\n      <td>0.0</td>\n      <td>0.0</td>\n      <td>0.0</td>\n      <td>0.0</td>\n    </tr>\n    <tr>\n      <th>392478</th>\n      <td>0.0</td>\n      <td>0.000000</td>\n      <td>0.0</td>\n      <td>0.000000</td>\n      <td>0.0</td>\n      <td>0.0</td>\n      <td>0.0</td>\n      <td>0.0</td>\n      <td>0.0</td>\n      <td>0.0</td>\n      <td>...</td>\n      <td>0.0</td>\n      <td>0.0</td>\n      <td>0.0</td>\n      <td>0.0</td>\n      <td>0.0</td>\n      <td>0.0</td>\n      <td>0.0</td>\n      <td>0.0</td>\n      <td>0.0</td>\n      <td>0.0</td>\n    </tr>\n    <tr>\n      <th>393042</th>\n      <td>0.0</td>\n      <td>0.000000</td>\n      <td>0.0</td>\n      <td>0.000000</td>\n      <td>0.0</td>\n      <td>0.0</td>\n      <td>0.0</td>\n      <td>0.0</td>\n      <td>0.0</td>\n      <td>0.0</td>\n      <td>...</td>\n      <td>0.0</td>\n      <td>0.0</td>\n      <td>0.0</td>\n      <td>0.0</td>\n      <td>0.0</td>\n      <td>0.0</td>\n      <td>0.0</td>\n      <td>0.0</td>\n      <td>0.0</td>\n      <td>1.0</td>\n    </tr>\n  </tbody>\n</table>\n<p>21654 rows × 21654 columns</p>\n</div>"
     },
     "metadata": {},
     "execution_count": 168
    }
   ],
   "source": [
    "sims_df"
   ]
  },
  {
   "cell_type": "code",
   "execution_count": 169,
   "metadata": {},
   "outputs": [],
   "source": [
    "person_to_products = df.loc[new_df.index]"
   ]
  },
  {
   "source": [
    "# Evaluation metrics: All but one"
   ],
   "cell_type": "markdown",
   "metadata": {}
  },
  {
   "cell_type": "code",
   "execution_count": 234,
   "metadata": {},
   "outputs": [
    {
     "output_type": "stream",
     "name": "stdout",
     "text": [
      "Accuracy: 93.00%\n"
     ]
    }
   ],
   "source": [
    "# precompute a set for quick query\n",
    "valid_product_set = set(sims_df.index)\n",
    "\n",
    "# evaluate all - but - one metrics:\n",
    "# steps:\n",
    "# 1: Assume that first valid one is unknown\n",
    "# 2: Calculate prediction value for it\n",
    "# 3: Verdict: +1 to score if pred > THREDSHOLD\n",
    "score = 0\n",
    "\n",
    "for _, sample in X_test.iterrows():\n",
    "    ids = person_to_products.loc[sample.name][\"productId\"]\n",
    "    test_product_id = -1\n",
    "    for id in ids:\n",
    "        if id in valid_product_set:\n",
    "            test_product_id = id\n",
    "            break\n",
    "    # we never get the case where all are invalid !!!\n",
    "    # assume that we didn't know that product is chosen\n",
    "    dot_prod = np.dot(sample, sims_df.loc[test_product_id]) - 1\n",
    "    sum_sims = sims_df.loc[test_product_id].sum() - 1 \n",
    "    if sum_sims < 1e-6: \n",
    "        continue \n",
    "    pred = dot_prod / sum_sims\n",
    "    score = score + (1 if pred > 0 else 0)\n",
    "\n",
    "print(\"Accuracy: %.2f%%\" % (score / len(X_test) * 100))"
   ]
  },
  {
   "cell_type": "code",
   "execution_count": 236,
   "metadata": {},
   "outputs": [
    {
     "output_type": "stream",
     "name": "stdout",
     "text": [
      "Start looking for recommendations ...\n",
      "Looking done in 60.204021692276\n",
      "Recommended products (id, prediction value) =  []\n"
     ]
    }
   ],
   "source": [
    "\n",
    "def give_recommendations(user_sample):\n",
    "    result = []\n",
    "    sample = [0] * len(wish_df.columns)\n",
    "    user_product_set = set(user_sample)\n",
    "    for product_id in user_sample:\n",
    "        sample[product_id] = 1    \n",
    "    for test_product_id in wish_df.columns:\n",
    "        # skip known product\n",
    "        if test_product_id in user_product_set:\n",
    "            continue\n",
    "        # sum(user_sample[i] * sim(test_product_id, i))\n",
    "        dot_prod = np.dot(sample, sims_df.loc[test_product_id]) - 1\n",
    "        # sum(sim(test_product_id, i))\n",
    "        sum_sims = sims_df.loc[test_product_id].sum() - 1\n",
    "        if sum_sims < 1e-6: \n",
    "            continue\n",
    "        pred = dot_prod / sum_sims\n",
    "        if pred > 0:\n",
    "            result.append((test_product_id, pred))\n",
    "    return result\n",
    "\n",
    "import time\n",
    "print(\"Start looking for recommendations ...\")\n",
    "\n",
    "marker = time.time()\n",
    "recommendations = give_recommendations([15, 17])\n",
    "print(\"Looking done in\", time.time()-marker, \" seconds\")\n",
    "\n",
    "print(\"Recommended products (id, prediction value) = \", recommendations)"
   ]
  }
 ]
}